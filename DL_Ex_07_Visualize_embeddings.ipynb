{
 "cells": [
  {
   "cell_type": "code",
   "execution_count": 2,
   "metadata": {},
   "outputs": [],
   "source": [
    "#!pip install -U gensim\n",
    "\n",
    "#(version: 3.8.1)"
   ]
  },
  {
   "cell_type": "markdown",
   "metadata": {},
   "source": [
    "## Learn how to build word2vec using Gensim library  "
   ]
  },
  {
   "cell_type": "markdown",
   "metadata": {},
   "source": [
    "- Gensim is a Python library for topic modelling, document indexing and similarity retrieval with large corpora.\n",
    "\n",
    "- Gensim is one of the popular scientific software packages widely used for building vector space models.\n",
    "\n",
    "- Efficient multicore implementations of popular algorithms, such as online Latent Semantic Analysis (LSA/LSI/SVD), Latent Dirichlet Allocation (LDA), etc., also word2vec deep learning."
   ]
  },
  {
   "cell_type": "code",
   "execution_count": 2,
   "metadata": {},
   "outputs": [],
   "source": [
    "import warnings\n",
    "warnings.filterwarnings('ignore')\n",
    "\n",
    "#data processing\n",
    "import pandas as pd\n",
    "import re\n",
    "\n",
    "#modelling\n",
    "from gensim.models import Word2Vec\n",
    "from gensim.models import Phrases\n",
    "from gensim.models.phrases import Phraser"
   ]
  },
  {
   "cell_type": "markdown",
   "metadata": {},
   "source": [
    "### Load the Data\n",
    "\n",
    "Load the dataset. \n",
    "The dataset used in this section is available in the stud-ip as text.zip"
   ]
  },
  {
   "cell_type": "code",
   "execution_count": 5,
   "metadata": {},
   "outputs": [],
   "source": [
    "data = pd.read_csv('text.csv',header=None)"
   ]
  },
  {
   "cell_type": "code",
   "execution_count": 6,
   "metadata": {},
   "outputs": [
    {
     "data": {
      "text/html": [
       "<div>\n",
       "<style scoped>\n",
       "    .dataframe tbody tr th:only-of-type {\n",
       "        vertical-align: middle;\n",
       "    }\n",
       "\n",
       "    .dataframe tbody tr th {\n",
       "        vertical-align: top;\n",
       "    }\n",
       "\n",
       "    .dataframe thead th {\n",
       "        text-align: right;\n",
       "    }\n",
       "</style>\n",
       "<table border=\"1\" class=\"dataframe\">\n",
       "  <thead>\n",
       "    <tr style=\"text-align: right;\">\n",
       "      <th></th>\n",
       "      <th>0</th>\n",
       "    </tr>\n",
       "  </thead>\n",
       "  <tbody>\n",
       "    <tr>\n",
       "      <th>0</th>\n",
       "      <td>room kind clean strong smell dogs. generally a...</td>\n",
       "    </tr>\n",
       "    <tr>\n",
       "      <th>1</th>\n",
       "      <td>stayed crown plaza april april . staff friendl...</td>\n",
       "    </tr>\n",
       "    <tr>\n",
       "      <th>2</th>\n",
       "      <td>booked hotel hotwire lowest price could find. ...</td>\n",
       "    </tr>\n",
       "    <tr>\n",
       "      <th>3</th>\n",
       "      <td>stayed husband sons way alaska cruise. loved h...</td>\n",
       "    </tr>\n",
       "    <tr>\n",
       "      <th>4</th>\n",
       "      <td>girlfriends stayed celebrate th birthdays. pla...</td>\n",
       "    </tr>\n",
       "  </tbody>\n",
       "</table>\n",
       "</div>"
      ],
      "text/plain": [
       "                                                   0\n",
       "0  room kind clean strong smell dogs. generally a...\n",
       "1  stayed crown plaza april april . staff friendl...\n",
       "2  booked hotel hotwire lowest price could find. ...\n",
       "3  stayed husband sons way alaska cruise. loved h...\n",
       "4  girlfriends stayed celebrate th birthdays. pla..."
      ]
     },
     "execution_count": 6,
     "metadata": {},
     "output_type": "execute_result"
    }
   ],
   "source": [
    "data.head()"
   ]
  },
  {
   "cell_type": "code",
   "execution_count": null,
   "metadata": {},
   "outputs": [],
   "source": []
  },
  {
   "cell_type": "markdown",
   "metadata": {},
   "source": [
    "### Preprocess and prepare the dataset\n",
    "\n",
    "Define a function for preprocessing the data:"
   ]
  },
  {
   "cell_type": "code",
   "execution_count": 7,
   "metadata": {},
   "outputs": [],
   "source": [
    "def pre_process(text):\n",
    "    \n",
    "    #convert to lowercase\n",
    "    text = str(text).lower()\n",
    "    \n",
    "    #remove all special characters and keep only alpha numeric characters and spaces\n",
    "    text = re.sub(r'[^A-Za-z0-9\\s.]',r'',text)\n",
    "    \n",
    "    #remove new lines\n",
    "    text = re.sub(r'\\n',r' ',text)\n",
    "    \n",
    "    \n",
    "    return text"
   ]
  },
  {
   "cell_type": "code",
   "execution_count": 8,
   "metadata": {},
   "outputs": [
    {
     "data": {
      "text/plain": [
       "'agree fancy. everything needed. breakfast pool hot tub nice shuttle airport later checkout time. noise issue tough sleep through. awhile forget noisy door nearby noisy guests. complained management later email credit compd us amount requested would return.'"
      ]
     },
     "execution_count": 8,
     "metadata": {},
     "output_type": "execute_result"
    }
   ],
   "source": [
    "pre_process(data[0][50])"
   ]
  },
  {
   "cell_type": "code",
   "execution_count": null,
   "metadata": {},
   "outputs": [],
   "source": []
  },
  {
   "cell_type": "markdown",
   "metadata": {},
   "source": [
    "#### Preprocess the whole dataset:"
   ]
  },
  {
   "cell_type": "code",
   "execution_count": 9,
   "metadata": {},
   "outputs": [],
   "source": [
    "\n",
    "data[0] = data[0].map(lambda x: pre_process(x))"
   ]
  },
  {
   "cell_type": "code",
   "execution_count": 10,
   "metadata": {
    "scrolled": true
   },
   "outputs": [
    {
     "data": {
      "text/plain": [
       "0    room kind clean strong smell dogs. generally a...\n",
       "1    stayed crown plaza april april . staff friendl...\n",
       "2    booked hotel hotwire lowest price could find. ...\n",
       "3    stayed husband sons way alaska cruise. loved h...\n",
       "4    girlfriends stayed celebrate th birthdays. pla...\n",
       "Name: 0, dtype: object"
      ]
     },
     "execution_count": 10,
     "metadata": {},
     "output_type": "execute_result"
    }
   ],
   "source": [
    "\n",
    "data[0].head()"
   ]
  },
  {
   "cell_type": "code",
   "execution_count": null,
   "metadata": {},
   "outputs": [],
   "source": []
  },
  {
   "cell_type": "markdown",
   "metadata": {},
   "source": [
    "Genism library requires input in the from of list of lists. i.e,\n",
    "\n",
    "text = [ [word1, word2, word3], [word1, word2, word3] ]\n",
    "\n",
    "We know that each row in our data contains a set of sentences.\n",
    "\n",
    "So we split them by '.' and convert them into list i.e,\n",
    "\n"
   ]
  },
  {
   "cell_type": "code",
   "execution_count": 11,
   "metadata": {},
   "outputs": [
    {
     "data": {
      "text/plain": [
       "['stayed crown plaza april april ',\n",
       " ' staff friendly attentive',\n",
       " ' elevators tiny ',\n",
       " ' food restaurant delicious priced little high side',\n",
       " ' course washington dc']"
      ]
     },
     "execution_count": 11,
     "metadata": {},
     "output_type": "execute_result"
    }
   ],
   "source": [
    "\n",
    "data[0][1].split('.')[:5]"
   ]
  },
  {
   "cell_type": "code",
   "execution_count": null,
   "metadata": {},
   "outputs": [],
   "source": []
  },
  {
   "cell_type": "markdown",
   "metadata": {},
   "source": [
    "Now, We have the data in a list.\n",
    "\n",
    "But we need to convert them into a list of lists. \n",
    "\n",
    "So, now again we split them by space ' '. i.e, First we split the data by '.' and then we split them by ' ' so that we can get our data in a list of lists:\n",
    "\n"
   ]
  },
  {
   "cell_type": "code",
   "execution_count": 12,
   "metadata": {},
   "outputs": [],
   "source": [
    "\n",
    "corpus = []\n",
    "for line in data[0][1].split('.'):\n",
    "    words = [x for x in line.split()]\n",
    "    corpus.append(words)"
   ]
  },
  {
   "cell_type": "code",
   "execution_count": null,
   "metadata": {},
   "outputs": [],
   "source": []
  },
  {
   "cell_type": "markdown",
   "metadata": {},
   "source": [
    "As you can see below, we have our inputs in the form of lists of lists:\n",
    "\n"
   ]
  },
  {
   "cell_type": "code",
   "execution_count": 13,
   "metadata": {},
   "outputs": [
    {
     "data": {
      "text/plain": [
       "[['stayed', 'crown', 'plaza', 'april', 'april'],\n",
       " ['staff', 'friendly', 'attentive']]"
      ]
     },
     "execution_count": 13,
     "metadata": {},
     "output_type": "execute_result"
    }
   ],
   "source": [
    "corpus[:2]"
   ]
  },
  {
   "cell_type": "code",
   "execution_count": null,
   "metadata": {},
   "outputs": [],
   "source": []
  },
  {
   "cell_type": "markdown",
   "metadata": {},
   "source": [
    "Convert the whole text in our dataset to a list of lists and build a corpus. \n",
    "\n",
    "Corpus is just the collection of vocabulary.\n",
    "\n"
   ]
  },
  {
   "cell_type": "code",
   "execution_count": 14,
   "metadata": {},
   "outputs": [
    {
     "data": {
      "text/plain": [
       "[['room', 'kind', 'clean', 'strong', 'smell', 'dogs'],\n",
       " ['generally', 'average', 'ok', 'overnight', 'stay', 'youre', 'fussy']]"
      ]
     },
     "execution_count": 14,
     "metadata": {},
     "output_type": "execute_result"
    }
   ],
   "source": [
    "data = data[0].map(lambda x: x.split('.'))\n",
    "\n",
    "corpus = []\n",
    "for i in (range(len(data))):\n",
    "    for line in data[i]:\n",
    "        words = [x for x in line.split()]\n",
    "        corpus.append(words)\n",
    "\n",
    "corpus[:2]"
   ]
  },
  {
   "cell_type": "code",
   "execution_count": null,
   "metadata": {},
   "outputs": [],
   "source": []
  },
  {
   "cell_type": "markdown",
   "metadata": {},
   "source": [
    "#### Imp Note here: Now the problem we have is our corpus contains only unigrams and it will not give us results when we give bigram as an input, for an example say 'san francisco'.\n",
    "\n",
    "So we use gensim's Phrases functions which collect all the words which occur together and add an underscore between them. \n",
    "\n",
    "So now 'san francisco' becomes 'san_francisco'.\n",
    "\n",
    "We set the min_count parameter to 25 which implies we ignore all the words and bigrams which appears lesser than this."
   ]
  },
  {
   "cell_type": "code",
   "execution_count": 15,
   "metadata": {},
   "outputs": [],
   "source": [
    "\n",
    "phrases = Phrases(sentences=corpus,min_count=25,threshold=50)\n",
    "bigram = Phraser(phrases)"
   ]
  },
  {
   "cell_type": "code",
   "execution_count": 16,
   "metadata": {},
   "outputs": [],
   "source": [
    "\n",
    "for index,sentence in enumerate(corpus):\n",
    "    corpus[index] = bigram[sentence]"
   ]
  },
  {
   "cell_type": "markdown",
   "metadata": {},
   "source": [
    "As you can see below underscore has been added to the bigrams in our corpus:\n",
    "\n"
   ]
  },
  {
   "cell_type": "code",
   "execution_count": 17,
   "metadata": {},
   "outputs": [
    {
     "data": {
      "text/plain": [
       "['connected', 'rivercenter', 'mall', 'downtown', 'san_antonio']"
      ]
     },
     "execution_count": 17,
     "metadata": {},
     "output_type": "execute_result"
    }
   ],
   "source": [
    "corpus[111]"
   ]
  },
  {
   "cell_type": "code",
   "execution_count": 18,
   "metadata": {},
   "outputs": [
    {
     "data": {
      "text/plain": [
       "['course', 'washington_dc']"
      ]
     },
     "execution_count": 18,
     "metadata": {},
     "output_type": "execute_result"
    }
   ],
   "source": [
    "corpus[9]"
   ]
  },
  {
   "cell_type": "code",
   "execution_count": null,
   "metadata": {},
   "outputs": [],
   "source": []
  },
  {
   "cell_type": "markdown",
   "metadata": {},
   "source": [
    "## Build the Model\n",
    "\n",
    "Now let us build the model. Let us define some of the important hyperparameters that the model needs.\n",
    "\n",
    "Size represents the size of the vector i.e dimensions of the vector to represent a word.\n",
    "\n",
    "The size can be chosen according to our data size. \n",
    "\n",
    "If our data is very small then we can set our size to a small value, but if we have significantly large dataset then we can set our vector size to 300. \n",
    "\n",
    "In our case, we set our size to 100\n",
    "\n",
    "**Window size** represents the distance that should be considered between the target word and its neighboring word. \n",
    "\n",
    "Words exceeding the window size from the target word will not be considered for learning. \n",
    "\n",
    "Typically, a small window size is preferred.\n",
    "\n",
    "**Min count** represents the minimum frequency of words. i.e if the particular word's occurrence is less than a min_count then we can simply ignore that word.\n",
    "\n",
    "**workers** specify the number of worker threads we need to train the model\n",
    "\n",
    "**sg=1** implies we use **skip-gram** method for training \n",
    "\n",
    "if **sg=0** then it implies we use **CBOW** for training"
   ]
  },
  {
   "cell_type": "code",
   "execution_count": 19,
   "metadata": {},
   "outputs": [],
   "source": [
    "\n",
    "size = 100\n",
    "window_size = 2\n",
    "epochs = 100\n",
    "min_count = 2\n",
    "workers = 4\n",
    "sg = 1"
   ]
  },
  {
   "cell_type": "markdown",
   "metadata": {},
   "source": [
    "#### Train the model:"
   ]
  },
  {
   "cell_type": "code",
   "execution_count": 20,
   "metadata": {},
   "outputs": [],
   "source": [
    "model = Word2Vec(corpus,sg=1,window=window_size,size=size, min_count=min_count,workers=workers,iter=epochs)"
   ]
  },
  {
   "cell_type": "code",
   "execution_count": null,
   "metadata": {},
   "outputs": [],
   "source": []
  },
  {
   "cell_type": "markdown",
   "metadata": {},
   "source": [
    "To save and load the model, we can simply use save and load functions respectivley.\n",
    "\n",
    "Save the model:"
   ]
  },
  {
   "cell_type": "code",
   "execution_count": 22,
   "metadata": {},
   "outputs": [],
   "source": [
    "model.save('word2vec.model')"
   ]
  },
  {
   "cell_type": "code",
   "execution_count": null,
   "metadata": {},
   "outputs": [],
   "source": []
  },
  {
   "cell_type": "markdown",
   "metadata": {},
   "source": [
    "Load the saved word2vec model:"
   ]
  },
  {
   "cell_type": "code",
   "execution_count": 3,
   "metadata": {},
   "outputs": [],
   "source": [
    "model = Word2Vec.load('word2vec.model')"
   ]
  },
  {
   "cell_type": "code",
   "execution_count": null,
   "metadata": {},
   "outputs": [],
   "source": []
  },
  {
   "cell_type": "markdown",
   "metadata": {},
   "source": [
    "### Evaluate the Embeddings\n",
    "\n",
    "After training the model, we evaluate them. Let us see what the model has been learned and **how well it has understood the semantics of words.** \n",
    "\n",
    "Genism provides a **most_similar** function which gives us top similar words related to the given word.\n",
    "\n",
    "As you can see below, given san_deigo as an input we are getting all other related city names as most similar words:"
   ]
  },
  {
   "cell_type": "code",
   "execution_count": 41,
   "metadata": {},
   "outputs": [
    {
     "data": {
      "text/plain": [
       "[('san_antonio', 0.7936885356903076),\n",
       " ('memphis', 0.7627897262573242),\n",
       " ('san_francisco', 0.7551584243774414),\n",
       " ('indianapolis', 0.7499819397926331),\n",
       " ('seattle', 0.7481856346130371),\n",
       " ('austin', 0.7402836084365845),\n",
       " ('phoenix', 0.7345595359802246),\n",
       " ('dallas', 0.7337039709091187),\n",
       " ('boston', 0.7174291610717773),\n",
       " ('dc', 0.7145372033119202)]"
      ]
     },
     "execution_count": 41,
     "metadata": {},
     "output_type": "execute_result"
    }
   ],
   "source": [
    "model.most_similar('san_diego')"
   ]
  },
  {
   "cell_type": "code",
   "execution_count": null,
   "metadata": {},
   "outputs": [],
   "source": []
  },
  {
   "cell_type": "code",
   "execution_count": null,
   "metadata": {},
   "outputs": [],
   "source": [
    "We can also apply arithmetic operations on our vector to check how accurate our vectors are, \n",
    "\n",
    "For instance, woman + king - man = queen:"
   ]
  },
  {
   "cell_type": "code",
   "execution_count": 42,
   "metadata": {},
   "outputs": [
    {
     "data": {
      "text/plain": [
       "[('queen', 0.7129390835762024)]"
      ]
     },
     "execution_count": 42,
     "metadata": {},
     "output_type": "execute_result"
    }
   ],
   "source": [
    "model.most_similar(positive=['woman', 'king'], negative=['man'], topn=1)\n"
   ]
  },
  {
   "cell_type": "code",
   "execution_count": null,
   "metadata": {},
   "outputs": [],
   "source": []
  },
  {
   "cell_type": "markdown",
   "metadata": {},
   "source": [
    "We can also find the words that do not match in the given set of words, \n",
    "\n",
    "for instance in the below list called text except the word **holiday** all others are city names and since our word2vec has understood the semantics of each word it returns the word **holiday** as the one that does not match with the other words in the list."
   ]
  },
  {
   "cell_type": "code",
   "execution_count": 43,
   "metadata": {},
   "outputs": [
    {
     "data": {
      "text/plain": [
       "'holiday'"
      ]
     },
     "execution_count": 43,
     "metadata": {},
     "output_type": "execute_result"
    }
   ],
   "source": [
    "\n",
    "text = ['los_angeles','indianapolis', 'holiday', 'san_antonio','new_york']\n",
    "\n",
    "model.doesnt_match(text)"
   ]
  },
  {
   "cell_type": "code",
   "execution_count": 44,
   "metadata": {},
   "outputs": [
    {
     "data": {
      "text/plain": [
       "array([ 0.42193502, -0.10251976, -0.720918  ,  0.6105536 ,  0.36493096,\n",
       "       -0.07195052, -0.44826135,  1.3847975 ,  0.8001965 ,  0.71533185,\n",
       "       -0.36454782, -0.3125538 ,  0.24815202, -0.8110588 , -0.07720787,\n",
       "        0.04969982,  0.1783642 , -0.08668404,  0.26465738,  0.3912528 ,\n",
       "        0.17987198,  0.26718253, -0.48053983, -0.4797327 ,  0.6543521 ,\n",
       "       -0.21470922, -0.68643093,  0.55414003,  0.39196506, -0.28634855,\n",
       "        0.2353347 ,  0.13259031, -0.26475456,  0.23415758,  0.25091097,\n",
       "       -0.07049581, -0.11230239,  0.5182959 ,  0.71435666, -0.32389894,\n",
       "       -0.03413339,  0.06624817, -0.36405706,  0.46384203, -0.24500957,\n",
       "        0.06160019, -0.08657636, -0.3759056 ,  0.16949706,  0.38994578,\n",
       "       -0.4233215 ,  0.1287215 , -0.47454262, -0.98818046, -0.6111996 ,\n",
       "       -0.08845171,  0.00723953,  0.48585814, -0.3431493 , -0.243574  ,\n",
       "       -0.02992592, -0.43366838, -0.0057361 , -0.35540518,  0.1787694 ,\n",
       "       -0.88571674,  0.16730392,  0.09647977,  0.16028388,  0.15541115,\n",
       "        0.22720909,  0.72443455, -0.36233613, -0.91752046,  1.1069067 ,\n",
       "       -0.02081668,  0.1668661 , -0.4571299 ,  0.60108024,  0.4112254 ,\n",
       "       -0.23933443, -0.15645559,  0.2601893 ,  0.03948019,  0.64718276,\n",
       "        0.71847737,  1.1430806 , -0.27624533,  0.01876486, -0.06341109,\n",
       "       -0.69540954,  0.07007207,  0.33544537,  0.23423275, -0.3034695 ,\n",
       "       -0.27599087,  0.7762139 , -0.4524287 , -0.32913014,  0.33869094],\n",
       "      dtype=float32)"
      ]
     },
     "execution_count": 44,
     "metadata": {},
     "output_type": "execute_result"
    }
   ],
   "source": [
    "model.wv['trump']"
   ]
  },
  {
   "cell_type": "code",
   "execution_count": 57,
   "metadata": {},
   "outputs": [],
   "source": []
  },
  {
   "cell_type": "code",
   "execution_count": 59,
   "metadata": {},
   "outputs": [
    {
     "name": "stdout",
     "output_type": "stream",
     "text": [
      "[-0.7426806  -0.5203897  -0.6441509   0.40882307 -0.18307236 -0.37786403\n",
      " -0.72099924 -0.01616677 -0.06405526 -0.7296605  -0.31601062 -0.43378994\n",
      "  0.21064402  0.0899148   0.26102716  0.13957216  0.02967685 -0.5878121\n",
      " -0.02897648  0.34341428  0.07325852  0.13932614 -0.23032288  0.25419417\n",
      " -0.4080993   0.3969561  -0.5471775  -0.04228779  0.0018329  -0.5614577\n",
      "  0.17858143  0.3934703  -0.57301027  0.0105887  -0.04403292 -0.19895205\n",
      "  0.57538706 -0.2159755   0.02700089  0.62196076  0.03218001  0.24420056\n",
      "  0.15480316 -0.299181   -0.53105706  0.36988187 -0.6848749   0.9290258\n",
      "  0.7539003   0.6986771   0.1440303   0.27483815 -0.44512242 -0.18586266\n",
      "  0.25002274 -0.45311582 -0.64454323 -0.1145201   0.21763796 -0.2727999\n",
      "  0.2655212  -0.0868706  -0.42624128 -0.15778267 -0.33070797 -0.10800593\n",
      "  0.11343816  0.45160013  0.6853991   0.69043833  0.12462872  0.26633132\n",
      " -0.10661864 -1.3999888   0.57867616 -0.38800424  0.32449552 -0.09559426\n",
      "  0.21833803  0.3954816   0.20371053  0.46807915  0.6576896   0.32951406\n",
      "  0.23359534  0.01191983  0.00728051  0.6312793  -0.06901804 -0.5657904\n",
      "  0.14620441  0.6091066  -1.0518587   0.38956702 -0.30954754 -0.06208436\n",
      " -0.66336125  0.13277385 -0.2966405   0.44137424]\n"
     ]
    }
   ],
   "source": [
    "print(model['computer']) "
   ]
  },
  {
   "cell_type": "code",
   "execution_count": null,
   "metadata": {},
   "outputs": [],
   "source": []
  },
  {
   "cell_type": "code",
   "execution_count": null,
   "metadata": {},
   "outputs": [],
   "source": []
  },
  {
   "cell_type": "markdown",
   "metadata": {},
   "source": [
    "#### Display a spatial map (i.e., scatterplot) with similar words from Word2Vec. \n",
    "\n"
   ]
  },
  {
   "cell_type": "code",
   "execution_count": 6,
   "metadata": {},
   "outputs": [],
   "source": [
    "# Need the interactive Tools for Matplotlib\n",
    "%matplotlib notebook\n",
    "import numpy as np\n",
    "import matplotlib.pyplot as plt\n",
    " \n",
    "from sklearn.manifold import TSNE"
   ]
  },
  {
   "cell_type": "markdown",
   "metadata": {},
   "source": [
    "TSNE: t-distributed Stochastic Neighbor Embedding.\n",
    "\n",
    "t-SNE is a tool to visualize high-dimensional data.\n",
    "\n",
    "It is highly recommended to use another dimensionality reduction method (e.g. PCA for dense data or TruncatedSVD for sparse data) to reduce the number of dimensions to a reasonable amount (e.g. 50) if the number of features is very high."
   ]
  },
  {
   "cell_type": "code",
   "execution_count": 3,
   "metadata": {},
   "outputs": [],
   "source": [
    "def closestwords_tsnescatterplot(model, word):\n",
    "    \n",
    "    arr = np.empty((0,100), dtype='f')\n",
    "    word_labels = [word]\n",
    "\n",
    "    # get close words\n",
    "    close_words = model.similar_by_word(word)\n",
    "    \n",
    "    # add the vector for each of the closest words to the array\n",
    "    arr = np.append(arr, np.array([model[word]]), axis=0)\n",
    "    for wrd_score in close_words:\n",
    "        wrd_vector = model[wrd_score[0]]\n",
    "        word_labels.append(wrd_score[0])\n",
    "        arr = np.append(arr, np.array([wrd_vector]), axis=0)\n",
    "        \n",
    "    # find tsne coords for 2 dimensions\n",
    "    tsne = TSNE(n_components=2, random_state=0)\n",
    "    np.set_printoptions(suppress=True)\n",
    "    Y = tsne.fit_transform(arr)\n",
    "\n",
    "    x_coords = Y[:, 0]\n",
    "    y_coords = Y[:, 1]\n",
    "    # display scatter plot\n",
    "    plt.scatter(x_coords, y_coords)\n",
    "\n",
    "    for label, x, y in zip(word_labels, x_coords, y_coords):\n",
    "        plt.annotate(label, xy=(x, y), xytext=(0, 0), textcoords='offset points')\n",
    "    plt.xlim(x_coords.min()+0.005, x_coords.max()+0.005)\n",
    "    plt.ylim(y_coords.min()+0.005, y_coords.max()+0.005)\n",
    "    plt.show()"
   ]
  },
  {
   "cell_type": "code",
   "execution_count": 4,
   "metadata": {},
   "outputs": [
    {
     "ename": "NameError",
     "evalue": "name 'model' is not defined",
     "output_type": "error",
     "traceback": [
      "\u001b[0;31m---------------------------------------------------------------------------\u001b[0m",
      "\u001b[0;31mNameError\u001b[0m                                 Traceback (most recent call last)",
      "\u001b[0;32m<ipython-input-4-ce97689aa573>\u001b[0m in \u001b[0;36m<module>\u001b[0;34m\u001b[0m\n\u001b[0;32m----> 1\u001b[0;31m \u001b[0mclosestwords_tsnescatterplot\u001b[0m\u001b[0;34m(\u001b[0m\u001b[0mmodel\u001b[0m\u001b[0;34m,\u001b[0m \u001b[0;34m'tasty'\u001b[0m\u001b[0;34m)\u001b[0m\u001b[0;34m\u001b[0m\u001b[0;34m\u001b[0m\u001b[0m\n\u001b[0m",
      "\u001b[0;31mNameError\u001b[0m: name 'model' is not defined"
     ]
    }
   ],
   "source": [
    "closestwords_tsnescatterplot(model, 'tasty')"
   ]
  },
  {
   "cell_type": "code",
   "execution_count": 12,
   "metadata": {},
   "outputs": [
    {
     "data": {
      "application/javascript": [
       "/* Put everything inside the global mpl namespace */\n",
       "window.mpl = {};\n",
       "\n",
       "\n",
       "mpl.get_websocket_type = function() {\n",
       "    if (typeof(WebSocket) !== 'undefined') {\n",
       "        return WebSocket;\n",
       "    } else if (typeof(MozWebSocket) !== 'undefined') {\n",
       "        return MozWebSocket;\n",
       "    } else {\n",
       "        alert('Your browser does not have WebSocket support. ' +\n",
       "              'Please try Chrome, Safari or Firefox ≥ 6. ' +\n",
       "              'Firefox 4 and 5 are also supported but you ' +\n",
       "              'have to enable WebSockets in about:config.');\n",
       "    };\n",
       "}\n",
       "\n",
       "mpl.figure = function(figure_id, websocket, ondownload, parent_element) {\n",
       "    this.id = figure_id;\n",
       "\n",
       "    this.ws = websocket;\n",
       "\n",
       "    this.supports_binary = (this.ws.binaryType != undefined);\n",
       "\n",
       "    if (!this.supports_binary) {\n",
       "        var warnings = document.getElementById(\"mpl-warnings\");\n",
       "        if (warnings) {\n",
       "            warnings.style.display = 'block';\n",
       "            warnings.textContent = (\n",
       "                \"This browser does not support binary websocket messages. \" +\n",
       "                    \"Performance may be slow.\");\n",
       "        }\n",
       "    }\n",
       "\n",
       "    this.imageObj = new Image();\n",
       "\n",
       "    this.context = undefined;\n",
       "    this.message = undefined;\n",
       "    this.canvas = undefined;\n",
       "    this.rubberband_canvas = undefined;\n",
       "    this.rubberband_context = undefined;\n",
       "    this.format_dropdown = undefined;\n",
       "\n",
       "    this.image_mode = 'full';\n",
       "\n",
       "    this.root = $('<div/>');\n",
       "    this._root_extra_style(this.root)\n",
       "    this.root.attr('style', 'display: inline-block');\n",
       "\n",
       "    $(parent_element).append(this.root);\n",
       "\n",
       "    this._init_header(this);\n",
       "    this._init_canvas(this);\n",
       "    this._init_toolbar(this);\n",
       "\n",
       "    var fig = this;\n",
       "\n",
       "    this.waiting = false;\n",
       "\n",
       "    this.ws.onopen =  function () {\n",
       "            fig.send_message(\"supports_binary\", {value: fig.supports_binary});\n",
       "            fig.send_message(\"send_image_mode\", {});\n",
       "            if (mpl.ratio != 1) {\n",
       "                fig.send_message(\"set_dpi_ratio\", {'dpi_ratio': mpl.ratio});\n",
       "            }\n",
       "            fig.send_message(\"refresh\", {});\n",
       "        }\n",
       "\n",
       "    this.imageObj.onload = function() {\n",
       "            if (fig.image_mode == 'full') {\n",
       "                // Full images could contain transparency (where diff images\n",
       "                // almost always do), so we need to clear the canvas so that\n",
       "                // there is no ghosting.\n",
       "                fig.context.clearRect(0, 0, fig.canvas.width, fig.canvas.height);\n",
       "            }\n",
       "            fig.context.drawImage(fig.imageObj, 0, 0);\n",
       "        };\n",
       "\n",
       "    this.imageObj.onunload = function() {\n",
       "        fig.ws.close();\n",
       "    }\n",
       "\n",
       "    this.ws.onmessage = this._make_on_message_function(this);\n",
       "\n",
       "    this.ondownload = ondownload;\n",
       "}\n",
       "\n",
       "mpl.figure.prototype._init_header = function() {\n",
       "    var titlebar = $(\n",
       "        '<div class=\"ui-dialog-titlebar ui-widget-header ui-corner-all ' +\n",
       "        'ui-helper-clearfix\"/>');\n",
       "    var titletext = $(\n",
       "        '<div class=\"ui-dialog-title\" style=\"width: 100%; ' +\n",
       "        'text-align: center; padding: 3px;\"/>');\n",
       "    titlebar.append(titletext)\n",
       "    this.root.append(titlebar);\n",
       "    this.header = titletext[0];\n",
       "}\n",
       "\n",
       "\n",
       "\n",
       "mpl.figure.prototype._canvas_extra_style = function(canvas_div) {\n",
       "\n",
       "}\n",
       "\n",
       "\n",
       "mpl.figure.prototype._root_extra_style = function(canvas_div) {\n",
       "\n",
       "}\n",
       "\n",
       "mpl.figure.prototype._init_canvas = function() {\n",
       "    var fig = this;\n",
       "\n",
       "    var canvas_div = $('<div/>');\n",
       "\n",
       "    canvas_div.attr('style', 'position: relative; clear: both; outline: 0');\n",
       "\n",
       "    function canvas_keyboard_event(event) {\n",
       "        return fig.key_event(event, event['data']);\n",
       "    }\n",
       "\n",
       "    canvas_div.keydown('key_press', canvas_keyboard_event);\n",
       "    canvas_div.keyup('key_release', canvas_keyboard_event);\n",
       "    this.canvas_div = canvas_div\n",
       "    this._canvas_extra_style(canvas_div)\n",
       "    this.root.append(canvas_div);\n",
       "\n",
       "    var canvas = $('<canvas/>');\n",
       "    canvas.addClass('mpl-canvas');\n",
       "    canvas.attr('style', \"left: 0; top: 0; z-index: 0; outline: 0\")\n",
       "\n",
       "    this.canvas = canvas[0];\n",
       "    this.context = canvas[0].getContext(\"2d\");\n",
       "\n",
       "    var backingStore = this.context.backingStorePixelRatio ||\n",
       "\tthis.context.webkitBackingStorePixelRatio ||\n",
       "\tthis.context.mozBackingStorePixelRatio ||\n",
       "\tthis.context.msBackingStorePixelRatio ||\n",
       "\tthis.context.oBackingStorePixelRatio ||\n",
       "\tthis.context.backingStorePixelRatio || 1;\n",
       "\n",
       "    mpl.ratio = (window.devicePixelRatio || 1) / backingStore;\n",
       "\n",
       "    var rubberband = $('<canvas/>');\n",
       "    rubberband.attr('style', \"position: absolute; left: 0; top: 0; z-index: 1;\")\n",
       "\n",
       "    var pass_mouse_events = true;\n",
       "\n",
       "    canvas_div.resizable({\n",
       "        start: function(event, ui) {\n",
       "            pass_mouse_events = false;\n",
       "        },\n",
       "        resize: function(event, ui) {\n",
       "            fig.request_resize(ui.size.width, ui.size.height);\n",
       "        },\n",
       "        stop: function(event, ui) {\n",
       "            pass_mouse_events = true;\n",
       "            fig.request_resize(ui.size.width, ui.size.height);\n",
       "        },\n",
       "    });\n",
       "\n",
       "    function mouse_event_fn(event) {\n",
       "        if (pass_mouse_events)\n",
       "            return fig.mouse_event(event, event['data']);\n",
       "    }\n",
       "\n",
       "    rubberband.mousedown('button_press', mouse_event_fn);\n",
       "    rubberband.mouseup('button_release', mouse_event_fn);\n",
       "    // Throttle sequential mouse events to 1 every 20ms.\n",
       "    rubberband.mousemove('motion_notify', mouse_event_fn);\n",
       "\n",
       "    rubberband.mouseenter('figure_enter', mouse_event_fn);\n",
       "    rubberband.mouseleave('figure_leave', mouse_event_fn);\n",
       "\n",
       "    canvas_div.on(\"wheel\", function (event) {\n",
       "        event = event.originalEvent;\n",
       "        event['data'] = 'scroll'\n",
       "        if (event.deltaY < 0) {\n",
       "            event.step = 1;\n",
       "        } else {\n",
       "            event.step = -1;\n",
       "        }\n",
       "        mouse_event_fn(event);\n",
       "    });\n",
       "\n",
       "    canvas_div.append(canvas);\n",
       "    canvas_div.append(rubberband);\n",
       "\n",
       "    this.rubberband = rubberband;\n",
       "    this.rubberband_canvas = rubberband[0];\n",
       "    this.rubberband_context = rubberband[0].getContext(\"2d\");\n",
       "    this.rubberband_context.strokeStyle = \"#000000\";\n",
       "\n",
       "    this._resize_canvas = function(width, height) {\n",
       "        // Keep the size of the canvas, canvas container, and rubber band\n",
       "        // canvas in synch.\n",
       "        canvas_div.css('width', width)\n",
       "        canvas_div.css('height', height)\n",
       "\n",
       "        canvas.attr('width', width * mpl.ratio);\n",
       "        canvas.attr('height', height * mpl.ratio);\n",
       "        canvas.attr('style', 'width: ' + width + 'px; height: ' + height + 'px;');\n",
       "\n",
       "        rubberband.attr('width', width);\n",
       "        rubberband.attr('height', height);\n",
       "    }\n",
       "\n",
       "    // Set the figure to an initial 600x600px, this will subsequently be updated\n",
       "    // upon first draw.\n",
       "    this._resize_canvas(600, 600);\n",
       "\n",
       "    // Disable right mouse context menu.\n",
       "    $(this.rubberband_canvas).bind(\"contextmenu\",function(e){\n",
       "        return false;\n",
       "    });\n",
       "\n",
       "    function set_focus () {\n",
       "        canvas.focus();\n",
       "        canvas_div.focus();\n",
       "    }\n",
       "\n",
       "    window.setTimeout(set_focus, 100);\n",
       "}\n",
       "\n",
       "mpl.figure.prototype._init_toolbar = function() {\n",
       "    var fig = this;\n",
       "\n",
       "    var nav_element = $('<div/>');\n",
       "    nav_element.attr('style', 'width: 100%');\n",
       "    this.root.append(nav_element);\n",
       "\n",
       "    // Define a callback function for later on.\n",
       "    function toolbar_event(event) {\n",
       "        return fig.toolbar_button_onclick(event['data']);\n",
       "    }\n",
       "    function toolbar_mouse_event(event) {\n",
       "        return fig.toolbar_button_onmouseover(event['data']);\n",
       "    }\n",
       "\n",
       "    for(var toolbar_ind in mpl.toolbar_items) {\n",
       "        var name = mpl.toolbar_items[toolbar_ind][0];\n",
       "        var tooltip = mpl.toolbar_items[toolbar_ind][1];\n",
       "        var image = mpl.toolbar_items[toolbar_ind][2];\n",
       "        var method_name = mpl.toolbar_items[toolbar_ind][3];\n",
       "\n",
       "        if (!name) {\n",
       "            // put a spacer in here.\n",
       "            continue;\n",
       "        }\n",
       "        var button = $('<button/>');\n",
       "        button.addClass('ui-button ui-widget ui-state-default ui-corner-all ' +\n",
       "                        'ui-button-icon-only');\n",
       "        button.attr('role', 'button');\n",
       "        button.attr('aria-disabled', 'false');\n",
       "        button.click(method_name, toolbar_event);\n",
       "        button.mouseover(tooltip, toolbar_mouse_event);\n",
       "\n",
       "        var icon_img = $('<span/>');\n",
       "        icon_img.addClass('ui-button-icon-primary ui-icon');\n",
       "        icon_img.addClass(image);\n",
       "        icon_img.addClass('ui-corner-all');\n",
       "\n",
       "        var tooltip_span = $('<span/>');\n",
       "        tooltip_span.addClass('ui-button-text');\n",
       "        tooltip_span.html(tooltip);\n",
       "\n",
       "        button.append(icon_img);\n",
       "        button.append(tooltip_span);\n",
       "\n",
       "        nav_element.append(button);\n",
       "    }\n",
       "\n",
       "    var fmt_picker_span = $('<span/>');\n",
       "\n",
       "    var fmt_picker = $('<select/>');\n",
       "    fmt_picker.addClass('mpl-toolbar-option ui-widget ui-widget-content');\n",
       "    fmt_picker_span.append(fmt_picker);\n",
       "    nav_element.append(fmt_picker_span);\n",
       "    this.format_dropdown = fmt_picker[0];\n",
       "\n",
       "    for (var ind in mpl.extensions) {\n",
       "        var fmt = mpl.extensions[ind];\n",
       "        var option = $(\n",
       "            '<option/>', {selected: fmt === mpl.default_extension}).html(fmt);\n",
       "        fmt_picker.append(option);\n",
       "    }\n",
       "\n",
       "    // Add hover states to the ui-buttons\n",
       "    $( \".ui-button\" ).hover(\n",
       "        function() { $(this).addClass(\"ui-state-hover\");},\n",
       "        function() { $(this).removeClass(\"ui-state-hover\");}\n",
       "    );\n",
       "\n",
       "    var status_bar = $('<span class=\"mpl-message\"/>');\n",
       "    nav_element.append(status_bar);\n",
       "    this.message = status_bar[0];\n",
       "}\n",
       "\n",
       "mpl.figure.prototype.request_resize = function(x_pixels, y_pixels) {\n",
       "    // Request matplotlib to resize the figure. Matplotlib will then trigger a resize in the client,\n",
       "    // which will in turn request a refresh of the image.\n",
       "    this.send_message('resize', {'width': x_pixels, 'height': y_pixels});\n",
       "}\n",
       "\n",
       "mpl.figure.prototype.send_message = function(type, properties) {\n",
       "    properties['type'] = type;\n",
       "    properties['figure_id'] = this.id;\n",
       "    this.ws.send(JSON.stringify(properties));\n",
       "}\n",
       "\n",
       "mpl.figure.prototype.send_draw_message = function() {\n",
       "    if (!this.waiting) {\n",
       "        this.waiting = true;\n",
       "        this.ws.send(JSON.stringify({type: \"draw\", figure_id: this.id}));\n",
       "    }\n",
       "}\n",
       "\n",
       "\n",
       "mpl.figure.prototype.handle_save = function(fig, msg) {\n",
       "    var format_dropdown = fig.format_dropdown;\n",
       "    var format = format_dropdown.options[format_dropdown.selectedIndex].value;\n",
       "    fig.ondownload(fig, format);\n",
       "}\n",
       "\n",
       "\n",
       "mpl.figure.prototype.handle_resize = function(fig, msg) {\n",
       "    var size = msg['size'];\n",
       "    if (size[0] != fig.canvas.width || size[1] != fig.canvas.height) {\n",
       "        fig._resize_canvas(size[0], size[1]);\n",
       "        fig.send_message(\"refresh\", {});\n",
       "    };\n",
       "}\n",
       "\n",
       "mpl.figure.prototype.handle_rubberband = function(fig, msg) {\n",
       "    var x0 = msg['x0'] / mpl.ratio;\n",
       "    var y0 = (fig.canvas.height - msg['y0']) / mpl.ratio;\n",
       "    var x1 = msg['x1'] / mpl.ratio;\n",
       "    var y1 = (fig.canvas.height - msg['y1']) / mpl.ratio;\n",
       "    x0 = Math.floor(x0) + 0.5;\n",
       "    y0 = Math.floor(y0) + 0.5;\n",
       "    x1 = Math.floor(x1) + 0.5;\n",
       "    y1 = Math.floor(y1) + 0.5;\n",
       "    var min_x = Math.min(x0, x1);\n",
       "    var min_y = Math.min(y0, y1);\n",
       "    var width = Math.abs(x1 - x0);\n",
       "    var height = Math.abs(y1 - y0);\n",
       "\n",
       "    fig.rubberband_context.clearRect(\n",
       "        0, 0, fig.canvas.width, fig.canvas.height);\n",
       "\n",
       "    fig.rubberband_context.strokeRect(min_x, min_y, width, height);\n",
       "}\n",
       "\n",
       "mpl.figure.prototype.handle_figure_label = function(fig, msg) {\n",
       "    // Updates the figure title.\n",
       "    fig.header.textContent = msg['label'];\n",
       "}\n",
       "\n",
       "mpl.figure.prototype.handle_cursor = function(fig, msg) {\n",
       "    var cursor = msg['cursor'];\n",
       "    switch(cursor)\n",
       "    {\n",
       "    case 0:\n",
       "        cursor = 'pointer';\n",
       "        break;\n",
       "    case 1:\n",
       "        cursor = 'default';\n",
       "        break;\n",
       "    case 2:\n",
       "        cursor = 'crosshair';\n",
       "        break;\n",
       "    case 3:\n",
       "        cursor = 'move';\n",
       "        break;\n",
       "    }\n",
       "    fig.rubberband_canvas.style.cursor = cursor;\n",
       "}\n",
       "\n",
       "mpl.figure.prototype.handle_message = function(fig, msg) {\n",
       "    fig.message.textContent = msg['message'];\n",
       "}\n",
       "\n",
       "mpl.figure.prototype.handle_draw = function(fig, msg) {\n",
       "    // Request the server to send over a new figure.\n",
       "    fig.send_draw_message();\n",
       "}\n",
       "\n",
       "mpl.figure.prototype.handle_image_mode = function(fig, msg) {\n",
       "    fig.image_mode = msg['mode'];\n",
       "}\n",
       "\n",
       "mpl.figure.prototype.updated_canvas_event = function() {\n",
       "    // Called whenever the canvas gets updated.\n",
       "    this.send_message(\"ack\", {});\n",
       "}\n",
       "\n",
       "// A function to construct a web socket function for onmessage handling.\n",
       "// Called in the figure constructor.\n",
       "mpl.figure.prototype._make_on_message_function = function(fig) {\n",
       "    return function socket_on_message(evt) {\n",
       "        if (evt.data instanceof Blob) {\n",
       "            /* FIXME: We get \"Resource interpreted as Image but\n",
       "             * transferred with MIME type text/plain:\" errors on\n",
       "             * Chrome.  But how to set the MIME type?  It doesn't seem\n",
       "             * to be part of the websocket stream */\n",
       "            evt.data.type = \"image/png\";\n",
       "\n",
       "            /* Free the memory for the previous frames */\n",
       "            if (fig.imageObj.src) {\n",
       "                (window.URL || window.webkitURL).revokeObjectURL(\n",
       "                    fig.imageObj.src);\n",
       "            }\n",
       "\n",
       "            fig.imageObj.src = (window.URL || window.webkitURL).createObjectURL(\n",
       "                evt.data);\n",
       "            fig.updated_canvas_event();\n",
       "            fig.waiting = false;\n",
       "            return;\n",
       "        }\n",
       "        else if (typeof evt.data === 'string' && evt.data.slice(0, 21) == \"data:image/png;base64\") {\n",
       "            fig.imageObj.src = evt.data;\n",
       "            fig.updated_canvas_event();\n",
       "            fig.waiting = false;\n",
       "            return;\n",
       "        }\n",
       "\n",
       "        var msg = JSON.parse(evt.data);\n",
       "        var msg_type = msg['type'];\n",
       "\n",
       "        // Call the  \"handle_{type}\" callback, which takes\n",
       "        // the figure and JSON message as its only arguments.\n",
       "        try {\n",
       "            var callback = fig[\"handle_\" + msg_type];\n",
       "        } catch (e) {\n",
       "            console.log(\"No handler for the '\" + msg_type + \"' message type: \", msg);\n",
       "            return;\n",
       "        }\n",
       "\n",
       "        if (callback) {\n",
       "            try {\n",
       "                // console.log(\"Handling '\" + msg_type + \"' message: \", msg);\n",
       "                callback(fig, msg);\n",
       "            } catch (e) {\n",
       "                console.log(\"Exception inside the 'handler_\" + msg_type + \"' callback:\", e, e.stack, msg);\n",
       "            }\n",
       "        }\n",
       "    };\n",
       "}\n",
       "\n",
       "// from http://stackoverflow.com/questions/1114465/getting-mouse-location-in-canvas\n",
       "mpl.findpos = function(e) {\n",
       "    //this section is from http://www.quirksmode.org/js/events_properties.html\n",
       "    var targ;\n",
       "    if (!e)\n",
       "        e = window.event;\n",
       "    if (e.target)\n",
       "        targ = e.target;\n",
       "    else if (e.srcElement)\n",
       "        targ = e.srcElement;\n",
       "    if (targ.nodeType == 3) // defeat Safari bug\n",
       "        targ = targ.parentNode;\n",
       "\n",
       "    // jQuery normalizes the pageX and pageY\n",
       "    // pageX,Y are the mouse positions relative to the document\n",
       "    // offset() returns the position of the element relative to the document\n",
       "    var x = e.pageX - $(targ).offset().left;\n",
       "    var y = e.pageY - $(targ).offset().top;\n",
       "\n",
       "    return {\"x\": x, \"y\": y};\n",
       "};\n",
       "\n",
       "/*\n",
       " * return a copy of an object with only non-object keys\n",
       " * we need this to avoid circular references\n",
       " * http://stackoverflow.com/a/24161582/3208463\n",
       " */\n",
       "function simpleKeys (original) {\n",
       "  return Object.keys(original).reduce(function (obj, key) {\n",
       "    if (typeof original[key] !== 'object')\n",
       "        obj[key] = original[key]\n",
       "    return obj;\n",
       "  }, {});\n",
       "}\n",
       "\n",
       "mpl.figure.prototype.mouse_event = function(event, name) {\n",
       "    var canvas_pos = mpl.findpos(event)\n",
       "\n",
       "    if (name === 'button_press')\n",
       "    {\n",
       "        this.canvas.focus();\n",
       "        this.canvas_div.focus();\n",
       "    }\n",
       "\n",
       "    var x = canvas_pos.x * mpl.ratio;\n",
       "    var y = canvas_pos.y * mpl.ratio;\n",
       "\n",
       "    this.send_message(name, {x: x, y: y, button: event.button,\n",
       "                             step: event.step,\n",
       "                             guiEvent: simpleKeys(event)});\n",
       "\n",
       "    /* This prevents the web browser from automatically changing to\n",
       "     * the text insertion cursor when the button is pressed.  We want\n",
       "     * to control all of the cursor setting manually through the\n",
       "     * 'cursor' event from matplotlib */\n",
       "    event.preventDefault();\n",
       "    return false;\n",
       "}\n",
       "\n",
       "mpl.figure.prototype._key_event_extra = function(event, name) {\n",
       "    // Handle any extra behaviour associated with a key event\n",
       "}\n",
       "\n",
       "mpl.figure.prototype.key_event = function(event, name) {\n",
       "\n",
       "    // Prevent repeat events\n",
       "    if (name == 'key_press')\n",
       "    {\n",
       "        if (event.which === this._key)\n",
       "            return;\n",
       "        else\n",
       "            this._key = event.which;\n",
       "    }\n",
       "    if (name == 'key_release')\n",
       "        this._key = null;\n",
       "\n",
       "    var value = '';\n",
       "    if (event.ctrlKey && event.which != 17)\n",
       "        value += \"ctrl+\";\n",
       "    if (event.altKey && event.which != 18)\n",
       "        value += \"alt+\";\n",
       "    if (event.shiftKey && event.which != 16)\n",
       "        value += \"shift+\";\n",
       "\n",
       "    value += 'k';\n",
       "    value += event.which.toString();\n",
       "\n",
       "    this._key_event_extra(event, name);\n",
       "\n",
       "    this.send_message(name, {key: value,\n",
       "                             guiEvent: simpleKeys(event)});\n",
       "    return false;\n",
       "}\n",
       "\n",
       "mpl.figure.prototype.toolbar_button_onclick = function(name) {\n",
       "    if (name == 'download') {\n",
       "        this.handle_save(this, null);\n",
       "    } else {\n",
       "        this.send_message(\"toolbar_button\", {name: name});\n",
       "    }\n",
       "};\n",
       "\n",
       "mpl.figure.prototype.toolbar_button_onmouseover = function(tooltip) {\n",
       "    this.message.textContent = tooltip;\n",
       "};\n",
       "mpl.toolbar_items = [[\"Home\", \"Reset original view\", \"fa fa-home icon-home\", \"home\"], [\"Back\", \"Back to previous view\", \"fa fa-arrow-left icon-arrow-left\", \"back\"], [\"Forward\", \"Forward to next view\", \"fa fa-arrow-right icon-arrow-right\", \"forward\"], [\"\", \"\", \"\", \"\"], [\"Pan\", \"Pan axes with left mouse, zoom with right\", \"fa fa-arrows icon-move\", \"pan\"], [\"Zoom\", \"Zoom to rectangle\", \"fa fa-square-o icon-check-empty\", \"zoom\"], [\"\", \"\", \"\", \"\"], [\"Download\", \"Download plot\", \"fa fa-floppy-o icon-save\", \"download\"]];\n",
       "\n",
       "mpl.extensions = [\"eps\", \"jpeg\", \"pdf\", \"png\", \"ps\", \"raw\", \"svg\", \"tif\"];\n",
       "\n",
       "mpl.default_extension = \"png\";var comm_websocket_adapter = function(comm) {\n",
       "    // Create a \"websocket\"-like object which calls the given IPython comm\n",
       "    // object with the appropriate methods. Currently this is a non binary\n",
       "    // socket, so there is still some room for performance tuning.\n",
       "    var ws = {};\n",
       "\n",
       "    ws.close = function() {\n",
       "        comm.close()\n",
       "    };\n",
       "    ws.send = function(m) {\n",
       "        //console.log('sending', m);\n",
       "        comm.send(m);\n",
       "    };\n",
       "    // Register the callback with on_msg.\n",
       "    comm.on_msg(function(msg) {\n",
       "        //console.log('receiving', msg['content']['data'], msg);\n",
       "        // Pass the mpl event to the overridden (by mpl) onmessage function.\n",
       "        ws.onmessage(msg['content']['data'])\n",
       "    });\n",
       "    return ws;\n",
       "}\n",
       "\n",
       "mpl.mpl_figure_comm = function(comm, msg) {\n",
       "    // This is the function which gets called when the mpl process\n",
       "    // starts-up an IPython Comm through the \"matplotlib\" channel.\n",
       "\n",
       "    var id = msg.content.data.id;\n",
       "    // Get hold of the div created by the display call when the Comm\n",
       "    // socket was opened in Python.\n",
       "    var element = $(\"#\" + id);\n",
       "    var ws_proxy = comm_websocket_adapter(comm)\n",
       "\n",
       "    function ondownload(figure, format) {\n",
       "        window.open(figure.imageObj.src);\n",
       "    }\n",
       "\n",
       "    var fig = new mpl.figure(id, ws_proxy,\n",
       "                           ondownload,\n",
       "                           element.get(0));\n",
       "\n",
       "    // Call onopen now - mpl needs it, as it is assuming we've passed it a real\n",
       "    // web socket which is closed, not our websocket->open comm proxy.\n",
       "    ws_proxy.onopen();\n",
       "\n",
       "    fig.parent_element = element.get(0);\n",
       "    fig.cell_info = mpl.find_output_cell(\"<div id='\" + id + \"'></div>\");\n",
       "    if (!fig.cell_info) {\n",
       "        console.error(\"Failed to find cell for figure\", id, fig);\n",
       "        return;\n",
       "    }\n",
       "\n",
       "    var output_index = fig.cell_info[2]\n",
       "    var cell = fig.cell_info[0];\n",
       "\n",
       "};\n",
       "\n",
       "mpl.figure.prototype.handle_close = function(fig, msg) {\n",
       "    var width = fig.canvas.width/mpl.ratio\n",
       "    fig.root.unbind('remove')\n",
       "\n",
       "    // Update the output cell to use the data from the current canvas.\n",
       "    fig.push_to_output();\n",
       "    var dataURL = fig.canvas.toDataURL();\n",
       "    // Re-enable the keyboard manager in IPython - without this line, in FF,\n",
       "    // the notebook keyboard shortcuts fail.\n",
       "    IPython.keyboard_manager.enable()\n",
       "    $(fig.parent_element).html('<img src=\"' + dataURL + '\" width=\"' + width + '\">');\n",
       "    fig.close_ws(fig, msg);\n",
       "}\n",
       "\n",
       "mpl.figure.prototype.close_ws = function(fig, msg){\n",
       "    fig.send_message('closing', msg);\n",
       "    // fig.ws.close()\n",
       "}\n",
       "\n",
       "mpl.figure.prototype.push_to_output = function(remove_interactive) {\n",
       "    // Turn the data on the canvas into data in the output cell.\n",
       "    var width = this.canvas.width/mpl.ratio\n",
       "    var dataURL = this.canvas.toDataURL();\n",
       "    this.cell_info[1]['text/html'] = '<img src=\"' + dataURL + '\" width=\"' + width + '\">';\n",
       "}\n",
       "\n",
       "mpl.figure.prototype.updated_canvas_event = function() {\n",
       "    // Tell IPython that the notebook contents must change.\n",
       "    IPython.notebook.set_dirty(true);\n",
       "    this.send_message(\"ack\", {});\n",
       "    var fig = this;\n",
       "    // Wait a second, then push the new image to the DOM so\n",
       "    // that it is saved nicely (might be nice to debounce this).\n",
       "    setTimeout(function () { fig.push_to_output() }, 1000);\n",
       "}\n",
       "\n",
       "mpl.figure.prototype._init_toolbar = function() {\n",
       "    var fig = this;\n",
       "\n",
       "    var nav_element = $('<div/>');\n",
       "    nav_element.attr('style', 'width: 100%');\n",
       "    this.root.append(nav_element);\n",
       "\n",
       "    // Define a callback function for later on.\n",
       "    function toolbar_event(event) {\n",
       "        return fig.toolbar_button_onclick(event['data']);\n",
       "    }\n",
       "    function toolbar_mouse_event(event) {\n",
       "        return fig.toolbar_button_onmouseover(event['data']);\n",
       "    }\n",
       "\n",
       "    for(var toolbar_ind in mpl.toolbar_items){\n",
       "        var name = mpl.toolbar_items[toolbar_ind][0];\n",
       "        var tooltip = mpl.toolbar_items[toolbar_ind][1];\n",
       "        var image = mpl.toolbar_items[toolbar_ind][2];\n",
       "        var method_name = mpl.toolbar_items[toolbar_ind][3];\n",
       "\n",
       "        if (!name) { continue; };\n",
       "\n",
       "        var button = $('<button class=\"btn btn-default\" href=\"#\" title=\"' + name + '\"><i class=\"fa ' + image + ' fa-lg\"></i></button>');\n",
       "        button.click(method_name, toolbar_event);\n",
       "        button.mouseover(tooltip, toolbar_mouse_event);\n",
       "        nav_element.append(button);\n",
       "    }\n",
       "\n",
       "    // Add the status bar.\n",
       "    var status_bar = $('<span class=\"mpl-message\" style=\"text-align:right; float: right;\"/>');\n",
       "    nav_element.append(status_bar);\n",
       "    this.message = status_bar[0];\n",
       "\n",
       "    // Add the close button to the window.\n",
       "    var buttongrp = $('<div class=\"btn-group inline pull-right\"></div>');\n",
       "    var button = $('<button class=\"btn btn-mini btn-primary\" href=\"#\" title=\"Stop Interaction\"><i class=\"fa fa-power-off icon-remove icon-large\"></i></button>');\n",
       "    button.click(function (evt) { fig.handle_close(fig, {}); } );\n",
       "    button.mouseover('Stop Interaction', toolbar_mouse_event);\n",
       "    buttongrp.append(button);\n",
       "    var titlebar = this.root.find($('.ui-dialog-titlebar'));\n",
       "    titlebar.prepend(buttongrp);\n",
       "}\n",
       "\n",
       "mpl.figure.prototype._root_extra_style = function(el){\n",
       "    var fig = this\n",
       "    el.on(\"remove\", function(){\n",
       "\tfig.close_ws(fig, {});\n",
       "    });\n",
       "}\n",
       "\n",
       "mpl.figure.prototype._canvas_extra_style = function(el){\n",
       "    // this is important to make the div 'focusable\n",
       "    el.attr('tabindex', 0)\n",
       "    // reach out to IPython and tell the keyboard manager to turn it's self\n",
       "    // off when our div gets focus\n",
       "\n",
       "    // location in version 3\n",
       "    if (IPython.notebook.keyboard_manager) {\n",
       "        IPython.notebook.keyboard_manager.register_events(el);\n",
       "    }\n",
       "    else {\n",
       "        // location in version 2\n",
       "        IPython.keyboard_manager.register_events(el);\n",
       "    }\n",
       "\n",
       "}\n",
       "\n",
       "mpl.figure.prototype._key_event_extra = function(event, name) {\n",
       "    var manager = IPython.notebook.keyboard_manager;\n",
       "    if (!manager)\n",
       "        manager = IPython.keyboard_manager;\n",
       "\n",
       "    // Check for shift+enter\n",
       "    if (event.shiftKey && event.which == 13) {\n",
       "        this.canvas_div.blur();\n",
       "        event.shiftKey = false;\n",
       "        // Send a \"J\" for go to next cell\n",
       "        event.which = 74;\n",
       "        event.keyCode = 74;\n",
       "        manager.command_mode();\n",
       "        manager.handle_keydown(event);\n",
       "    }\n",
       "}\n",
       "\n",
       "mpl.figure.prototype.handle_save = function(fig, msg) {\n",
       "    fig.ondownload(fig, null);\n",
       "}\n",
       "\n",
       "\n",
       "mpl.find_output_cell = function(html_output) {\n",
       "    // Return the cell and output element which can be found *uniquely* in the notebook.\n",
       "    // Note - this is a bit hacky, but it is done because the \"notebook_saving.Notebook\"\n",
       "    // IPython event is triggered only after the cells have been serialised, which for\n",
       "    // our purposes (turning an active figure into a static one), is too late.\n",
       "    var cells = IPython.notebook.get_cells();\n",
       "    var ncells = cells.length;\n",
       "    for (var i=0; i<ncells; i++) {\n",
       "        var cell = cells[i];\n",
       "        if (cell.cell_type === 'code'){\n",
       "            for (var j=0; j<cell.output_area.outputs.length; j++) {\n",
       "                var data = cell.output_area.outputs[j];\n",
       "                if (data.data) {\n",
       "                    // IPython >= 3 moved mimebundle to data attribute of output\n",
       "                    data = data.data;\n",
       "                }\n",
       "                if (data['text/html'] == html_output) {\n",
       "                    return [cell, data, j];\n",
       "                }\n",
       "            }\n",
       "        }\n",
       "    }\n",
       "}\n",
       "\n",
       "// Register the function which deals with the matplotlib target/channel.\n",
       "// The kernel may be null if the page has been refreshed.\n",
       "if (IPython.notebook.kernel != null) {\n",
       "    IPython.notebook.kernel.comm_manager.register_target('matplotlib', mpl.mpl_figure_comm);\n",
       "}\n"
      ],
      "text/plain": [
       "<IPython.core.display.Javascript object>"
      ]
     },
     "metadata": {},
     "output_type": "display_data"
    },
    {
     "data": {
      "text/html": [
       "<img src=\"data:image/png;base64,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\" width=\"640\">"
      ],
      "text/plain": [
       "<IPython.core.display.HTML object>"
      ]
     },
     "metadata": {},
     "output_type": "display_data"
    }
   ],
   "source": [
    "closestwords_tsnescatterplot(model, 'computer')"
   ]
  },
  {
   "cell_type": "code",
   "execution_count": null,
   "metadata": {},
   "outputs": [],
   "source": []
  },
  {
   "cell_type": "code",
   "execution_count": null,
   "metadata": {},
   "outputs": [],
   "source": []
  }
 ],
 "metadata": {
  "kernelspec": {
   "display_name": "Python 3",
   "language": "python",
   "name": "python3"
  },
  "language_info": {
   "codemirror_mode": {
    "name": "ipython",
    "version": 3
   },
   "file_extension": ".py",
   "mimetype": "text/x-python",
   "name": "python",
   "nbconvert_exporter": "python",
   "pygments_lexer": "ipython3",
   "version": "3.7.3"
  }
 },
 "nbformat": 4,
 "nbformat_minor": 2
}
