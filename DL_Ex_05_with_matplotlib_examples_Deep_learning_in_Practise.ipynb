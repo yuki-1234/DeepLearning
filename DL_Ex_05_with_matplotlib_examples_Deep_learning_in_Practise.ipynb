{
  "nbformat": 4,
  "nbformat_minor": 0,
  "metadata": {
    "colab": {
      "name": "DL-Ex-05-with-matplotlib examples-Deep-learning-in-Practise.ipynb",
      "provenance": []
    },
    "kernelspec": {
      "name": "python3",
      "display_name": "Python 3"
    },
    "accelerator": "GPU"
  },
  "cells": [
    {
      "cell_type": "code",
      "metadata": {
        "id": "FCu8i38pRWI_",
        "colab_type": "code",
        "colab": {}
      },
      "source": [
        "\n"
      ],
      "execution_count": 0,
      "outputs": []
    },
    {
      "cell_type": "markdown",
      "metadata": {
        "id": "I8_vftIIr5se",
        "colab_type": "text"
      },
      "source": [
        "# 1.\tLogistic regression ( Binary or multi-class)\n",
        "\n",
        "Let's consider Binary classification \n",
        "\n",
        "\t- Classify movie reviews as positive or negative, based on the text content of the reviews (binary cls)\n",
        "\t\t- data: Use standard IMDB available from keras\n",
        "\t\t- Prepare data and build model\n",
        "\t\t- Train and Validate\n",
        "\t\t- Validate your approach by plotting validation and training results \n"
      ]
    },
    {
      "cell_type": "code",
      "metadata": {
        "id": "nyOUzLR4r3uX",
        "colab_type": "code",
        "colab": {}
      },
      "source": [
        ""
      ],
      "execution_count": 0,
      "outputs": []
    },
    {
      "cell_type": "code",
      "metadata": {
        "id": "UAzgEr1gr3rF",
        "colab_type": "code",
        "colab": {}
      },
      "source": [
        ""
      ],
      "execution_count": 0,
      "outputs": []
    },
    {
      "cell_type": "markdown",
      "metadata": {
        "id": "qsjiRc9aKrvV",
        "colab_type": "text"
      },
      "source": [
        "# IMDB Dataset\n",
        "\n",
        "A set of 50,000 highly polarized reviews from the\n",
        "Internet Movie Database. \n",
        "\n",
        "They’re split into 25,000 reviews for training and 25,000\n",
        "reviews for testing. \n",
        "\n",
        "Each set consisting of 50% negative and 50% positive reviews.\n",
        "\n",
        "\n",
        "\n",
        " **The IMDB dataset comes packaged with Keras.**\n",
        "\n",
        "It has already been preprocessed: the reviews (sequences of words) have been turned into\n",
        "sequences of integers, where each integer stands for a specific word in a dictionary.\n",
        "\n",
        "\n",
        "**Developers of keras says: 'For convenience, words are indexed by overall frequency in the dataset, so that for instance the integer \"3\" encodes the 3rd most frequent word in the data'**"
      ]
    },
    {
      "cell_type": "code",
      "metadata": {
        "id": "AWQozPA7gUiA",
        "colab_type": "code",
        "colab": {}
      },
      "source": [
        ""
      ],
      "execution_count": 0,
      "outputs": []
    },
    {
      "cell_type": "code",
      "metadata": {
        "id": "A5LyiFAKr3ni",
        "colab_type": "code",
        "colab": {
          "base_uri": "https://localhost:8080/",
          "height": 116
        },
        "outputId": "fd701470-8a39-49ea-c98d-4d44b859ee01"
      },
      "source": [
        "from keras.datasets import imdb\n",
        "(train_data, train_labels), (test_data, test_labels) = imdb.load_data(\n",
        "num_words=10000)        # The argument num_words=10000 means you’ll only keep the top 10,000 most \n",
        "                      #       fre-quently occurring words in the training data.\n"
      ],
      "execution_count": 1,
      "outputs": [
        {
          "output_type": "stream",
          "text": [
            "Using TensorFlow backend.\n"
          ],
          "name": "stderr"
        },
        {
          "output_type": "display_data",
          "data": {
            "text/html": [
              "<p style=\"color: red;\">\n",
              "The default version of TensorFlow in Colab will soon switch to TensorFlow 2.x.<br>\n",
              "We recommend you <a href=\"https://www.tensorflow.org/guide/migrate\" target=\"_blank\">upgrade</a> now \n",
              "or ensure your notebook will continue to use TensorFlow 1.x via the <code>%tensorflow_version 1.x</code> magic:\n",
              "<a href=\"https://colab.research.google.com/notebooks/tensorflow_version.ipynb\" target=\"_blank\">more info</a>.</p>\n"
            ],
            "text/plain": [
              "<IPython.core.display.HTML object>"
            ]
          },
          "metadata": {
            "tags": []
          }
        },
        {
          "output_type": "stream",
          "text": [
            "Downloading data from https://s3.amazonaws.com/text-datasets/imdb.npz\n",
            "17465344/17464789 [==============================] - 0s 0us/step\n"
          ],
          "name": "stdout"
        }
      ]
    },
    {
      "cell_type": "markdown",
      "metadata": {
        "id": "iircyLfTMaGF",
        "colab_type": "text"
      },
      "source": [
        "The variables train_data and test_data are lists of reviews; \n",
        "\n",
        "each review is a list of word indices (encoding a sequence of words). \n",
        "\n",
        "train_labels and test_labels are\n",
        "lists of 0s and 1s, where 0 stands for negative and 1 stands for positive:"
      ]
    },
    {
      "cell_type": "code",
      "metadata": {
        "id": "YxZQdC1iMF1R",
        "colab_type": "code",
        "colab": {}
      },
      "source": [
        "#train_data[0]"
      ],
      "execution_count": 0,
      "outputs": []
    },
    {
      "cell_type": "code",
      "metadata": {
        "id": "ElUiAKqVMF8o",
        "colab_type": "code",
        "outputId": "43241b4e-80e0-4fac-a307-684d94252def",
        "colab": {
          "base_uri": "https://localhost:8080/",
          "height": 35
        }
      },
      "source": [
        "print(len(train_data))"
      ],
      "execution_count": 2,
      "outputs": [
        {
          "output_type": "stream",
          "text": [
            "25000\n"
          ],
          "name": "stdout"
        }
      ]
    },
    {
      "cell_type": "code",
      "metadata": {
        "id": "q10rtr9MMGBF",
        "colab_type": "code",
        "outputId": "6851dbd4-e0e5-40c8-dfd8-209ee1a373d3",
        "colab": {
          "base_uri": "https://localhost:8080/",
          "height": 35
        }
      },
      "source": [
        "print(len(train_data[0]))"
      ],
      "execution_count": 0,
      "outputs": [
        {
          "output_type": "stream",
          "text": [
            "218\n"
          ],
          "name": "stdout"
        }
      ]
    },
    {
      "cell_type": "code",
      "metadata": {
        "id": "L790UlHFMGE8",
        "colab_type": "code",
        "outputId": "37b1b965-b4b6-4e24-81f3-ecadd52463a1",
        "colab": {
          "base_uri": "https://localhost:8080/",
          "height": 35
        }
      },
      "source": [
        "print(len(train_data[1]))"
      ],
      "execution_count": 0,
      "outputs": [
        {
          "output_type": "stream",
          "text": [
            "189\n"
          ],
          "name": "stdout"
        }
      ]
    },
    {
      "cell_type": "code",
      "metadata": {
        "id": "Q0Da-otyNzWe",
        "colab_type": "code",
        "outputId": "21a4c576-32ab-4582-a11a-2a61b41e4272",
        "colab": {
          "base_uri": "https://localhost:8080/",
          "height": 35
        }
      },
      "source": [
        "train_labels[0]"
      ],
      "execution_count": 0,
      "outputs": [
        {
          "output_type": "execute_result",
          "data": {
            "text/plain": [
              "1"
            ]
          },
          "metadata": {
            "tags": []
          },
          "execution_count": 12
        }
      ]
    },
    {
      "cell_type": "code",
      "metadata": {
        "id": "QE-_k3xacw0u",
        "colab_type": "code",
        "colab": {
          "base_uri": "https://localhost:8080/",
          "height": 35
        },
        "outputId": "438060a8-a47b-43ef-8ee5-bde86163bb00"
      },
      "source": [
        "print(len(test_data))"
      ],
      "execution_count": 3,
      "outputs": [
        {
          "output_type": "stream",
          "text": [
            "25000\n"
          ],
          "name": "stdout"
        }
      ]
    },
    {
      "cell_type": "markdown",
      "metadata": {
        "id": "GsSykTuceuMC",
        "colab_type": "text"
      },
      "source": [
        "# We will explore data !"
      ]
    },
    {
      "cell_type": "code",
      "metadata": {
        "id": "XwIp611De1OY",
        "colab_type": "code",
        "colab": {}
      },
      "source": [
        "import numpy as np\n",
        "data = np.concatenate((train_data, test_data), axis=0)\n",
        "targets = np.concatenate((train_labels, test_labels), axis=0)"
      ],
      "execution_count": 0,
      "outputs": []
    },
    {
      "cell_type": "code",
      "metadata": {
        "id": "H1UvBP7qfF7x",
        "colab_type": "code",
        "colab": {
          "base_uri": "https://localhost:8080/",
          "height": 52
        },
        "outputId": "d5abeca5-f1a3-4916-c320-2e141875a386"
      },
      "source": [
        "print(\"Categories:\", np.unique(targets))\n",
        "print(\"Number of unique words:\", len(np.unique(np.hstack(data))))\n",
        "\n",
        "\n"
      ],
      "execution_count": 8,
      "outputs": [
        {
          "output_type": "stream",
          "text": [
            "Categories: [0 1]\n",
            "Number of unique words: 9998\n"
          ],
          "name": "stdout"
        }
      ]
    },
    {
      "cell_type": "code",
      "metadata": {
        "id": "TfW_88JSfGCQ",
        "colab_type": "code",
        "colab": {
          "base_uri": "https://localhost:8080/",
          "height": 52
        },
        "outputId": "46a70f63-8cde-4e5a-f0d7-1bf27f22ce45"
      },
      "source": [
        "length = [len(i) for i in data]\n",
        "print(\"Average Review length:\", np.mean(length))\n",
        "print(\"Standard Deviation:\", round(np.std(length)))\n",
        "\n"
      ],
      "execution_count": 7,
      "outputs": [
        {
          "output_type": "stream",
          "text": [
            "Average Review length: 234.75892\n",
            "Standard Deviation: 173.0\n"
          ],
          "name": "stdout"
        }
      ]
    },
    {
      "cell_type": "code",
      "metadata": {
        "id": "052r-6KnfGAL",
        "colab_type": "code",
        "colab": {}
      },
      "source": [
        ""
      ],
      "execution_count": 0,
      "outputs": []
    },
    {
      "cell_type": "code",
      "metadata": {
        "id": "54YUTk8NfF6D",
        "colab_type": "code",
        "colab": {}
      },
      "source": [
        ""
      ],
      "execution_count": 0,
      "outputs": []
    },
    {
      "cell_type": "markdown",
      "metadata": {
        "id": "Q25YaF3thbCg",
        "colab_type": "text"
      },
      "source": [
        "# Let's look at a single training example:"
      ]
    },
    {
      "cell_type": "code",
      "metadata": {
        "id": "rKFmaH04fF2v",
        "colab_type": "code",
        "colab": {}
      },
      "source": [
        ""
      ],
      "execution_count": 0,
      "outputs": []
    },
    {
      "cell_type": "code",
      "metadata": {
        "id": "9t3BSrHOhdtT",
        "colab_type": "code",
        "colab": {
          "base_uri": "https://localhost:8080/",
          "height": 35
        },
        "outputId": "ac04d4e1-a03d-45f2-ac35-b73b8e3e864a"
      },
      "source": [
        "print(\"Label:\", targets[0])"
      ],
      "execution_count": 9,
      "outputs": [
        {
          "output_type": "stream",
          "text": [
            "Label: 1\n"
          ],
          "name": "stdout"
        }
      ]
    },
    {
      "cell_type": "code",
      "metadata": {
        "id": "0T3cKe4whdrR",
        "colab_type": "code",
        "colab": {
          "base_uri": "https://localhost:8080/",
          "height": 55
        },
        "outputId": "98273540-5fd0-4478-b17f-c23f7253d5a5"
      },
      "source": [
        "print(data[0])"
      ],
      "execution_count": 15,
      "outputs": [
        {
          "output_type": "stream",
          "text": [
            "[1, 14, 22, 16, 43, 530, 973, 1622, 1385, 65, 458, 4468, 66, 3941, 4, 173, 36, 256, 5, 25, 100, 43, 838, 112, 50, 670, 2, 9, 35, 480, 284, 5, 150, 4, 172, 112, 167, 2, 336, 385, 39, 4, 172, 4536, 1111, 17, 546, 38, 13, 447, 4, 192, 50, 16, 6, 147, 2025, 19, 14, 22, 4, 1920, 4613, 469, 4, 22, 71, 87, 12, 16, 43, 530, 38, 76, 15, 13, 1247, 4, 22, 17, 515, 17, 12, 16, 626, 18, 2, 5, 62, 386, 12, 8, 316, 8, 106, 5, 4, 2223, 5244, 16, 480, 66, 3785, 33, 4, 130, 12, 16, 38, 619, 5, 25, 124, 51, 36, 135, 48, 25, 1415, 33, 6, 22, 12, 215, 28, 77, 52, 5, 14, 407, 16, 82, 2, 8, 4, 107, 117, 5952, 15, 256, 4, 2, 7, 3766, 5, 723, 36, 71, 43, 530, 476, 26, 400, 317, 46, 7, 4, 2, 1029, 13, 104, 88, 4, 381, 15, 297, 98, 32, 2071, 56, 26, 141, 6, 194, 7486, 18, 4, 226, 22, 21, 134, 476, 26, 480, 5, 144, 30, 5535, 18, 51, 36, 28, 224, 92, 25, 104, 4, 226, 65, 16, 38, 1334, 88, 12, 16, 283, 5, 16, 4472, 113, 103, 32, 15, 16, 5345, 19, 178, 32]\n"
          ],
          "name": "stdout"
        }
      ]
    },
    {
      "cell_type": "markdown",
      "metadata": {
        "id": "TDRSqYwVjdzR",
        "colab_type": "text"
      },
      "source": [
        "**The code below retrieves the dictionary mapping word indices back into the original words so that we can read them.**"
      ]
    },
    {
      "cell_type": "code",
      "metadata": {
        "id": "bU9azESXfFzc",
        "colab_type": "code",
        "colab": {
          "base_uri": "https://localhost:8080/",
          "height": 89
        },
        "outputId": "e761cd03-c3b0-4c79-e567-f308447f5f35"
      },
      "source": [
        "index = imdb.get_word_index()\n",
        "reverse_index = dict([(value, key) for (key, value) in index.items()]) \n",
        "decoded = \" \".join( [reverse_index.get(i - 3, \"#\") for i in data[0]] )\n",
        "print(decoded) "
      ],
      "execution_count": 16,
      "outputs": [
        {
          "output_type": "stream",
          "text": [
            "Downloading data from https://s3.amazonaws.com/text-datasets/imdb_word_index.json\n",
            "1646592/1641221 [==============================] - 0s 0us/step\n",
            "# this film was just brilliant casting location scenery story direction everyone's really suited the part they played and you could just imagine being there robert # is an amazing actor and now the same being director # father came from the same scottish island as myself so i loved the fact there was a real connection with this film the witty remarks throughout the film were great it was just brilliant so much that i bought the film as soon as it was released for # and would recommend it to everyone to watch and the fly fishing was amazing really cried at the end it was so sad and you know what they say if you cry at a film it must have been good and this definitely was also # to the two little boy's that played the # of norman and paul they were just brilliant children are often left out of the # list i think because the stars that play them all grown up are such a big profile for the whole film but these children are amazing and should be praised for what they have done don't you think the whole story was so lovely because it was true and was someone's life after all that was shared with us all\n"
          ],
          "name": "stdout"
        }
      ]
    },
    {
      "cell_type": "code",
      "metadata": {
        "id": "r0GBPVemjRsA",
        "colab_type": "code",
        "colab": {}
      },
      "source": [
        ""
      ],
      "execution_count": 0,
      "outputs": []
    },
    {
      "cell_type": "code",
      "metadata": {
        "id": "EsajHFxejRnv",
        "colab_type": "code",
        "colab": {}
      },
      "source": [
        ""
      ],
      "execution_count": 0,
      "outputs": []
    },
    {
      "cell_type": "code",
      "metadata": {
        "id": "tXsbgglajRiI",
        "colab_type": "code",
        "colab": {}
      },
      "source": [
        ""
      ],
      "execution_count": 0,
      "outputs": []
    },
    {
      "cell_type": "markdown",
      "metadata": {
        "id": "EYMFu-C2N2et",
        "colab_type": "text"
      },
      "source": [
        "# Preparing the data\n",
        "\n",
        "We can’t feed lists of integers into a neural network. \n",
        "\n",
        "We have to turn your lists into\n",
        "tensors. \n",
        "\n",
        "      1. One-hot encode your lists to turn them into vectors of\n",
        "       0s and 1s. \n",
        "\n",
        "      This would mean, for instance, turning the sequence [3, 5] \n",
        "      into a 10,000-dimensional vector that would be all 0s \n",
        "      except for indices 3 and 5, which would be 1s. \n",
        "      \n",
        "      Then you could use as the first layer in your network a\n",
        "       Dense layer, capable of handling floating-point vector \n",
        "       data."
      ]
    },
    {
      "cell_type": "code",
      "metadata": {
        "id": "4YsbmevwNzcl",
        "colab_type": "code",
        "colab": {}
      },
      "source": [
        "# Preparing the data\n",
        "import numpy as np\n",
        "\n",
        "\n",
        "def vectorize_sequences(sequences, dimension=10000):\n",
        "  results = np.zeros((len(sequences), dimension))    # Creates an all-zero matrix of shape (len(sequences),dimension))\n",
        "  for i, sequence in enumerate(sequences):\n",
        "    results[i, sequence] = 1.                         # Sets specific indices of results[i] to 1s\n",
        "  return results\n",
        "\n",
        "x_train = vectorize_sequences(train_data)\n",
        "x_test = vectorize_sequences(test_data)\n"
      ],
      "execution_count": 0,
      "outputs": []
    },
    {
      "cell_type": "code",
      "metadata": {
        "id": "8_MGF9wuNzbR",
        "colab_type": "code",
        "outputId": "efac8609-a832-4ca4-9963-86dea0705d93",
        "colab": {
          "base_uri": "https://localhost:8080/",
          "height": 35
        }
      },
      "source": [
        "# Here’s what the samples look like now:\n",
        "x_train[0]"
      ],
      "execution_count": 0,
      "outputs": [
        {
          "output_type": "execute_result",
          "data": {
            "text/plain": [
              "array([0., 1., 1., ..., 0., 0., 0.])"
            ]
          },
          "metadata": {
            "tags": []
          },
          "execution_count": 13
        }
      ]
    },
    {
      "cell_type": "code",
      "metadata": {
        "id": "uzJ6h4ZrNzTC",
        "colab_type": "code",
        "colab": {}
      },
      "source": [
        "#  We should also vectorize our labels, which is straightforward:\n",
        "\n",
        "\n",
        "y_train = np.asarray(train_labels).astype('float32')\n",
        "y_test = np.asarray(test_labels).astype('float32')"
      ],
      "execution_count": 0,
      "outputs": []
    },
    {
      "cell_type": "code",
      "metadata": {
        "id": "kkGrMrR3NzOU",
        "colab_type": "code",
        "colab": {}
      },
      "source": [
        ""
      ],
      "execution_count": 0,
      "outputs": []
    },
    {
      "cell_type": "markdown",
      "metadata": {
        "id": "rFHielvjSjQQ",
        "colab_type": "text"
      },
      "source": [
        "# Building network \n",
        "\n",
        "      - The input data is vectors, and the labels are scalars \n",
        "      (1s and 0s):\n",
        "\n",
        "      - We will use a simple stack of fully connected ( Dense )\n",
        "       layers with relu activations: Dense(16,activation='relu').\n",
        "\n",
        "      - each Dense layer (16) is the number of hidden units of \n",
        "      the layer.\n",
        "\n",
        "      - Essential operation will be : \n",
        "          output = relu(dot(W, input) + b)\n",
        "\n",
        "      - Think what would be the dimension of weight matrix here ?"
      ]
    },
    {
      "cell_type": "markdown",
      "metadata": {
        "id": "g94JbiVEUxSB",
        "colab_type": "text"
      },
      "source": [
        "So, our architecture will have: \n",
        "\n",
        "     \n",
        "      - Two intermediate layers with 16 hidden units each\n",
        "      - A third layer that will output the scalar prediction \n",
        "      regarding the sentiment of the current review\n",
        "\n",
        "\n",
        "\n",
        "The intermediate layers will use relu as their activation function \n",
        "\n",
        "The final layer will use a sigmoid activation so as to output a probability (a score between 0 and 1, indicating how likely the sample is to have the target “1”: how likely the review is to be\n",
        "positive)."
      ]
    },
    {
      "cell_type": "code",
      "metadata": {
        "id": "sNP2sqhTShH1",
        "colab_type": "code",
        "colab": {}
      },
      "source": [
        ""
      ],
      "execution_count": 0,
      "outputs": []
    },
    {
      "cell_type": "markdown",
      "metadata": {
        "id": "CEmpEm_fWFag",
        "colab_type": "text"
      },
      "source": [
        "# Additional information \n",
        "\n",
        "### Let's see what **françois chollet** says: \n",
        "\n",
        "##### What are activation functions, and why are they necessary?\n",
        "\n",
        "\n",
        "Without an activation function like relu (also called a non-linearity), the Dense layer\n",
        "would consist of two linear operations—a dot product and an addition:\n",
        "\n",
        "output = dot(W, input) + b\n",
        "\n",
        "\n",
        "So the layer could only learn linear transformations (affine transformations) of the\n",
        "input data: the hypothesis space of the layer would be the set of all possible linear\n",
        "transformations of the input data into a 16-dimensional space. \n",
        "\n",
        "Such a hypothesis\n",
        "space is too restricted and wouldn’t benefit from multiple layers of representations,\n",
        "because a deep stack of linear layers would still implement a linear operation: adding\n",
        "more layers wouldn’t extend the hypothesis space.\n",
        "\n",
        "\n",
        "In order to get access to a much richer hypothesis space that would benefit from\n",
        "deep representations, you need a non-linearity, or activation function. \n",
        "\n",
        "relu is the\n",
        "most popular activation function in deep learning, but there are many other candi-\n",
        "dates, which all come with similarly strange names: prelu, elu, and so on."
      ]
    },
    {
      "cell_type": "code",
      "metadata": {
        "id": "HoGQW9E5ShLU",
        "colab_type": "code",
        "colab": {}
      },
      "source": [
        ""
      ],
      "execution_count": 0,
      "outputs": []
    },
    {
      "cell_type": "code",
      "metadata": {
        "id": "A6eQDDF4ShEu",
        "colab_type": "code",
        "colab": {}
      },
      "source": [
        ""
      ],
      "execution_count": 0,
      "outputs": []
    },
    {
      "cell_type": "code",
      "metadata": {
        "id": "iWU9fWFRShCo",
        "colab_type": "code",
        "colab": {}
      },
      "source": [
        ""
      ],
      "execution_count": 0,
      "outputs": []
    },
    {
      "cell_type": "code",
      "metadata": {
        "id": "As9it8U1Sg-f",
        "colab_type": "code",
        "colab": {}
      },
      "source": [
        ""
      ],
      "execution_count": 0,
      "outputs": []
    },
    {
      "cell_type": "code",
      "metadata": {
        "id": "fGJo2EWEMGQI",
        "colab_type": "code",
        "colab": {}
      },
      "source": [
        ""
      ],
      "execution_count": 0,
      "outputs": []
    },
    {
      "cell_type": "code",
      "metadata": {
        "id": "anLgbLlbrrdg",
        "colab_type": "code",
        "outputId": "dff6b29b-c022-4df6-f034-ea6443f6984b",
        "colab": {
          "base_uri": "https://localhost:8080/",
          "height": 1000
        }
      },
      "source": [
        "\n",
        "\n",
        "\n",
        "import numpy as np\n",
        "\n",
        "from keras.preprocessing import sequence\n",
        "from keras import models\n",
        "from keras import layers\n",
        "from keras.datasets import imdb\n",
        "\n",
        "(train_data, train_labels), (test_data, test_labels) = imdb.load_data(\n",
        "num_words=10000)      # The argument num_words=10000 means you’ll only keep the top 10,000 most \n",
        "                      #       fre-quently occurring words in the training data.\n",
        "\n",
        "\n",
        "\n",
        "# Preparing the data\n",
        "\n",
        "def vectorize_sequences(sequences, dimension=10000):\n",
        "  results = np.zeros((len(sequences), dimension))    # Creates an all-zero matrix of shape (len(sequences),dimension))\n",
        "  for i, sequence in enumerate(sequences):\n",
        "    results[i, sequence] = 1.                         # Sets specific indices of results[i] to 1s\n",
        "  return results\n",
        "\n",
        "x_train = vectorize_sequences(train_data)\n",
        "x_test = vectorize_sequences(test_data)\n",
        "\n",
        "#  We should also vectorize your labels, which is straightforward:\n",
        "y_train = np.asarray(train_labels).astype('float32')\n",
        "y_test = np.asarray(test_labels).astype('float32')\n",
        "\n",
        "\n",
        "\n",
        "# Model defintion \n",
        "model = models.Sequential()\n",
        "model.add(layers.Dense(16, activation='relu', input_shape=(10000,)))\n",
        "model.add(layers.Dense(16, activation='relu'))\n",
        "model.add(layers.Dense(1, activation='sigmoid'))\n",
        "\n",
        "\n",
        "#Validating your approach\n",
        "#In order to monitor during training the accuracy of the model on data it has never\n",
        "#seen before, you’ll create a validation set by setting apart 10,000 samples from the\n",
        "#original training data.\n",
        "\n",
        "x_val = x_train[:10000]\n",
        "partial_x_train = x_train[10000:]\n",
        "\n",
        "y_val = y_train[:10000]\n",
        "partial_y_train = y_train[10000:]\n",
        "\n",
        "\n",
        "\n",
        "\n",
        "# Compiling the model\n",
        "model.compile(optimizer='rmsprop',loss='binary_crossentropy', metrics=['acc'])\n",
        "\n",
        "# Crossentropy is a quantity from the field of Information Theory \n",
        "                                        # that measures the distance between probability distributions or, in this\n",
        "                                        #case, between the ground-truth distribution and your predictions.\n",
        "\n",
        "\n",
        "\n",
        "# You can also configure the optimizers as below !!!!\n",
        "\n",
        "#from keras import optimizers\n",
        "#model.compile(optimizer=optimizers.RMSprop(lr=0.001),\n",
        "#loss='binary_crossentropy',\n",
        "#metrics=['accuracy'])\n",
        "\n",
        "\n",
        "# Using custom losses and metrics\n",
        "\n",
        "#from keras import losses\n",
        "#from keras import metrics\n",
        "#model.compile(optimizer=optimizers.RMSprop(lr=0.001),\n",
        "#loss=losses.binary_crossentropy,\n",
        "#metrics=[metrics.binary_accuracy])\n",
        "\n",
        "\n",
        "\n",
        "\n",
        "\n",
        "\n",
        "\n",
        "\n",
        "\n",
        "history = model.fit(partial_x_train,partial_y_train,epochs=20,batch_size=512,validation_data=(x_val, y_val))\n"
      ],
      "execution_count": 0,
      "outputs": [
        {
          "output_type": "stream",
          "text": [
            "Using TensorFlow backend.\n"
          ],
          "name": "stderr"
        },
        {
          "output_type": "display_data",
          "data": {
            "text/html": [
              "<p style=\"color: red;\">\n",
              "The default version of TensorFlow in Colab will soon switch to TensorFlow 2.x.<br>\n",
              "We recommend you <a href=\"https://www.tensorflow.org/guide/migrate\" target=\"_blank\">upgrade</a> now \n",
              "or ensure your notebook will continue to use TensorFlow 1.x via the <code>%tensorflow_version 1.x</code> magic:\n",
              "<a href=\"https://colab.research.google.com/notebooks/tensorflow_version.ipynb\" target=\"_blank\">more info</a>.</p>\n"
            ],
            "text/plain": [
              "<IPython.core.display.HTML object>"
            ]
          },
          "metadata": {
            "tags": []
          }
        },
        {
          "output_type": "stream",
          "text": [
            "Downloading data from https://s3.amazonaws.com/text-datasets/imdb.npz\n",
            "17465344/17464789 [==============================] - 2s 0us/step\n",
            "WARNING:tensorflow:From /usr/local/lib/python3.6/dist-packages/keras/backend/tensorflow_backend.py:66: The name tf.get_default_graph is deprecated. Please use tf.compat.v1.get_default_graph instead.\n",
            "\n",
            "WARNING:tensorflow:From /usr/local/lib/python3.6/dist-packages/keras/backend/tensorflow_backend.py:541: The name tf.placeholder is deprecated. Please use tf.compat.v1.placeholder instead.\n",
            "\n",
            "WARNING:tensorflow:From /usr/local/lib/python3.6/dist-packages/keras/backend/tensorflow_backend.py:4432: The name tf.random_uniform is deprecated. Please use tf.random.uniform instead.\n",
            "\n",
            "WARNING:tensorflow:From /usr/local/lib/python3.6/dist-packages/keras/optimizers.py:793: The name tf.train.Optimizer is deprecated. Please use tf.compat.v1.train.Optimizer instead.\n",
            "\n",
            "WARNING:tensorflow:From /usr/local/lib/python3.6/dist-packages/keras/backend/tensorflow_backend.py:3657: The name tf.log is deprecated. Please use tf.math.log instead.\n",
            "\n",
            "WARNING:tensorflow:From /usr/local/lib/python3.6/dist-packages/tensorflow_core/python/ops/nn_impl.py:183: where (from tensorflow.python.ops.array_ops) is deprecated and will be removed in a future version.\n",
            "Instructions for updating:\n",
            "Use tf.where in 2.0, which has the same broadcast rule as np.where\n",
            "WARNING:tensorflow:From /usr/local/lib/python3.6/dist-packages/keras/backend/tensorflow_backend.py:1033: The name tf.assign_add is deprecated. Please use tf.compat.v1.assign_add instead.\n",
            "\n",
            "WARNING:tensorflow:From /usr/local/lib/python3.6/dist-packages/keras/backend/tensorflow_backend.py:1020: The name tf.assign is deprecated. Please use tf.compat.v1.assign instead.\n",
            "\n",
            "WARNING:tensorflow:From /usr/local/lib/python3.6/dist-packages/keras/backend/tensorflow_backend.py:3005: The name tf.Session is deprecated. Please use tf.compat.v1.Session instead.\n",
            "\n",
            "Train on 15000 samples, validate on 10000 samples\n",
            "Epoch 1/20\n",
            "WARNING:tensorflow:From /usr/local/lib/python3.6/dist-packages/keras/backend/tensorflow_backend.py:190: The name tf.get_default_session is deprecated. Please use tf.compat.v1.get_default_session instead.\n",
            "\n",
            "WARNING:tensorflow:From /usr/local/lib/python3.6/dist-packages/keras/backend/tensorflow_backend.py:197: The name tf.ConfigProto is deprecated. Please use tf.compat.v1.ConfigProto instead.\n",
            "\n",
            "WARNING:tensorflow:From /usr/local/lib/python3.6/dist-packages/keras/backend/tensorflow_backend.py:207: The name tf.global_variables is deprecated. Please use tf.compat.v1.global_variables instead.\n",
            "\n",
            "WARNING:tensorflow:From /usr/local/lib/python3.6/dist-packages/keras/backend/tensorflow_backend.py:216: The name tf.is_variable_initialized is deprecated. Please use tf.compat.v1.is_variable_initialized instead.\n",
            "\n",
            "WARNING:tensorflow:From /usr/local/lib/python3.6/dist-packages/keras/backend/tensorflow_backend.py:223: The name tf.variables_initializer is deprecated. Please use tf.compat.v1.variables_initializer instead.\n",
            "\n",
            "15000/15000 [==============================] - 6s 375us/step - loss: 0.5243 - acc: 0.7779 - val_loss: 0.3875 - val_acc: 0.8605\n",
            "Epoch 2/20\n",
            "15000/15000 [==============================] - 1s 87us/step - loss: 0.3019 - acc: 0.9023 - val_loss: 0.3135 - val_acc: 0.8779\n",
            "Epoch 3/20\n",
            "15000/15000 [==============================] - 1s 87us/step - loss: 0.2238 - acc: 0.9269 - val_loss: 0.2790 - val_acc: 0.8912\n",
            "Epoch 4/20\n",
            "15000/15000 [==============================] - 1s 87us/step - loss: 0.1734 - acc: 0.9453 - val_loss: 0.2769 - val_acc: 0.8883\n",
            "Epoch 5/20\n",
            "15000/15000 [==============================] - 1s 88us/step - loss: 0.1451 - acc: 0.9533 - val_loss: 0.2834 - val_acc: 0.8863\n",
            "Epoch 6/20\n",
            "15000/15000 [==============================] - 1s 86us/step - loss: 0.1188 - acc: 0.9636 - val_loss: 0.2966 - val_acc: 0.8844\n",
            "Epoch 7/20\n",
            "15000/15000 [==============================] - 1s 87us/step - loss: 0.1003 - acc: 0.9690 - val_loss: 0.3491 - val_acc: 0.8769\n",
            "Epoch 8/20\n",
            "15000/15000 [==============================] - 1s 85us/step - loss: 0.0795 - acc: 0.9783 - val_loss: 0.3403 - val_acc: 0.8793\n",
            "Epoch 9/20\n",
            "15000/15000 [==============================] - 1s 90us/step - loss: 0.0679 - acc: 0.9815 - val_loss: 0.4001 - val_acc: 0.8657\n",
            "Epoch 10/20\n",
            "15000/15000 [==============================] - 1s 87us/step - loss: 0.0572 - acc: 0.9854 - val_loss: 0.3834 - val_acc: 0.8761\n",
            "Epoch 11/20\n",
            "15000/15000 [==============================] - 1s 87us/step - loss: 0.0454 - acc: 0.9897 - val_loss: 0.4471 - val_acc: 0.8713\n",
            "Epoch 12/20\n",
            "15000/15000 [==============================] - 1s 87us/step - loss: 0.0393 - acc: 0.9911 - val_loss: 0.4479 - val_acc: 0.8741\n",
            "Epoch 13/20\n",
            "15000/15000 [==============================] - 1s 87us/step - loss: 0.0332 - acc: 0.9930 - val_loss: 0.4598 - val_acc: 0.8720\n",
            "Epoch 14/20\n",
            "15000/15000 [==============================] - 1s 87us/step - loss: 0.0242 - acc: 0.9959 - val_loss: 0.4936 - val_acc: 0.8718\n",
            "Epoch 15/20\n",
            "15000/15000 [==============================] - 1s 87us/step - loss: 0.0241 - acc: 0.9947 - val_loss: 0.5141 - val_acc: 0.8703\n",
            "Epoch 16/20\n",
            "15000/15000 [==============================] - 1s 87us/step - loss: 0.0200 - acc: 0.9956 - val_loss: 0.5434 - val_acc: 0.8691\n",
            "Epoch 17/20\n",
            "15000/15000 [==============================] - 1s 89us/step - loss: 0.0102 - acc: 0.9991 - val_loss: 0.5893 - val_acc: 0.8587\n",
            "Epoch 18/20\n",
            "15000/15000 [==============================] - 1s 87us/step - loss: 0.0151 - acc: 0.9965 - val_loss: 0.5963 - val_acc: 0.8665\n",
            "Epoch 19/20\n",
            "15000/15000 [==============================] - 1s 86us/step - loss: 0.0064 - acc: 0.9997 - val_loss: 0.6248 - val_acc: 0.8648\n",
            "Epoch 20/20\n",
            "15000/15000 [==============================] - 1s 86us/step - loss: 0.0100 - acc: 0.9980 - val_loss: 0.6549 - val_acc: 0.8659\n"
          ],
          "name": "stdout"
        }
      ]
    },
    {
      "cell_type": "code",
      "metadata": {
        "id": "cXDGYIjuUHu4",
        "colab_type": "code",
        "colab": {}
      },
      "source": [
        ""
      ],
      "execution_count": 0,
      "outputs": []
    },
    {
      "cell_type": "markdown",
      "metadata": {
        "id": "Rgjm9E6ZZQzA",
        "colab_type": "text"
      },
      "source": [
        "Note that the call to model.fit() returns a **History object**. This object has a member history , which is a dictionary containing data about everything that happened\n",
        "during training."
      ]
    },
    {
      "cell_type": "code",
      "metadata": {
        "id": "w6ihk8YwU_Vs",
        "colab_type": "code",
        "colab": {}
      },
      "source": [
        "history_dict = history.history"
      ],
      "execution_count": 0,
      "outputs": []
    },
    {
      "cell_type": "code",
      "metadata": {
        "id": "gtIqJJp2WW4T",
        "colab_type": "code",
        "outputId": "e6ebc124-a18f-4f9f-bfdf-539725572295",
        "colab": {
          "base_uri": "https://localhost:8080/",
          "height": 35
        }
      },
      "source": [
        "history_dict.keys()"
      ],
      "execution_count": 0,
      "outputs": [
        {
          "output_type": "execute_result",
          "data": {
            "text/plain": [
              "dict_keys(['val_loss', 'val_acc', 'loss', 'acc'])"
            ]
          },
          "metadata": {
            "tags": []
          },
          "execution_count": 16
        }
      ]
    },
    {
      "cell_type": "code",
      "metadata": {
        "id": "IY8UpJo-Wssc",
        "colab_type": "code",
        "colab": {}
      },
      "source": [
        ""
      ],
      "execution_count": 0,
      "outputs": []
    },
    {
      "cell_type": "code",
      "metadata": {
        "id": "OS4r877AZ8Ug",
        "colab_type": "code",
        "colab": {}
      },
      "source": [
        ""
      ],
      "execution_count": 0,
      "outputs": []
    },
    {
      "cell_type": "code",
      "metadata": {
        "id": "k8MBhmv2Z8SB",
        "colab_type": "code",
        "colab": {}
      },
      "source": [
        ""
      ],
      "execution_count": 0,
      "outputs": []
    },
    {
      "cell_type": "markdown",
      "metadata": {
        "id": "nzb0QoqfZ9kp",
        "colab_type": "text"
      },
      "source": [
        "Let's use **Matplotlib** to plot\n",
        "the training and validation loss side by side , as well as the training and\n",
        "validation accuracy . \n",
        "\n",
        "\n",
        "**Note that your own results may vary slightly due to a different random initialization of your network.**"
      ]
    },
    {
      "cell_type": "code",
      "metadata": {
        "id": "Kv0ZIiGTZ8Oe",
        "colab_type": "code",
        "colab": {}
      },
      "source": [
        ""
      ],
      "execution_count": 0,
      "outputs": []
    },
    {
      "cell_type": "code",
      "metadata": {
        "id": "IaVrlBWEU_kd",
        "colab_type": "code",
        "outputId": "9775b67e-7752-48b7-d02e-42c1004744b1",
        "colab": {
          "base_uri": "https://localhost:8080/",
          "height": 295
        }
      },
      "source": [
        "import matplotlib.pyplot as plt\n",
        "%matplotlib inline\n",
        "history_dict = history.history\n",
        "\n",
        "\n",
        "acc = history.history['acc']\n",
        "val_acc = history.history['val_acc']\n",
        "loss = history.history['loss']\n",
        "val_loss = history.history['val_loss']\n",
        "\n",
        "loss_values = history_dict['loss']\n",
        "val_loss_values = history_dict['val_loss']\n",
        "epochs = range(1, len(acc) + 1)\n",
        "\n",
        "plt.plot(epochs, loss_values, 'bo', label='Training loss')\n",
        "plt.plot(epochs, val_loss_values, 'b', label='Validation loss')\n",
        "plt.title('Training and validation loss')\n",
        "\n",
        "plt.xlabel('Epochs')\n",
        "plt.ylabel('Loss')\n",
        "plt.legend()\n",
        "plt.show()\n"
      ],
      "execution_count": 0,
      "outputs": [
        {
          "output_type": "display_data",
          "data": {
            "image/png": "[encoded data removed]",
            "text/plain": [
              "<Figure size 432x288 with 1 Axes>"
            ]
          },
          "metadata": {
            "tags": []
          }
        }
      ]
    },
    {
      "cell_type": "code",
      "metadata": {
        "id": "Cu2igbwqVRcK",
        "colab_type": "code",
        "colab": {}
      },
      "source": [
        ""
      ],
      "execution_count": 0,
      "outputs": []
    },
    {
      "cell_type": "code",
      "metadata": {
        "id": "UmlOKTF4X8bS",
        "colab_type": "code",
        "colab": {}
      },
      "source": [
        ""
      ],
      "execution_count": 0,
      "outputs": []
    },
    {
      "cell_type": "code",
      "metadata": {
        "id": "-QIQROS-X80G",
        "colab_type": "code",
        "outputId": "67b4a380-1c00-4489-e8b8-0b53cf1273ed",
        "colab": {
          "base_uri": "https://localhost:8080/",
          "height": 295
        }
      },
      "source": [
        "plt.clf()   # clear figure\n",
        "acc_values = history_dict['acc']\n",
        "val_acc_values = history_dict['val_acc']\n",
        "\n",
        "plt.plot(epochs, acc, 'bo', label='Training acc')\n",
        "plt.plot(epochs, val_acc, 'b', label='Validation acc')\n",
        "plt.title('Training and validation accuracy')\n",
        "plt.xlabel('Epochs')\n",
        "plt.ylabel('Loss')\n",
        "plt.legend()\n",
        "\n",
        "plt.show()"
      ],
      "execution_count": 0,
      "outputs": [
        {
          "output_type": "display_data",
          "data": {
            "image/png": "[encoded data removed]",
            "text/plain": [
              "<Figure size 432x288 with 1 Axes>"
            ]
          },
          "metadata": {
            "tags": []
          }
        }
      ]
    },
    {
      "cell_type": "code",
      "metadata": {
        "id": "BPI2G-c2X8XA",
        "colab_type": "code",
        "colab": {}
      },
      "source": [
        ""
      ],
      "execution_count": 0,
      "outputs": []
    },
    {
      "cell_type": "code",
      "metadata": {
        "id": "jUdOWy0pYG2-",
        "colab_type": "code",
        "colab": {}
      },
      "source": [
        ""
      ],
      "execution_count": 0,
      "outputs": []
    },
    {
      "cell_type": "code",
      "metadata": {
        "id": "fv49flS8byZx",
        "colab_type": "code",
        "colab": {}
      },
      "source": [
        ""
      ],
      "execution_count": 0,
      "outputs": []
    },
    {
      "cell_type": "markdown",
      "metadata": {
        "id": "qO6idqcZby35",
        "colab_type": "text"
      },
      "source": [
        "# Looking into the nature of graphs: \n",
        "\n",
        "This is an example of **overfit case**: A\n",
        "model that performs better on the training data isn’t necessarily a model that will do\n",
        "better on data it has never seen before. \n",
        "\n",
        "In precise terms, what you’re seeing is overfitting : \n",
        "after the second or third epoch, we’re overoptimizing on the training data, and you end\n",
        "up learning representations that are specific to the training data and don’t generalize\n",
        "to data outside of the training set."
      ]
    },
    {
      "cell_type": "code",
      "metadata": {
        "id": "wCtYlB_NbyW5",
        "colab_type": "code",
        "colab": {}
      },
      "source": [
        ""
      ],
      "execution_count": 0,
      "outputs": []
    },
    {
      "cell_type": "code",
      "metadata": {
        "id": "JDm8hidVcsT3",
        "colab_type": "code",
        "colab": {}
      },
      "source": [
        ""
      ],
      "execution_count": 0,
      "outputs": []
    },
    {
      "cell_type": "markdown",
      "metadata": {
        "id": "gZzgtHOPctLD",
        "colab_type": "text"
      },
      "source": [
        "** So, we train a network from scratch for four epochs and then evaluate it on the\n",
        "test data.**"
      ]
    },
    {
      "cell_type": "code",
      "metadata": {
        "id": "KYz5z4PUcsO1",
        "colab_type": "code",
        "colab": {}
      },
      "source": [
        ""
      ],
      "execution_count": 0,
      "outputs": []
    },
    {
      "cell_type": "code",
      "metadata": {
        "id": "OiSS1Uu-YHIt",
        "colab_type": "code",
        "outputId": "86def6c8-73b4-48d7-f1e7-e7fc4308ee23",
        "colab": {
          "base_uri": "https://localhost:8080/",
          "height": 173
        }
      },
      "source": [
        "model = models.Sequential()\n",
        "model.add(layers.Dense(16, activation='relu', input_shape=(10000,)))\n",
        "model.add(layers.Dense(16, activation='relu'))\n",
        "model.add(layers.Dense(1, activation='sigmoid'))\n",
        "\n",
        "model.compile(optimizer='rmsprop',\n",
        "              loss='binary_crossentropy',\n",
        "              metrics=['accuracy'])\n",
        "\n",
        "model.fit(x_train, y_train, epochs=4, batch_size=512)\n",
        "results = model.evaluate(x_test, y_test)"
      ],
      "execution_count": 0,
      "outputs": [
        {
          "output_type": "stream",
          "text": [
            "Epoch 1/4\n",
            "25000/25000 [==============================] - 2s 79us/step - loss: 0.4578 - acc: 0.8230\n",
            "Epoch 2/4\n",
            "25000/25000 [==============================] - 2s 70us/step - loss: 0.2600 - acc: 0.9108\n",
            "Epoch 3/4\n",
            "25000/25000 [==============================] - 2s 71us/step - loss: 0.2032 - acc: 0.9261\n",
            "Epoch 4/4\n",
            "25000/25000 [==============================] - 2s 72us/step - loss: 0.1694 - acc: 0.9399\n",
            "25000/25000 [==============================] - 2s 96us/step\n"
          ],
          "name": "stdout"
        }
      ]
    },
    {
      "cell_type": "code",
      "metadata": {
        "id": "RGbM528ZYGz3",
        "colab_type": "code",
        "outputId": "942bad24-e024-4c7a-cbe8-1a74a2a14268",
        "colab": {
          "base_uri": "https://localhost:8080/",
          "height": 35
        }
      },
      "source": [
        "results"
      ],
      "execution_count": 0,
      "outputs": [
        {
          "output_type": "execute_result",
          "data": {
            "text/plain": [
              "[0.3024928446483612, 0.88056]"
            ]
          },
          "metadata": {
            "tags": []
          },
          "execution_count": 24
        }
      ]
    },
    {
      "cell_type": "code",
      "metadata": {
        "id": "rrHiQO3KYiJF",
        "colab_type": "code",
        "colab": {}
      },
      "source": [
        ""
      ],
      "execution_count": 0,
      "outputs": []
    },
    {
      "cell_type": "code",
      "metadata": {
        "id": "F-_MQisudrbr",
        "colab_type": "code",
        "outputId": "a48150b5-adee-48a4-a8e9-58de59408ec7",
        "colab": {
          "base_uri": "https://localhost:8080/",
          "height": 35
        }
      },
      "source": [
        "print(x_test[0])"
      ],
      "execution_count": 0,
      "outputs": [
        {
          "output_type": "stream",
          "text": [
            "[0. 1. 1. ... 0. 0. 0.]\n"
          ],
          "name": "stdout"
        }
      ]
    },
    {
      "cell_type": "code",
      "metadata": {
        "id": "5oVSifA1drqf",
        "colab_type": "code",
        "outputId": "c5420cd7-d42b-44ba-9d90-92efadaddeb7",
        "colab": {
          "base_uri": "https://localhost:8080/",
          "height": 35
        }
      },
      "source": [
        "print(y_test[0])"
      ],
      "execution_count": 0,
      "outputs": [
        {
          "output_type": "stream",
          "text": [
            "0.0\n"
          ],
          "name": "stdout"
        }
      ]
    },
    {
      "cell_type": "code",
      "metadata": {
        "id": "KC8fnA5Ddruc",
        "colab_type": "code",
        "colab": {}
      },
      "source": [
        "some_variable = model.predict(x_test)  ### We can predict on new samples instead"
      ],
      "execution_count": 0,
      "outputs": []
    },
    {
      "cell_type": "code",
      "metadata": {
        "id": "cuKj8oykdrYG",
        "colab_type": "code",
        "outputId": "009edaa0-845f-4e89-84de-0dfaf807aecd",
        "colab": {
          "base_uri": "https://localhost:8080/",
          "height": 35
        }
      },
      "source": [
        "print(type(some_variable))"
      ],
      "execution_count": 0,
      "outputs": [
        {
          "output_type": "stream",
          "text": [
            "<class 'numpy.ndarray'>\n"
          ],
          "name": "stdout"
        }
      ]
    },
    {
      "cell_type": "code",
      "metadata": {
        "id": "m0VcPW3QeWUq",
        "colab_type": "code",
        "outputId": "77d707a3-7e49-400a-d998-2cac404005e5",
        "colab": {
          "base_uri": "https://localhost:8080/",
          "height": 35
        }
      },
      "source": [
        "some_variable.shape"
      ],
      "execution_count": 0,
      "outputs": [
        {
          "output_type": "execute_result",
          "data": {
            "text/plain": [
              "(25000, 1)"
            ]
          },
          "metadata": {
            "tags": []
          },
          "execution_count": 31
        }
      ]
    },
    {
      "cell_type": "code",
      "metadata": {
        "id": "TUnyjA7jfwUc",
        "colab_type": "code",
        "outputId": "fc3a7583-e674-40d1-b474-dea548b39680",
        "colab": {
          "base_uri": "https://localhost:8080/",
          "height": 35
        }
      },
      "source": [
        "some_variable.ndim"
      ],
      "execution_count": 0,
      "outputs": [
        {
          "output_type": "execute_result",
          "data": {
            "text/plain": [
              "2"
            ]
          },
          "metadata": {
            "tags": []
          },
          "execution_count": 38
        }
      ]
    },
    {
      "cell_type": "code",
      "metadata": {
        "id": "dw05RjcXeWQl",
        "colab_type": "code",
        "outputId": "7e79bc86-954c-4ae4-8907-93d318c7e58d",
        "colab": {
          "base_uri": "https://localhost:8080/",
          "height": 35
        }
      },
      "source": [
        "some_variable[0,0]"
      ],
      "execution_count": 0,
      "outputs": [
        {
          "output_type": "execute_result",
          "data": {
            "text/plain": [
              "0.21653476"
            ]
          },
          "metadata": {
            "tags": []
          },
          "execution_count": 34
        }
      ]
    },
    {
      "cell_type": "code",
      "metadata": {
        "id": "6nKlIJQNeWL-",
        "colab_type": "code",
        "outputId": "04d05d58-a206-4372-c00f-9b565962edae",
        "colab": {
          "base_uri": "https://localhost:8080/",
          "height": 35
        }
      },
      "source": [
        "some_variable[1,0]"
      ],
      "execution_count": 0,
      "outputs": [
        {
          "output_type": "execute_result",
          "data": {
            "text/plain": [
              "0.99995637"
            ]
          },
          "metadata": {
            "tags": []
          },
          "execution_count": 35
        }
      ]
    },
    {
      "cell_type": "code",
      "metadata": {
        "id": "8tpyEG5sfd5z",
        "colab_type": "code",
        "outputId": "45c2cf1b-90ad-4787-9ebe-c99727045905",
        "colab": {
          "base_uri": "https://localhost:8080/",
          "height": 35
        }
      },
      "source": [
        "print(y_test[1])"
      ],
      "execution_count": 0,
      "outputs": [
        {
          "output_type": "stream",
          "text": [
            "1.0\n"
          ],
          "name": "stdout"
        }
      ]
    },
    {
      "cell_type": "code",
      "metadata": {
        "id": "MBpsowqffd2g",
        "colab_type": "code",
        "colab": {}
      },
      "source": [
        ""
      ],
      "execution_count": 0,
      "outputs": []
    },
    {
      "cell_type": "code",
      "metadata": {
        "id": "VAc6-_lginMe",
        "colab_type": "code",
        "colab": {}
      },
      "source": [
        ""
      ],
      "execution_count": 0,
      "outputs": []
    },
    {
      "cell_type": "code",
      "metadata": {
        "id": "XeJi-O5EinFr",
        "colab_type": "code",
        "colab": {}
      },
      "source": [
        ""
      ],
      "execution_count": 0,
      "outputs": []
    },
    {
      "cell_type": "markdown",
      "metadata": {
        "id": "fV4b6Fq8in4H",
        "colab_type": "text"
      },
      "source": [
        "# How to experiment with different settings ? \n",
        "\n",
        "      - Exhaustive search over specified parameter values"
      ]
    },
    {
      "cell_type": "code",
      "metadata": {
        "id": "B_Si_V6Nfdyi",
        "colab_type": "code",
        "colab": {}
      },
      "source": [
        ""
      ],
      "execution_count": 0,
      "outputs": []
    },
    {
      "cell_type": "code",
      "metadata": {
        "id": "R2Bxz20dYkXI",
        "colab_type": "code",
        "outputId": "3da7a907-d362-43a9-fec7-b53f0f624ca9",
        "colab": {
          "base_uri": "https://localhost:8080/",
          "height": 1000
        }
      },
      "source": [
        "from keras.wrappers.scikit_learn import KerasClassifier \n",
        "from sklearn.model_selection import GridSearchCV\n",
        "\n",
        "import numpy as np\n",
        "\n",
        "from keras.preprocessing import sequence\n",
        "from keras import models\n",
        "from keras import layers\n",
        "from keras.datasets import imdb\n",
        "\n",
        "(train_data, train_labels), (test_data, test_labels) = imdb.load_data(\n",
        "num_words=10000)\n",
        "\n",
        "\n",
        "def vectorize_sequences(sequences, dimension=10000):\n",
        "  results = np.zeros((len(sequences), dimension))\n",
        "  for i, sequence in enumerate(sequences):\n",
        "    results[i, sequence] = 1.\n",
        "  return results\n",
        "\n",
        "x_train = vectorize_sequences(train_data)\n",
        "x_test = vectorize_sequences(test_data)\n",
        "\n",
        "\n",
        "y_train = np.asarray(train_labels).astype('float32')\n",
        "y_test = np.asarray(test_labels).astype('float32')\n",
        "\n",
        "\n",
        "def dl_ex_classifier(optimizer):\n",
        "\tclassifier = models.Sequential()\n",
        "\tclassifier.add(Dense(units=16, kernel_initializer='uniform', activation='relu', input_dim=10000))\n",
        "\tclassifier.add(Dense(units=16, kernel_initializer='uniform', activation='relu'))\n",
        "\tclassifier.add(Dense(units=1, kernel_initializer='uniform', activation='sigmoid'))\n",
        " \n",
        "\tclassifier.compile(optimizer=optimizer, loss='binary_crossentropy', metrics=['accuracy'])\n",
        "\treturn classifier\n",
        "\n",
        "\n",
        "classifier = KerasClassifier(build_fn=dl_ex_classifier)\n",
        "\n",
        "parameters = {'batch_size': [256, 512], 'epochs': [2, 4], 'optimizer': ['adam', 'rmsprop']}\n",
        "\n",
        "grid_search = GridSearchCV(estimator = classifier, param_grid = parameters, scoring = 'accuracy', cv =10)\n",
        "\n",
        "grid_search = grid_search.fit(x_train, y_train)\n",
        "\n",
        "best_parameters = grid_search.best_params_\n",
        "best_accuracy = grid_search.best_score_\n"
      ],
      "execution_count": 0,
      "outputs": [
        {
          "output_type": "stream",
          "text": [
            "Epoch 1/2\n",
            "22500/22500 [==============================] - 5s 216us/step - loss: 0.6015 - acc: 0.7444\n",
            "Epoch 2/2\n",
            "22500/22500 [==============================] - 2s 87us/step - loss: 0.2687 - acc: 0.8992\n",
            "Epoch 1/2\n",
            "22500/22500 [==============================] - 5s 218us/step - loss: 0.5797 - acc: 0.7920\n",
            "Epoch 2/2\n",
            "22500/22500 [==============================] - 2s 88us/step - loss: 0.2561 - acc: 0.9030\n",
            "Epoch 1/2\n",
            "22500/22500 [==============================] - 5s 218us/step - loss: 0.5871 - acc: 0.7764\n",
            "Epoch 2/2\n",
            "22500/22500 [==============================] - 2s 86us/step - loss: 0.2602 - acc: 0.9011\n",
            "Epoch 1/2\n",
            "22500/22500 [==============================] - 5s 220us/step - loss: 0.5898 - acc: 0.7146\n",
            "Epoch 2/2\n",
            "22500/22500 [==============================] - 2s 87us/step - loss: 0.2602 - acc: 0.9034\n",
            "Epoch 1/2\n",
            "22500/22500 [==============================] - 5s 222us/step - loss: 0.5823 - acc: 0.7870\n",
            "Epoch 2/2\n",
            "22500/22500 [==============================] - 2s 84us/step - loss: 0.2627 - acc: 0.9008\n",
            "Epoch 1/2\n",
            "22500/22500 [==============================] - 5s 212us/step - loss: 0.5986 - acc: 0.6993\n",
            "Epoch 2/2\n",
            "22500/22500 [==============================] - 2s 84us/step - loss: 0.2619 - acc: 0.9021\n",
            "Epoch 1/2\n",
            "22500/22500 [==============================] - 5s 216us/step - loss: 0.5710 - acc: 0.7690\n",
            "Epoch 2/2\n",
            "22500/22500 [==============================] - 2s 84us/step - loss: 0.2512 - acc: 0.9048\n",
            "Epoch 1/2\n",
            "22500/22500 [==============================] - 5s 234us/step - loss: 0.5723 - acc: 0.7871\n",
            "Epoch 2/2\n",
            "22500/22500 [==============================] - 2s 88us/step - loss: 0.2548 - acc: 0.9043\n",
            "Epoch 1/2\n",
            "22500/22500 [==============================] - 5s 238us/step - loss: 0.5808 - acc: 0.7832\n",
            "Epoch 2/2\n",
            "22500/22500 [==============================] - 2s 86us/step - loss: 0.2575 - acc: 0.9031\n",
            "Epoch 1/2\n",
            "22500/22500 [==============================] - 5s 240us/step - loss: 0.5901 - acc: 0.7133\n",
            "Epoch 2/2\n",
            "22500/22500 [==============================] - 2s 88us/step - loss: 0.2565 - acc: 0.9025\n",
            "Epoch 1/2\n",
            "22500/22500 [==============================] - 5s 228us/step - loss: 0.5276 - acc: 0.8224\n",
            "Epoch 2/2\n",
            "22500/22500 [==============================] - 2s 82us/step - loss: 0.2652 - acc: 0.9023\n",
            "Epoch 1/2\n",
            "22500/22500 [==============================] - 5s 224us/step - loss: 0.5308 - acc: 0.8173\n",
            "Epoch 2/2\n",
            "22500/22500 [==============================] - 2s 81us/step - loss: 0.2668 - acc: 0.9009\n",
            "Epoch 1/2\n",
            "22500/22500 [==============================] - 5s 227us/step - loss: 0.5577 - acc: 0.7780\n",
            "Epoch 2/2\n",
            "22500/22500 [==============================] - 2s 85us/step - loss: 0.2882 - acc: 0.8984\n",
            "Epoch 1/2\n",
            "22500/22500 [==============================] - 5s 230us/step - loss: 0.5329 - acc: 0.7955\n",
            "Epoch 2/2\n",
            "22500/22500 [==============================] - 2s 83us/step - loss: 0.2701 - acc: 0.9007\n",
            "Epoch 1/2\n",
            "22500/22500 [==============================] - 5s 233us/step - loss: 0.5334 - acc: 0.8220\n",
            "Epoch 2/2\n",
            "22500/22500 [==============================] - 2s 83us/step - loss: 0.2681 - acc: 0.9001\n",
            "Epoch 1/2\n",
            "22500/22500 [==============================] - 5s 239us/step - loss: 0.5293 - acc: 0.8223\n",
            "Epoch 2/2\n",
            "22500/22500 [==============================] - 2s 83us/step - loss: 0.2684 - acc: 0.9022\n",
            "Epoch 1/2\n",
            "22500/22500 [==============================] - 5s 240us/step - loss: 0.5328 - acc: 0.7767\n",
            "Epoch 2/2\n",
            "22500/22500 [==============================] - 2s 82us/step - loss: 0.2689 - acc: 0.9016\n",
            "Epoch 1/2\n",
            "22500/22500 [==============================] - 5s 241us/step - loss: 0.5255 - acc: 0.8225\n",
            "Epoch 2/2\n",
            "22500/22500 [==============================] - 2s 84us/step - loss: 0.2659 - acc: 0.9026\n",
            "Epoch 1/2\n",
            "22500/22500 [==============================] - 5s 243us/step - loss: 0.5395 - acc: 0.7709\n",
            "Epoch 2/2\n",
            "22500/22500 [==============================] - 2s 84us/step - loss: 0.2725 - acc: 0.9021\n",
            "Epoch 1/2\n",
            "22500/22500 [==============================] - 6s 248us/step - loss: 0.5532 - acc: 0.7868\n",
            "Epoch 2/2\n",
            "22500/22500 [==============================] - 2s 83us/step - loss: 0.2817 - acc: 0.8982\n",
            "Epoch 1/4\n",
            "22500/22500 [==============================] - 6s 256us/step - loss: 0.5644 - acc: 0.7512\n",
            "Epoch 2/4\n",
            "22500/22500 [==============================] - 2s 84us/step - loss: 0.2515 - acc: 0.9080\n",
            "Epoch 3/4\n",
            "22500/22500 [==============================] - 2s 85us/step - loss: 0.1784 - acc: 0.9344\n",
            "Epoch 4/4\n",
            "22500/22500 [==============================] - 2s 84us/step - loss: 0.1400 - acc: 0.9508\n",
            "Epoch 1/4\n",
            "22500/22500 [==============================] - 6s 264us/step - loss: 0.5863 - acc: 0.6923\n",
            "Epoch 2/4\n",
            "22500/22500 [==============================] - 2s 87us/step - loss: 0.2636 - acc: 0.9051\n",
            "Epoch 3/4\n",
            "22500/22500 [==============================] - 2s 88us/step - loss: 0.1819 - acc: 0.9351\n",
            "Epoch 4/4\n",
            "22500/22500 [==============================] - 2s 90us/step - loss: 0.1429 - acc: 0.9512\n",
            "Epoch 1/4\n",
            "22500/22500 [==============================] - 6s 282us/step - loss: 0.5655 - acc: 0.7746\n",
            "Epoch 2/4\n",
            "22500/22500 [==============================] - 2s 86us/step - loss: 0.2489 - acc: 0.9053\n",
            "Epoch 3/4\n",
            "22500/22500 [==============================] - 2s 84us/step - loss: 0.1753 - acc: 0.9374\n",
            "Epoch 4/4\n",
            "22500/22500 [==============================] - 2s 85us/step - loss: 0.1376 - acc: 0.9524\n",
            "Epoch 1/4\n",
            "22500/22500 [==============================] - 6s 269us/step - loss: 0.5791 - acc: 0.7717\n",
            "Epoch 2/4\n",
            "22500/22500 [==============================] - 2s 86us/step - loss: 0.2588 - acc: 0.9034\n",
            "Epoch 3/4\n",
            "22500/22500 [==============================] - 2s 85us/step - loss: 0.1813 - acc: 0.9334\n",
            "Epoch 4/4\n",
            "22500/22500 [==============================] - 2s 84us/step - loss: 0.1425 - acc: 0.9502\n",
            "Epoch 1/4\n",
            "22500/22500 [==============================] - 6s 270us/step - loss: 0.5733 - acc: 0.7586\n",
            "Epoch 2/4\n",
            "22500/22500 [==============================] - 2s 86us/step - loss: 0.2523 - acc: 0.9045\n",
            "Epoch 3/4\n",
            "22500/22500 [==============================] - 2s 84us/step - loss: 0.1745 - acc: 0.9370\n",
            "Epoch 4/4\n",
            "22500/22500 [==============================] - 2s 85us/step - loss: 0.1367 - acc: 0.9531\n",
            "Epoch 1/4\n",
            "22500/22500 [==============================] - 6s 271us/step - loss: 0.5758 - acc: 0.7970\n",
            "Epoch 2/4\n",
            "22500/22500 [==============================] - 2s 84us/step - loss: 0.2592 - acc: 0.9033\n",
            "Epoch 3/4\n",
            "22500/22500 [==============================] - 2s 85us/step - loss: 0.1798 - acc: 0.9348\n",
            "Epoch 4/4\n",
            "22500/22500 [==============================] - 2s 85us/step - loss: 0.1418 - acc: 0.9512\n",
            "Epoch 1/4\n",
            "22500/22500 [==============================] - 6s 280us/step - loss: 0.5788 - acc: 0.7729\n",
            "Epoch 2/4\n",
            "22500/22500 [==============================] - 2s 88us/step - loss: 0.2535 - acc: 0.9037\n",
            "Epoch 3/4\n",
            "22500/22500 [==============================] - 2s 89us/step - loss: 0.1771 - acc: 0.9363\n",
            "Epoch 4/4\n",
            "22500/22500 [==============================] - 2s 88us/step - loss: 0.1401 - acc: 0.9512\n",
            "Epoch 1/4\n",
            "22500/22500 [==============================] - 7s 300us/step - loss: 0.5914 - acc: 0.7230\n",
            "Epoch 2/4\n",
            "22500/22500 [==============================] - 2s 88us/step - loss: 0.2602 - acc: 0.9023\n",
            "Epoch 3/4\n",
            "22500/22500 [==============================] - 2s 87us/step - loss: 0.1846 - acc: 0.9332\n",
            "Epoch 4/4\n",
            "22500/22500 [==============================] - 2s 85us/step - loss: 0.1452 - acc: 0.9498\n",
            "Epoch 1/4\n",
            "22500/22500 [==============================] - 6s 282us/step - loss: 0.5849 - acc: 0.7531\n",
            "Epoch 2/4\n",
            "22500/22500 [==============================] - 2s 84us/step - loss: 0.2579 - acc: 0.9042\n",
            "Epoch 3/4\n",
            "22500/22500 [==============================] - 2s 83us/step - loss: 0.1788 - acc: 0.9364\n",
            "Epoch 4/4\n",
            "22500/22500 [==============================] - 2s 83us/step - loss: 0.1412 - acc: 0.9501\n",
            "Epoch 1/4\n",
            "22500/22500 [==============================] - 6s 284us/step - loss: 0.5646 - acc: 0.7893\n",
            "Epoch 2/4\n",
            "22500/22500 [==============================] - 2s 84us/step - loss: 0.2530 - acc: 0.9044\n",
            "Epoch 3/4\n",
            "22500/22500 [==============================] - 2s 83us/step - loss: 0.1783 - acc: 0.9354\n",
            "Epoch 4/4\n",
            "22500/22500 [==============================] - 2s 84us/step - loss: 0.1394 - acc: 0.9521\n",
            "Epoch 1/4\n",
            "22500/22500 [==============================] - 6s 281us/step - loss: 0.5457 - acc: 0.8212\n",
            "Epoch 2/4\n",
            "22500/22500 [==============================] - 2s 82us/step - loss: 0.2801 - acc: 0.8994\n",
            "Epoch 3/4\n",
            "22500/22500 [==============================] - 2s 84us/step - loss: 0.2083 - acc: 0.9224\n",
            "Epoch 4/4\n",
            "22500/22500 [==============================] - 2s 84us/step - loss: 0.1733 - acc: 0.9356\n",
            "Epoch 1/4\n",
            "22500/22500 [==============================] - 7s 306us/step - loss: 0.5218 - acc: 0.7877\n",
            "Epoch 2/4\n",
            "22500/22500 [==============================] - 2s 86us/step - loss: 0.2609 - acc: 0.9031\n",
            "Epoch 3/4\n",
            "22500/22500 [==============================] - 2s 88us/step - loss: 0.1976 - acc: 0.9278\n",
            "Epoch 4/4\n",
            "22500/22500 [==============================] - 2s 87us/step - loss: 0.1654 - acc: 0.9402\n",
            "Epoch 1/4\n",
            "22500/22500 [==============================] - 7s 308us/step - loss: 0.5354 - acc: 0.8174\n",
            "Epoch 2/4\n",
            "22500/22500 [==============================] - 2s 86us/step - loss: 0.2706 - acc: 0.9002\n",
            "Epoch 3/4\n",
            "22500/22500 [==============================] - 2s 86us/step - loss: 0.2031 - acc: 0.9241\n",
            "Epoch 4/4\n",
            "22500/22500 [==============================] - 2s 84us/step - loss: 0.1693 - acc: 0.9390\n",
            "Epoch 1/4\n",
            "22500/22500 [==============================] - 6s 288us/step - loss: 0.5433 - acc: 0.8140\n",
            "Epoch 2/4\n",
            "22500/22500 [==============================] - 2s 82us/step - loss: 0.2750 - acc: 0.9008\n",
            "Epoch 3/4\n",
            "22500/22500 [==============================] - 2s 81us/step - loss: 0.2029 - acc: 0.9248\n",
            "Epoch 4/4\n",
            "22500/22500 [==============================] - 2s 82us/step - loss: 0.1703 - acc: 0.9389\n",
            "Epoch 1/4\n",
            "22500/22500 [==============================] - 6s 288us/step - loss: 0.5425 - acc: 0.7803\n",
            "Epoch 2/4\n",
            "22500/22500 [==============================] - 2s 82us/step - loss: 0.2729 - acc: 0.9028\n",
            "Epoch 3/4\n",
            "22500/22500 [==============================] - 2s 82us/step - loss: 0.2015 - acc: 0.9244\n",
            "Epoch 4/4\n",
            "22500/22500 [==============================] - 2s 82us/step - loss: 0.1706 - acc: 0.9381\n",
            "Epoch 1/4\n",
            "22500/22500 [==============================] - 7s 297us/step - loss: 0.5328 - acc: 0.8142\n",
            "Epoch 2/4\n",
            "22500/22500 [==============================] - 2s 82us/step - loss: 0.2698 - acc: 0.9013\n",
            "Epoch 3/4\n",
            "22500/22500 [==============================] - 2s 83us/step - loss: 0.2010 - acc: 0.9254\n",
            "Epoch 4/4\n",
            "22500/22500 [==============================] - 2s 85us/step - loss: 0.1687 - acc: 0.9390\n",
            "Epoch 1/4\n",
            "22500/22500 [==============================] - 7s 317us/step - loss: 0.5535 - acc: 0.8081\n",
            "Epoch 2/4\n",
            "22500/22500 [==============================] - 2s 85us/step - loss: 0.2787 - acc: 0.8984\n",
            "Epoch 3/4\n",
            "22500/22500 [==============================] - 2s 85us/step - loss: 0.2044 - acc: 0.9255\n",
            "Epoch 4/4\n",
            "22500/22500 [==============================] - 2s 86us/step - loss: 0.1698 - acc: 0.9388\n",
            "Epoch 1/4\n",
            "22500/22500 [==============================] - 7s 322us/step - loss: 0.5360 - acc: 0.7872\n",
            "Epoch 2/4\n",
            "22500/22500 [==============================] - 2s 83us/step - loss: 0.2703 - acc: 0.8993\n",
            "Epoch 3/4\n",
            "22500/22500 [==============================] - 2s 83us/step - loss: 0.2027 - acc: 0.9242\n",
            "Epoch 4/4\n",
            "22500/22500 [==============================] - 2s 87us/step - loss: 0.1704 - acc: 0.9388\n",
            "Epoch 1/4\n",
            "22500/22500 [==============================] - 7s 326us/step - loss: 0.5342 - acc: 0.8071\n",
            "Epoch 2/4\n",
            "22500/22500 [==============================] - 2s 89us/step - loss: 0.2663 - acc: 0.9031\n",
            "Epoch 3/4\n",
            "22500/22500 [==============================] - 2s 88us/step - loss: 0.1997 - acc: 0.9260\n",
            "Epoch 4/4\n",
            "22500/22500 [==============================] - 2s 86us/step - loss: 0.1667 - acc: 0.9384\n",
            "Epoch 1/4\n",
            "22500/22500 [==============================] - 7s 312us/step - loss: 0.5370 - acc: 0.7684\n",
            "Epoch 2/4\n",
            "22500/22500 [==============================] - 2s 86us/step - loss: 0.2662 - acc: 0.9027\n",
            "Epoch 3/4\n",
            "22500/22500 [==============================] - 2s 85us/step - loss: 0.1947 - acc: 0.9295\n",
            "Epoch 4/4\n",
            "22500/22500 [==============================] - 2s 85us/step - loss: 0.1631 - acc: 0.9418\n",
            "Epoch 1/2\n",
            "22500/22500 [==============================] - 7s 303us/step - loss: 0.6755 - acc: 0.6871\n",
            "Epoch 2/2\n",
            "22500/22500 [==============================] - 2s 74us/step - loss: 0.4514 - acc: 0.8640\n",
            "Epoch 1/2\n",
            "22500/22500 [==============================] - 7s 307us/step - loss: 0.6699 - acc: 0.7405\n",
            "Epoch 2/2\n",
            "22500/22500 [==============================] - 2s 74us/step - loss: 0.4209 - acc: 0.8690\n",
            "Epoch 1/2\n",
            "22500/22500 [==============================] - 7s 332us/step - loss: 0.6739 - acc: 0.6160\n",
            "Epoch 2/2\n",
            "22500/22500 [==============================] - 2s 75us/step - loss: 0.4408 - acc: 0.8628\n",
            "Epoch 1/2\n",
            "22500/22500 [==============================] - 7s 330us/step - loss: 0.6744 - acc: 0.6478\n",
            "Epoch 2/2\n",
            "22500/22500 [==============================] - 2s 75us/step - loss: 0.4712 - acc: 0.8540\n",
            "Epoch 1/2\n",
            "22500/22500 [==============================] - 8s 335us/step - loss: 0.6753 - acc: 0.7280\n",
            "Epoch 2/2\n",
            "22500/22500 [==============================] - 2s 75us/step - loss: 0.4669 - acc: 0.8622\n",
            "Epoch 1/2\n",
            "22500/22500 [==============================] - 7s 328us/step - loss: 0.6764 - acc: 0.6668\n",
            "Epoch 2/2\n",
            "22500/22500 [==============================] - 2s 73us/step - loss: 0.4568 - acc: 0.8576\n",
            "Epoch 1/2\n",
            "22500/22500 [==============================] - 7s 321us/step - loss: 0.6704 - acc: 0.5960\n",
            "Epoch 2/2\n",
            "22500/22500 [==============================] - 2s 72us/step - loss: 0.4434 - acc: 0.8524\n",
            "Epoch 1/2\n",
            "22500/22500 [==============================] - 7s 325us/step - loss: 0.6750 - acc: 0.6293\n",
            "Epoch 2/2\n",
            "22500/22500 [==============================] - 2s 72us/step - loss: 0.4561 - acc: 0.8545\n",
            "Epoch 1/2\n",
            "22500/22500 [==============================] - 7s 333us/step - loss: 0.6703 - acc: 0.6654\n",
            "Epoch 2/2\n",
            "22500/22500 [==============================] - 2s 72us/step - loss: 0.4391 - acc: 0.8680\n",
            "Epoch 1/2\n",
            "22500/22500 [==============================] - 8s 352us/step - loss: 0.6698 - acc: 0.7392\n",
            "Epoch 2/2\n",
            "22500/22500 [==============================] - 2s 75us/step - loss: 0.4295 - acc: 0.8708\n",
            "Epoch 1/2\n",
            "22500/22500 [==============================] - 8s 350us/step - loss: 0.6273 - acc: 0.7824\n",
            "Epoch 2/2\n",
            "22500/22500 [==============================] - 2s 75us/step - loss: 0.3959 - acc: 0.8782\n",
            "Epoch 1/2\n",
            "22500/22500 [==============================] - 8s 353us/step - loss: 0.6230 - acc: 0.7905\n",
            "Epoch 2/2\n",
            "22500/22500 [==============================] - 2s 75us/step - loss: 0.3874 - acc: 0.8834\n",
            "Epoch 1/2\n",
            "22500/22500 [==============================] - 8s 356us/step - loss: 0.6382 - acc: 0.7935\n",
            "Epoch 2/2\n",
            "22500/22500 [==============================] - 2s 76us/step - loss: 0.4175 - acc: 0.8753\n",
            "Epoch 1/2\n",
            "22500/22500 [==============================] - 8s 354us/step - loss: 0.6394 - acc: 0.7472\n",
            "Epoch 2/2\n",
            "22500/22500 [==============================] - 2s 74us/step - loss: 0.4344 - acc: 0.8741\n",
            "Epoch 1/2\n",
            "22500/22500 [==============================] - 8s 359us/step - loss: 0.6406 - acc: 0.6962\n",
            "Epoch 2/2\n",
            "22500/22500 [==============================] - 2s 73us/step - loss: 0.4411 - acc: 0.8675\n",
            "Epoch 1/2\n",
            "22500/22500 [==============================] - 8s 354us/step - loss: 0.6249 - acc: 0.7347\n",
            "Epoch 2/2\n",
            "22500/22500 [==============================] - 2s 74us/step - loss: 0.3888 - acc: 0.8832\n",
            "Epoch 1/2\n",
            "22500/22500 [==============================] - 8s 369us/step - loss: 0.6352 - acc: 0.6543\n",
            "Epoch 2/2\n",
            "22500/22500 [==============================] - 2s 72us/step - loss: 0.4338 - acc: 0.8644\n",
            "Epoch 1/2\n",
            "22500/22500 [==============================] - 8s 372us/step - loss: 0.6273 - acc: 0.7965\n",
            "Epoch 2/2\n",
            "22500/22500 [==============================] - 2s 74us/step - loss: 0.3976 - acc: 0.8798\n",
            "Epoch 1/2\n",
            "22500/22500 [==============================] - 8s 374us/step - loss: 0.6140 - acc: 0.7548\n",
            "Epoch 2/2\n",
            "22500/22500 [==============================] - 2s 74us/step - loss: 0.3783 - acc: 0.8799\n",
            "Epoch 1/2\n",
            "22500/22500 [==============================] - 8s 375us/step - loss: 0.6132 - acc: 0.7832\n",
            "Epoch 2/2\n",
            "22500/22500 [==============================] - 2s 72us/step - loss: 0.3733 - acc: 0.8822\n",
            "Epoch 1/4\n",
            "22500/22500 [==============================] - 8s 374us/step - loss: 0.6727 - acc: 0.7316\n",
            "Epoch 2/4\n",
            "22500/22500 [==============================] - 2s 75us/step - loss: 0.4484 - acc: 0.8665\n",
            "Epoch 3/4\n",
            "22500/22500 [==============================] - 2s 73us/step - loss: 0.2541 - acc: 0.9085\n",
            "Epoch 4/4\n",
            "22500/22500 [==============================] - 2s 73us/step - loss: 0.1914 - acc: 0.9311\n",
            "Epoch 1/4\n",
            "22500/22500 [==============================] - 8s 371us/step - loss: 0.6752 - acc: 0.6336\n",
            "Epoch 2/4\n",
            "22500/22500 [==============================] - 2s 72us/step - loss: 0.4522 - acc: 0.8550\n",
            "Epoch 3/4\n",
            "22500/22500 [==============================] - 2s 71us/step - loss: 0.2502 - acc: 0.9090\n",
            "Epoch 4/4\n",
            "22500/22500 [==============================] - 2s 73us/step - loss: 0.1876 - acc: 0.9313\n",
            "Epoch 1/4\n",
            "22500/22500 [==============================] - 9s 382us/step - loss: 0.6709 - acc: 0.6332\n",
            "Epoch 2/4\n",
            "22500/22500 [==============================] - 2s 76us/step - loss: 0.4598 - acc: 0.8472\n",
            "Epoch 3/4\n",
            "22500/22500 [==============================] - 2s 75us/step - loss: 0.2569 - acc: 0.9101\n",
            "Epoch 4/4\n",
            "22500/22500 [==============================] - 2s 76us/step - loss: 0.1903 - acc: 0.9327\n",
            "Epoch 1/4\n",
            "22500/22500 [==============================] - 9s 395us/step - loss: 0.6722 - acc: 0.7362\n",
            "Epoch 2/4\n",
            "22500/22500 [==============================] - 2s 77us/step - loss: 0.4312 - acc: 0.8681\n",
            "Epoch 3/4\n",
            "22500/22500 [==============================] - 2s 77us/step - loss: 0.2463 - acc: 0.9093\n",
            "Epoch 4/4\n",
            "22500/22500 [==============================] - 2s 77us/step - loss: 0.1875 - acc: 0.9326\n",
            "Epoch 1/4\n",
            "22500/22500 [==============================] - 9s 403us/step - loss: 0.6742 - acc: 0.7463\n",
            "Epoch 2/4\n",
            "22500/22500 [==============================] - 2s 77us/step - loss: 0.4471 - acc: 0.8673\n",
            "Epoch 3/4\n",
            "22500/22500 [==============================] - 2s 78us/step - loss: 0.2519 - acc: 0.9071\n",
            "Epoch 4/4\n",
            "22500/22500 [==============================] - 2s 78us/step - loss: 0.1902 - acc: 0.9308\n",
            "Epoch 1/4\n",
            "22500/22500 [==============================] - 9s 406us/step - loss: 0.6722 - acc: 0.6864\n",
            "Epoch 2/4\n",
            "22500/22500 [==============================] - 2s 76us/step - loss: 0.4511 - acc: 0.8613\n",
            "Epoch 3/4\n",
            "22500/22500 [==============================] - 2s 75us/step - loss: 0.2584 - acc: 0.9046\n",
            "Epoch 4/4\n",
            "22500/22500 [==============================] - 2s 76us/step - loss: 0.1927 - acc: 0.9300\n",
            "Epoch 1/4\n",
            "22500/22500 [==============================] - 9s 412us/step - loss: 0.6740 - acc: 0.6312\n",
            "Epoch 2/4\n",
            "22500/22500 [==============================] - 2s 77us/step - loss: 0.4408 - acc: 0.8629\n",
            "Epoch 3/4\n",
            "22500/22500 [==============================] - 2s 77us/step - loss: 0.2479 - acc: 0.9090\n",
            "Epoch 4/4\n",
            "22500/22500 [==============================] - 2s 76us/step - loss: 0.1871 - acc: 0.9326\n",
            "Epoch 1/4\n",
            "22500/22500 [==============================] - 9s 412us/step - loss: 0.6725 - acc: 0.6532\n",
            "Epoch 2/4\n",
            "22500/22500 [==============================] - 2s 76us/step - loss: 0.4434 - acc: 0.8634\n",
            "Epoch 3/4\n",
            "22500/22500 [==============================] - 2s 75us/step - loss: 0.2487 - acc: 0.9090\n",
            "Epoch 4/4\n",
            "22500/22500 [==============================] - 2s 75us/step - loss: 0.1873 - acc: 0.9332\n",
            "Epoch 1/4\n",
            "22500/22500 [==============================] - 9s 419us/step - loss: 0.6678 - acc: 0.7327\n",
            "Epoch 2/4\n",
            "22500/22500 [==============================] - 2s 76us/step - loss: 0.4306 - acc: 0.8638\n",
            "Epoch 3/4\n",
            "22500/22500 [==============================] - 2s 77us/step - loss: 0.2476 - acc: 0.9108\n",
            "Epoch 4/4\n",
            "22500/22500 [==============================] - 2s 75us/step - loss: 0.1891 - acc: 0.9324\n",
            "Epoch 1/4\n",
            "22500/22500 [==============================] - 9s 420us/step - loss: 0.6712 - acc: 0.7452\n",
            "Epoch 2/4\n",
            "22500/22500 [==============================] - 2s 76us/step - loss: 0.4298 - acc: 0.8682\n",
            "Epoch 3/4\n",
            "22500/22500 [==============================] - 2s 76us/step - loss: 0.2469 - acc: 0.9082\n",
            "Epoch 4/4\n",
            "22500/22500 [==============================] - 2s 77us/step - loss: 0.1880 - acc: 0.9328\n",
            "Epoch 1/4\n",
            "22500/22500 [==============================] - 9s 420us/step - loss: 0.6293 - acc: 0.7712\n",
            "Epoch 2/4\n",
            "22500/22500 [==============================] - 2s 75us/step - loss: 0.3966 - acc: 0.8783\n",
            "Epoch 3/4\n",
            "22500/22500 [==============================] - 2s 74us/step - loss: 0.2638 - acc: 0.9052\n",
            "Epoch 4/4\n",
            "22500/22500 [==============================] - 2s 74us/step - loss: 0.2087 - acc: 0.9233\n",
            "Epoch 1/4\n",
            "22500/22500 [==============================] - 10s 424us/step - loss: 0.6206 - acc: 0.7418\n",
            "Epoch 2/4\n",
            "22500/22500 [==============================] - 2s 74us/step - loss: 0.3893 - acc: 0.8804\n",
            "Epoch 3/4\n",
            "22500/22500 [==============================] - 2s 76us/step - loss: 0.2608 - acc: 0.9091\n",
            "Epoch 4/4\n",
            "22500/22500 [==============================] - 2s 75us/step - loss: 0.2081 - acc: 0.9253\n",
            "Epoch 1/4\n",
            "22500/22500 [==============================] - 10s 426us/step - loss: 0.6205 - acc: 0.7789\n",
            "Epoch 2/4\n",
            "22500/22500 [==============================] - 2s 75us/step - loss: 0.3840 - acc: 0.8809\n",
            "Epoch 3/4\n",
            "22500/22500 [==============================] - 2s 72us/step - loss: 0.2595 - acc: 0.9065\n",
            "Epoch 4/4\n",
            "22500/22500 [==============================] - 2s 75us/step - loss: 0.2070 - acc: 0.9242\n",
            "Epoch 1/4\n",
            "22500/22500 [==============================] - 10s 430us/step - loss: 0.6207 - acc: 0.7780\n",
            "Epoch 2/4\n",
            "22500/22500 [==============================] - 2s 74us/step - loss: 0.3854 - acc: 0.8807\n",
            "Epoch 3/4\n",
            "22500/22500 [==============================] - 2s 75us/step - loss: 0.2608 - acc: 0.9081\n",
            "Epoch 4/4\n",
            "22500/22500 [==============================] - 2s 74us/step - loss: 0.2091 - acc: 0.9231\n",
            "Epoch 1/4\n",
            "22500/22500 [==============================] - 10s 423us/step - loss: 0.6203 - acc: 0.7897\n",
            "Epoch 2/4\n",
            "22500/22500 [==============================] - 2s 70us/step - loss: 0.3810 - acc: 0.8803\n",
            "Epoch 3/4\n",
            "22500/22500 [==============================] - 2s 71us/step - loss: 0.2543 - acc: 0.9082\n",
            "Epoch 4/4\n",
            "22500/22500 [==============================] - 2s 71us/step - loss: 0.2033 - acc: 0.9252\n",
            "Epoch 1/4\n",
            "22500/22500 [==============================] - 9s 413us/step - loss: 0.6147 - acc: 0.7523\n",
            "Epoch 2/4\n",
            "22500/22500 [==============================] - 2s 70us/step - loss: 0.3804 - acc: 0.8800\n",
            "Epoch 3/4\n",
            "22500/22500 [==============================] - 2s 71us/step - loss: 0.2579 - acc: 0.9088\n",
            "Epoch 4/4\n",
            "22500/22500 [==============================] - 2s 69us/step - loss: 0.2049 - acc: 0.9259\n",
            "Epoch 1/4\n",
            "22500/22500 [==============================] - 9s 420us/step - loss: 0.6205 - acc: 0.6967\n",
            "Epoch 2/4\n",
            "22500/22500 [==============================] - 2s 71us/step - loss: 0.3901 - acc: 0.8829\n",
            "Epoch 3/4\n",
            "22500/22500 [==============================] - 2s 71us/step - loss: 0.2587 - acc: 0.9105\n",
            "Epoch 4/4\n",
            "22500/22500 [==============================] - 2s 71us/step - loss: 0.2051 - acc: 0.9278\n",
            "Epoch 1/4\n",
            "22500/22500 [==============================] - 9s 417us/step - loss: 0.6159 - acc: 0.7795\n",
            "Epoch 2/4\n",
            "22500/22500 [==============================] - 2s 70us/step - loss: 0.3860 - acc: 0.8789\n",
            "Epoch 3/4\n",
            "22500/22500 [==============================] - 2s 70us/step - loss: 0.2623 - acc: 0.9069\n",
            "Epoch 4/4\n",
            "22500/22500 [==============================] - 2s 70us/step - loss: 0.2100 - acc: 0.9236\n",
            "Epoch 1/4\n",
            "22500/22500 [==============================] - 9s 421us/step - loss: 0.6061 - acc: 0.7994\n",
            "Epoch 2/4\n",
            "22500/22500 [==============================] - 2s 70us/step - loss: 0.3655 - acc: 0.8800\n",
            "Epoch 3/4\n",
            "22500/22500 [==============================] - 2s 71us/step - loss: 0.2506 - acc: 0.9078\n",
            "Epoch 4/4\n",
            "22500/22500 [==============================] - 2s 70us/step - loss: 0.2025 - acc: 0.9259\n",
            "Epoch 1/4\n",
            "22500/22500 [==============================] - 10s 425us/step - loss: 0.6194 - acc: 0.7609\n",
            "Epoch 2/4\n",
            "22500/22500 [==============================] - 2s 70us/step - loss: 0.3802 - acc: 0.8811\n",
            "Epoch 3/4\n",
            "22500/22500 [==============================] - 2s 71us/step - loss: 0.2563 - acc: 0.9082\n",
            "Epoch 4/4\n",
            "22500/22500 [==============================] - 2s 70us/step - loss: 0.2037 - acc: 0.9250\n",
            "Epoch 1/4\n",
            "25000/25000 [==============================] - 10s 389us/step - loss: 0.6019 - acc: 0.7717\n",
            "Epoch 2/4\n",
            "25000/25000 [==============================] - 2s 69us/step - loss: 0.3471 - acc: 0.8864\n",
            "Epoch 3/4\n",
            "25000/25000 [==============================] - 2s 71us/step - loss: 0.2391 - acc: 0.9139\n",
            "Epoch 4/4\n",
            "25000/25000 [==============================] - 2s 69us/step - loss: 0.1978 - acc: 0.9276\n"
          ],
          "name": "stdout"
        }
      ]
    },
    {
      "cell_type": "code",
      "metadata": {
        "id": "OaHY_6fxYkdI",
        "colab_type": "code",
        "outputId": "f833f882-548d-423e-e20a-aa648685a623",
        "colab": {
          "base_uri": "https://localhost:8080/",
          "height": 35
        }
      },
      "source": [
        "best_parameters"
      ],
      "execution_count": 0,
      "outputs": [
        {
          "output_type": "execute_result",
          "data": {
            "text/plain": [
              "{'batch_size': 512, 'epochs': 4, 'optimizer': 'rmsprop'}"
            ]
          },
          "metadata": {
            "tags": []
          },
          "execution_count": 27
        }
      ]
    },
    {
      "cell_type": "code",
      "metadata": {
        "id": "aUB5Bjq6YkbJ",
        "colab_type": "code",
        "outputId": "b7d036cb-da0e-4d55-d508-dd039a528ee6",
        "colab": {
          "base_uri": "https://localhost:8080/",
          "height": 35
        }
      },
      "source": [
        "best_accuracy"
      ],
      "execution_count": 0,
      "outputs": [
        {
          "output_type": "execute_result",
          "data": {
            "text/plain": [
              "0.89512"
            ]
          },
          "metadata": {
            "tags": []
          },
          "execution_count": 28
        }
      ]
    },
    {
      "cell_type": "code",
      "metadata": {
        "id": "Wexa0hr0YkUj",
        "colab_type": "code",
        "colab": {}
      },
      "source": [
        ""
      ],
      "execution_count": 0,
      "outputs": []
    },
    {
      "cell_type": "markdown",
      "metadata": {
        "id": "h2fWcXkOtEap",
        "colab_type": "text"
      },
      "source": [
        "# Default Cross validation value = 3 (5 in updated versions)\n"
      ]
    },
    {
      "cell_type": "code",
      "metadata": {
        "id": "xg6Ne8uDtJj8",
        "colab_type": "code",
        "outputId": "42722522-8974-495b-9372-62423e9edb85",
        "colab": {
          "base_uri": "https://localhost:8080/",
          "height": 1000
        }
      },
      "source": [
        "from keras.wrappers.scikit_learn import KerasClassifier \n",
        "from sklearn.model_selection import GridSearchCV\n",
        "\n",
        "import numpy as np\n",
        "\n",
        "from keras.preprocessing import sequence\n",
        "from keras import models\n",
        "from keras import layers\n",
        "from keras.datasets import imdb\n",
        "\n",
        "(train_data, train_labels), (test_data, test_labels) = imdb.load_data(\n",
        "num_words=10000)\n",
        "\n",
        "\n",
        "def vectorize_sequences(sequences, dimension=10000):\n",
        "  results = np.zeros((len(sequences), dimension))\n",
        "  for i, sequence in enumerate(sequences):\n",
        "    results[i, sequence] = 1.\n",
        "  return results\n",
        "\n",
        "x_train = vectorize_sequences(train_data)\n",
        "x_test = vectorize_sequences(test_data)\n",
        "\n",
        "\n",
        "y_train = np.asarray(train_labels).astype('float32')\n",
        "y_test = np.asarray(test_labels).astype('float32')\n",
        "\n",
        "\n",
        "def dl_ex_classifier(optimizer):\n",
        "\tclassifier = models.Sequential()\n",
        "\tclassifier.add(Dense(units=16, kernel_initializer='uniform', activation='relu', input_dim=10000))\n",
        "\tclassifier.add(Dense(units=16, kernel_initializer='uniform', activation='relu'))\n",
        "\tclassifier.add(Dense(units=1, kernel_initializer='uniform', activation='sigmoid'))\n",
        " \n",
        "\tclassifier.compile(optimizer=optimizer, loss='binary_crossentropy', metrics=['accuracy'])\n",
        "\treturn classifier\n",
        "\n",
        "\n",
        "classifier = KerasClassifier(build_fn=dl_ex_classifier)\n",
        "\n",
        "parameters = {'batch_size': [256, 512], 'epochs': [2, 4], 'optimizer': ['adam', 'rmsprop']}\n",
        "\n",
        "grid_search = GridSearchCV(estimator = classifier, param_grid = parameters, scoring = 'accuracy')\n",
        "\n",
        "grid_search = grid_search.fit(x_train, y_train)\n",
        "\n",
        "best_parameters = grid_search.best_params_technology forecasting using patent analysis \n",
        "best_accuracy = grid_search.best_score_\n"
      ],
      "execution_count": 0,
      "outputs": [
        {
          "output_type": "stream",
          "text": [
            "/usr/local/lib/python3.6/dist-packages/sklearn/model_selection/_split.py:1978: FutureWarning: The default value of cv will change from 3 to 5 in version 0.22. Specify it explicitly to silence this warning.\n",
            "  warnings.warn(CV_WARNING, FutureWarning)\n"
          ],
          "name": "stderr"
        },
        {
          "output_type": "stream",
          "text": [
            "Epoch 1/2\n",
            "16666/16666 [==============================] - 10s 578us/step - loss: 0.6445 - acc: 0.7373\n",
            "Epoch 2/2\n",
            "16666/16666 [==============================] - 1s 86us/step - loss: 0.3321 - acc: 0.8879\n",
            "Epoch 1/2\n",
            "16667/16667 [==============================] - 10s 579us/step - loss: 0.6342 - acc: 0.7434\n",
            "Epoch 2/2\n",
            "16667/16667 [==============================] - 1s 84us/step - loss: 0.3125 - acc: 0.8886\n",
            "Epoch 1/2\n",
            "16667/16667 [==============================] - 10s 583us/step - loss: 0.6478 - acc: 0.6440\n",
            "Epoch 2/2\n",
            "16667/16667 [==============================] - 1s 85us/step - loss: 0.3401 - acc: 0.8853\n",
            "Epoch 1/2\n",
            "16666/16666 [==============================] - 10s 578us/step - loss: 0.5832 - acc: 0.8007\n",
            "Epoch 2/2\n",
            "16666/16666 [==============================] - 1s 85us/step - loss: 0.3104 - acc: 0.8950\n",
            "Epoch 1/2\n",
            "16667/16667 [==============================] - 10s 591us/step - loss: 0.5867 - acc: 0.7782\n",
            "Epoch 2/2\n",
            "16667/16667 [==============================] - 1s 82us/step - loss: 0.3130 - acc: 0.8950\n",
            "Epoch 1/2\n",
            "16667/16667 [==============================] - 10s 585us/step - loss: 0.5961 - acc: 0.7795\n",
            "Epoch 2/2\n",
            "16667/16667 [==============================] - 1s 82us/step - loss: 0.3250 - acc: 0.8905\n",
            "Epoch 1/4\n",
            "16666/16666 [==============================] - 10s 590us/step - loss: 0.6567 - acc: 0.5965\n",
            "Epoch 2/4\n",
            "16666/16666 [==============================] - 1s 84us/step - loss: 0.3570 - acc: 0.8774\n",
            "Epoch 3/4\n",
            "16666/16666 [==============================] - 1s 83us/step - loss: 0.2048 - acc: 0.9256\n",
            "Epoch 4/4\n",
            "16666/16666 [==============================] - 1s 85us/step - loss: 0.1505 - acc: 0.9487\n",
            "Epoch 1/4\n",
            "16667/16667 [==============================] - 10s 597us/step - loss: 0.6425 - acc: 0.7432\n",
            "Epoch 2/4\n",
            "16667/16667 [==============================] - 1s 85us/step - loss: 0.3221 - acc: 0.8903\n",
            "Epoch 3/4\n",
            "16667/16667 [==============================] - 1s 84us/step - loss: 0.1940 - acc: 0.9313\n",
            "Epoch 4/4\n",
            "16667/16667 [==============================] - 1s 84us/step - loss: 0.1444 - acc: 0.9525\n",
            "Epoch 1/4\n",
            "16667/16667 [==============================] - 10s 600us/step - loss: 0.6343 - acc: 0.6702\n",
            "Epoch 2/4\n",
            "16667/16667 [==============================] - 1s 83us/step - loss: 0.3166 - acc: 0.8893\n",
            "Epoch 3/4\n",
            "16667/16667 [==============================] - 1s 84us/step - loss: 0.1947 - acc: 0.9301\n",
            "Epoch 4/4\n",
            "16667/16667 [==============================] - 1s 83us/step - loss: 0.1455 - acc: 0.9503\n",
            "Epoch 1/4\n",
            "16666/16666 [==============================] - 10s 599us/step - loss: 0.5794 - acc: 0.7848\n",
            "Epoch 2/4\n",
            "16666/16666 [==============================] - 1s 82us/step - loss: 0.3108 - acc: 0.8927\n",
            "Epoch 3/4\n",
            "16666/16666 [==============================] - 1s 82us/step - loss: 0.2157 - acc: 0.9212\n",
            "Epoch 4/4\n",
            "16666/16666 [==============================] - 1s 80us/step - loss: 0.1723 - acc: 0.9386\n",
            "Epoch 1/4\n",
            "16667/16667 [==============================] - 10s 598us/step - loss: 0.5900 - acc: 0.7778\n",
            "Epoch 2/4\n",
            "16667/16667 [==============================] - 1s 81us/step - loss: 0.3219 - acc: 0.8900\n",
            "Epoch 3/4\n",
            "16667/16667 [==============================] - 1s 82us/step - loss: 0.2228 - acc: 0.9179\n",
            "Epoch 4/4\n",
            "16667/16667 [==============================] - 1s 83us/step - loss: 0.1774 - acc: 0.9359\n",
            "Epoch 1/4\n",
            "16667/16667 [==============================] - 10s 605us/step - loss: 0.5926 - acc: 0.7368\n",
            "Epoch 2/4\n",
            "16667/16667 [==============================] - 1s 83us/step - loss: 0.3204 - acc: 0.8938\n",
            "Epoch 3/4\n",
            "16667/16667 [==============================] - 1s 81us/step - loss: 0.2158 - acc: 0.9222\n",
            "Epoch 4/4\n",
            "16667/16667 [==============================] - 1s 80us/step - loss: 0.1711 - acc: 0.9387\n",
            "Epoch 1/2\n",
            "16666/16666 [==============================] - 10s 605us/step - loss: 0.6869 - acc: 0.5966\n",
            "Epoch 2/2\n",
            "16666/16666 [==============================] - 1s 70us/step - loss: 0.5715 - acc: 0.8465\n",
            "Epoch 1/2\n",
            "16667/16667 [==============================] - 10s 603us/step - loss: 0.6854 - acc: 0.6020\n",
            "Epoch 2/2\n",
            "16667/16667 [==============================] - 1s 70us/step - loss: 0.5580 - acc: 0.8352\n",
            "Epoch 1/2\n",
            "16667/16667 [==============================] - 10s 614us/step - loss: 0.6831 - acc: 0.5889\n",
            "Epoch 2/2\n",
            "16667/16667 [==============================] - 1s 69us/step - loss: 0.5607 - acc: 0.8172\n",
            "Epoch 1/2\n",
            "16666/16666 [==============================] - 10s 622us/step - loss: 0.6407 - acc: 0.7719\n",
            "Epoch 2/2\n",
            "16666/16666 [==============================] - 1s 70us/step - loss: 0.4383 - acc: 0.8736\n",
            "Epoch 1/2\n",
            "16667/16667 [==============================] - 10s 620us/step - loss: 0.6466 - acc: 0.7283\n",
            "Epoch 2/2\n",
            "16667/16667 [==============================] - 1s 70us/step - loss: 0.4519 - acc: 0.8719\n",
            "Epoch 1/2\n",
            "16667/16667 [==============================] - 10s 621us/step - loss: 0.6577 - acc: 0.7571\n",
            "Epoch 2/2\n",
            "16667/16667 [==============================] - 1s 69us/step - loss: 0.4757 - acc: 0.8690\n",
            "Epoch 1/4\n",
            "16666/16666 [==============================] - 10s 627us/step - loss: 0.6844 - acc: 0.5612\n",
            "Epoch 2/4\n",
            "16666/16666 [==============================] - 1s 71us/step - loss: 0.5587 - acc: 0.8151\n",
            "Epoch 3/4\n",
            "16666/16666 [==============================] - 1s 71us/step - loss: 0.3252 - acc: 0.8930\n",
            "Epoch 4/4\n",
            "16666/16666 [==============================] - 1s 71us/step - loss: 0.2160 - acc: 0.9240\n",
            "Epoch 1/4\n",
            "16667/16667 [==============================] - 11s 630us/step - loss: 0.6852 - acc: 0.5943\n",
            "Epoch 2/4\n",
            "16667/16667 [==============================] - 1s 72us/step - loss: 0.5605 - acc: 0.8439\n",
            "Epoch 3/4\n",
            "16667/16667 [==============================] - 1s 71us/step - loss: 0.3248 - acc: 0.8928\n",
            "Epoch 4/4\n",
            "16667/16667 [==============================] - 1s 71us/step - loss: 0.2179 - acc: 0.9228\n",
            "Epoch 1/4\n",
            "16667/16667 [==============================] - 11s 639us/step - loss: 0.6849 - acc: 0.7008\n",
            "Epoch 2/4\n",
            "16667/16667 [==============================] - 1s 70us/step - loss: 0.5542 - acc: 0.8497\n",
            "Epoch 3/4\n",
            "16667/16667 [==============================] - 1s 70us/step - loss: 0.3255 - acc: 0.8916\n",
            "Epoch 4/4\n",
            "16667/16667 [==============================] - 1s 71us/step - loss: 0.2222 - acc: 0.9215\n",
            "Epoch 1/4\n",
            "16666/16666 [==============================] - 11s 637us/step - loss: 0.6503 - acc: 0.7671\n",
            "Epoch 2/4\n",
            "16666/16666 [==============================] - 1s 70us/step - loss: 0.4556 - acc: 0.8721\n",
            "Epoch 3/4\n",
            "16666/16666 [==============================] - 1s 70us/step - loss: 0.3052 - acc: 0.8993\n",
            "Epoch 4/4\n",
            "16666/16666 [==============================] - 1s 70us/step - loss: 0.2301 - acc: 0.9185\n",
            "Epoch 1/4\n",
            "16667/16667 [==============================] - 11s 642us/step - loss: 0.6532 - acc: 0.7571\n",
            "Epoch 2/4\n",
            "16667/16667 [==============================] - 1s 70us/step - loss: 0.4670 - acc: 0.8714\n",
            "Epoch 3/4\n",
            "16667/16667 [==============================] - 1s 70us/step - loss: 0.3172 - acc: 0.8988\n",
            "Epoch 4/4\n",
            "16667/16667 [==============================] - 1s 69us/step - loss: 0.2367 - acc: 0.9197\n",
            "Epoch 1/4\n",
            "16667/16667 [==============================] - 11s 648us/step - loss: 0.6403 - acc: 0.7674\n",
            "Epoch 2/4\n",
            "16667/16667 [==============================] - 1s 69us/step - loss: 0.4378 - acc: 0.8749\n",
            "Epoch 3/4\n",
            "16667/16667 [==============================] - 1s 70us/step - loss: 0.2956 - acc: 0.9015\n",
            "Epoch 4/4\n",
            "16667/16667 [==============================] - 1s 71us/step - loss: 0.2260 - acc: 0.9200\n",
            "Epoch 1/4\n",
            "25000/25000 [==============================] - 11s 458us/step - loss: 0.6642 - acc: 0.7010\n",
            "Epoch 2/4\n",
            "25000/25000 [==============================] - 2s 71us/step - loss: 0.4157 - acc: 0.8664\n",
            "Epoch 3/4\n",
            "25000/25000 [==============================] - 2s 70us/step - loss: 0.2415 - acc: 0.9137\n",
            "Epoch 4/4\n",
            "25000/25000 [==============================] - 2s 71us/step - loss: 0.1859 - acc: 0.9338\n"
          ],
          "name": "stdout"
        }
      ]
    },
    {
      "cell_type": "markdown",
      "metadata": {
        "id": "Dy1pR7_3EJpm",
        "colab_type": "text"
      },
      "source": [
        ""
      ]
    },
    {
      "cell_type": "code",
      "metadata": {
        "id": "-lLHIXBgtS_K",
        "colab_type": "code",
        "colab": {}
      },
      "source": [
        ""
      ],
      "execution_count": 0,
      "outputs": []
    },
    {
      "cell_type": "code",
      "metadata": {
        "id": "i2NNaOzutASc",
        "colab_type": "code",
        "colab": {}
      },
      "source": [
        ""
      ],
      "execution_count": 0,
      "outputs": []
    },
    {
      "cell_type": "markdown",
      "metadata": {
        "id": "EpALwtoJw-xx",
        "colab_type": "text"
      },
      "source": [
        "# 2. Classify Reuters newswires into 46 mutually exclusive topics\n",
        "\n",
        "\n",
        "- Data: Use Reuters data from keras \n",
        "- each data point should be classified into only one category, the problem is more specifically an instance of single-label, multiclass classification\n",
        "- Build model\n",
        "- Train and Validate\n",
        "- Check for overfit case if any: \n",
        "- Plot the results\n"
      ]
    },
    {
      "cell_type": "code",
      "metadata": {
        "id": "UObvUAEhtAWu",
        "colab_type": "code",
        "colab": {}
      },
      "source": [
        ""
      ],
      "execution_count": 0,
      "outputs": []
    },
    {
      "cell_type": "markdown",
      "metadata": {
        "id": "wWKnLaRZxHzS",
        "colab_type": "text"
      },
      "source": [
        "# Use very few words( top 1000) and small number of epochs =5 "
      ]
    },
    {
      "cell_type": "code",
      "metadata": {
        "id": "i-aHkg7ttAqz",
        "colab_type": "code",
        "outputId": "28663186-a30e-4e87-e6b0-f5f2b4e7c9e5",
        "colab": {
          "base_uri": "https://localhost:8080/",
          "height": 592
        }
      },
      "source": [
        "'''Trains and evaluate a simple MLP\n",
        "on the Reuters newswire topic classification task.\n",
        "'''\n",
        "from __future__ import print_function\n",
        "\n",
        "import numpy as np\n",
        "import keras\n",
        "from keras.datasets import reuters\n",
        "from keras.models import Sequential\n",
        "from keras.layers import Dense, Dropout, Activation\n",
        "from keras.preprocessing.text import Tokenizer\n",
        "\n",
        "max_words = 1000 \n",
        "batch_size = 32\n",
        "epochs = 5\n",
        "\n",
        "print('Loading data...')\n",
        "(x_train, y_train), (x_test, y_test) = reuters.load_data(num_words=max_words,\n",
        "                                                         test_split=0.2)\n",
        "print(len(x_train), 'train sequences')\n",
        "print(len(x_test), 'test sequences')\n",
        "\n",
        "num_classes = np.max(y_train) + 1\n",
        "print(num_classes, 'classes')\n",
        "\n",
        "print('Vectorizing sequence data...')\n",
        "tokenizer = Tokenizer(num_words=max_words)\n",
        "x_train = tokenizer.sequences_to_matrix(x_train, mode='binary')\n",
        "x_test = tokenizer.sequences_to_matrix(x_test, mode='binary')\n",
        "print('x_train shape:', x_train.shape)\n",
        "print('x_test shape:', x_test.shape)\n",
        "\n",
        "print('Convert class vector to binary class matrix '\n",
        "      '(for use with categorical_crossentropy)')\n",
        "y_train = keras.utils.to_categorical(y_train, num_classes)\n",
        "y_test = keras.utils.to_categorical(y_test, num_classes)\n",
        "print('y_train shape:', y_train.shape)\n",
        "print('y_test shape:', y_test.shape)\n",
        "\n",
        "print('Building model...')\n",
        "model = Sequential()\n",
        "model.add(Dense(512, input_shape=(max_words,)))\n",
        "model.add(Activation('relu'))\n",
        "model.add(Dropout(0.5))\n",
        "model.add(Dense(num_classes))\n",
        "model.add(Activation('softmax'))\n",
        "\n",
        "model.compile(loss='categorical_crossentropy',\n",
        "              optimizer='adam',\n",
        "              metrics=['accuracy'])\n",
        "\n",
        "history = model.fit(x_train, y_train,\n",
        "                    batch_size=batch_size,\n",
        "                    epochs=epochs,\n",
        "                    verbose=1,\n",
        "                    validation_split=0.1)\n",
        "score = model.evaluate(x_test, y_test,\n",
        "                       batch_size=batch_size, verbose=1)\n",
        "print('Test score:', score[0])\n",
        "print('Test accuracy:', score[1])"
      ],
      "execution_count": 0,
      "outputs": [
        {
          "output_type": "stream",
          "text": [
            "Loading data...\n",
            "Downloading data from https://s3.amazonaws.com/text-datasets/reuters.npz\n",
            "2113536/2110848 [==============================] - 1s 1us/step\n",
            "8982 train sequences\n",
            "2246 test sequences\n",
            "46 classes\n",
            "Vectorizing sequence data...\n",
            "x_train shape: (8982, 1000)\n",
            "x_test shape: (2246, 1000)\n",
            "Convert class vector to binary class matrix (for use with categorical_crossentropy)\n",
            "y_train shape: (8982, 46)\n",
            "y_test shape: (2246, 46)\n",
            "Building model...\n",
            "WARNING:tensorflow:From /usr/local/lib/python3.6/dist-packages/keras/backend/tensorflow_backend.py:148: The name tf.placeholder_with_default is deprecated. Please use tf.compat.v1.placeholder_with_default instead.\n",
            "\n",
            "WARNING:tensorflow:From /usr/local/lib/python3.6/dist-packages/keras/backend/tensorflow_backend.py:3733: calling dropout (from tensorflow.python.ops.nn_ops) with keep_prob is deprecated and will be removed in a future version.\n",
            "Instructions for updating:\n",
            "Please use `rate` instead of `keep_prob`. Rate should be set to `rate = 1 - keep_prob`.\n",
            "Train on 8083 samples, validate on 899 samples\n",
            "Epoch 1/5\n",
            "8083/8083 [==============================] - 2s 213us/step - loss: 1.4266 - acc: 0.6811 - val_loss: 1.0780 - val_acc: 0.7653\n",
            "Epoch 2/5\n",
            "8083/8083 [==============================] - 1s 172us/step - loss: 0.7941 - acc: 0.8122 - val_loss: 0.9091 - val_acc: 0.7898\n",
            "Epoch 3/5\n",
            "8083/8083 [==============================] - 1s 174us/step - loss: 0.5474 - acc: 0.8711 - val_loss: 0.8766 - val_acc: 0.7998\n",
            "Epoch 4/5\n",
            "8083/8083 [==============================] - 1s 171us/step - loss: 0.4180 - acc: 0.8932 - val_loss: 0.8613 - val_acc: 0.7998\n",
            "Epoch 5/5\n",
            "8083/8083 [==============================] - 1s 176us/step - loss: 0.3223 - acc: 0.9177 - val_loss: 0.8885 - val_acc: 0.8098\n",
            "2246/2246 [==============================] - 0s 56us/step\n",
            "Test score: 0.8552183270560559\n",
            "Test accuracy: 0.7965271594475554\n"
          ],
          "name": "stdout"
        }
      ]
    },
    {
      "cell_type": "code",
      "metadata": {
        "id": "pU3e40BZtAQ8",
        "colab_type": "code",
        "outputId": "3fbf3c3f-69ee-4a9c-a314-975964ac1aa9",
        "colab": {
          "base_uri": "https://localhost:8080/",
          "height": 35
        }
      },
      "source": [
        "score "
      ],
      "execution_count": 0,
      "outputs": [
        {
          "output_type": "execute_result",
          "data": {
            "text/plain": [
              "[0.8552183270560559, 0.7965271594475554]"
            ]
          },
          "metadata": {
            "tags": []
          },
          "execution_count": 40
        }
      ]
    },
    {
      "cell_type": "code",
      "metadata": {
        "id": "B11MUbVqtAMa",
        "colab_type": "code",
        "colab": {}
      },
      "source": [
        ""
      ],
      "execution_count": 0,
      "outputs": []
    },
    {
      "cell_type": "markdown",
      "metadata": {
        "id": "11-DEHiAwHEm",
        "colab_type": "text"
      },
      "source": [
        "# Just changing the number of epochs, does it make any difference in terms of loss and accuracy ? "
      ]
    },
    {
      "cell_type": "code",
      "metadata": {
        "id": "EdQq5PnZwR-1",
        "colab_type": "code",
        "outputId": "8df06602-5c54-4edd-d96f-874a8acde5c8",
        "colab": {
          "base_uri": "https://localhost:8080/",
          "height": 1000
        }
      },
      "source": [
        "'''Trains and evaluate a simple MLP\n",
        "on the Reuters newswire topic classification task.\n",
        "'''\n",
        "from __future__ import print_function\n",
        "\n",
        "import numpy as np\n",
        "import keras\n",
        "from keras.datasets import reuters\n",
        "from keras.models import Sequential\n",
        "from keras.layers import Dense, Dropout, Activation\n",
        "from keras.preprocessing.text import Tokenizer\n",
        "\n",
        "max_words = 1000\n",
        "batch_size = 32\n",
        "epochs = 25\n",
        "\n",
        "print('Loading data...')\n",
        "(x_train, y_train), (x_test, y_test) = reuters.load_data(num_words=max_words,\n",
        "                                                         test_split=0.2)\n",
        "print(len(x_train), 'train sequences')\n",
        "print(len(x_test), 'test sequences')\n",
        "\n",
        "num_classes = np.max(y_train) + 1\n",
        "print(num_classes, 'classes')\n",
        "\n",
        "print('Vectorizing sequence data...')\n",
        "tokenizer = Tokenizer(num_words=max_words)\n",
        "x_train = tokenizer.sequences_to_matrix(x_train, mode='binary')\n",
        "x_test = tokenizer.sequences_to_matrix(x_test, mode='binary')\n",
        "print('x_train shape:', x_train.shape)\n",
        "print('x_test shape:', x_test.shape)\n",
        "\n",
        "print('Convert class vector to binary class matrix '\n",
        "      '(for use with categorical_crossentropy)')\n",
        "y_train = keras.utils.to_categorical(y_train, num_classes)\n",
        "y_test = keras.utils.to_categorical(y_test, num_classes)\n",
        "print('y_train shape:', y_train.shape)\n",
        "print('y_test shape:', y_test.shape)\n",
        "\n",
        "print('Building model...')\n",
        "model = Sequential()\n",
        "model.add(Dense(512, input_shape=(max_words,)))\n",
        "model.add(Activation('relu'))\n",
        "model.add(Dropout(0.5))\n",
        "model.add(Dense(num_classes))\n",
        "model.add(Activation('softmax'))\n",
        "\n",
        "model.compile(loss='categorical_crossentropy',\n",
        "              optimizer='adam',\n",
        "              metrics=['accuracy'])\n",
        "\n",
        "history = model.fit(x_train, y_train,\n",
        "                    batch_size=batch_size,\n",
        "                    epochs=epochs,\n",
        "                    verbose=1,\n",
        "                    validation_split=0.1)\n",
        "score = model.evaluate(x_test, y_test,\n",
        "                       batch_size=batch_size, verbose=1)\n",
        "print('Test score:', score[0])\n",
        "print('Test accuracy:', score[1])"
      ],
      "execution_count": 0,
      "outputs": [
        {
          "output_type": "stream",
          "text": [
            "Loading data...\n",
            "8982 train sequences\n",
            "2246 test sequences\n",
            "46 classes\n",
            "Vectorizing sequence data...\n",
            "x_train shape: (8982, 1000)\n",
            "x_test shape: (2246, 1000)\n",
            "Convert class vector to binary class matrix (for use with categorical_crossentropy)\n",
            "y_train shape: (8982, 46)\n",
            "y_test shape: (2246, 46)\n",
            "Building model...\n",
            "Train on 8083 samples, validate on 899 samples\n",
            "Epoch 1/25\n",
            "8083/8083 [==============================] - 2s 211us/step - loss: 1.4107 - acc: 0.6816 - val_loss: 1.0627 - val_acc: 0.7631\n",
            "Epoch 2/25\n",
            "8083/8083 [==============================] - 1s 171us/step - loss: 0.7915 - acc: 0.8152 - val_loss: 0.9175 - val_acc: 0.8053\n",
            "Epoch 3/25\n",
            "8083/8083 [==============================] - 1s 171us/step - loss: 0.5483 - acc: 0.8656 - val_loss: 0.8686 - val_acc: 0.7964\n",
            "Epoch 4/25\n",
            "8083/8083 [==============================] - 1s 177us/step - loss: 0.4121 - acc: 0.8988 - val_loss: 0.8427 - val_acc: 0.8142\n",
            "Epoch 5/25\n",
            "8083/8083 [==============================] - 1s 169us/step - loss: 0.3369 - acc: 0.9161 - val_loss: 0.8890 - val_acc: 0.8087\n",
            "Epoch 6/25\n",
            "8083/8083 [==============================] - 1s 173us/step - loss: 0.2706 - acc: 0.9303 - val_loss: 0.9076 - val_acc: 0.8131\n",
            "Epoch 7/25\n",
            "8083/8083 [==============================] - 1s 177us/step - loss: 0.2314 - acc: 0.9380 - val_loss: 0.9350 - val_acc: 0.8087\n",
            "Epoch 8/25\n",
            "8083/8083 [==============================] - 1s 175us/step - loss: 0.2107 - acc: 0.9442 - val_loss: 0.9486 - val_acc: 0.8042\n",
            "Epoch 9/25\n",
            "8083/8083 [==============================] - 1s 169us/step - loss: 0.1933 - acc: 0.9458 - val_loss: 1.0161 - val_acc: 0.7942\n",
            "Epoch 10/25\n",
            "8083/8083 [==============================] - 1s 177us/step - loss: 0.1836 - acc: 0.9510 - val_loss: 1.0078 - val_acc: 0.7976\n",
            "Epoch 11/25\n",
            "8083/8083 [==============================] - 1s 178us/step - loss: 0.1734 - acc: 0.9518 - val_loss: 1.0506 - val_acc: 0.7976\n",
            "Epoch 12/25\n",
            "8083/8083 [==============================] - 1s 180us/step - loss: 0.1689 - acc: 0.9504 - val_loss: 1.0479 - val_acc: 0.7898\n",
            "Epoch 13/25\n",
            "8083/8083 [==============================] - 1s 175us/step - loss: 0.1726 - acc: 0.9539 - val_loss: 1.0527 - val_acc: 0.8020\n",
            "Epoch 14/25\n",
            "8083/8083 [==============================] - 1s 173us/step - loss: 0.1605 - acc: 0.9557 - val_loss: 1.0677 - val_acc: 0.7931\n",
            "Epoch 15/25\n",
            "8083/8083 [==============================] - 1s 178us/step - loss: 0.1601 - acc: 0.9542 - val_loss: 1.1309 - val_acc: 0.7898\n",
            "Epoch 16/25\n",
            "8083/8083 [==============================] - 1s 173us/step - loss: 0.1603 - acc: 0.9537 - val_loss: 1.1208 - val_acc: 0.7942\n",
            "Epoch 17/25\n",
            "8083/8083 [==============================] - 1s 172us/step - loss: 0.1533 - acc: 0.9555 - val_loss: 1.1168 - val_acc: 0.7976\n",
            "Epoch 18/25\n",
            "8083/8083 [==============================] - 1s 173us/step - loss: 0.1454 - acc: 0.9584 - val_loss: 1.1793 - val_acc: 0.7920\n",
            "Epoch 19/25\n",
            "8083/8083 [==============================] - 1s 176us/step - loss: 0.1462 - acc: 0.9565 - val_loss: 1.1406 - val_acc: 0.7864\n",
            "Epoch 20/25\n",
            "8083/8083 [==============================] - 1s 182us/step - loss: 0.1535 - acc: 0.9577 - val_loss: 1.1578 - val_acc: 0.7909\n",
            "Epoch 21/25\n",
            "8083/8083 [==============================] - 1s 181us/step - loss: 0.1469 - acc: 0.9576 - val_loss: 1.1451 - val_acc: 0.7942\n",
            "Epoch 22/25\n",
            "8083/8083 [==============================] - 1s 181us/step - loss: 0.1521 - acc: 0.9593 - val_loss: 1.2075 - val_acc: 0.7831\n",
            "Epoch 23/25\n",
            "8083/8083 [==============================] - 1s 185us/step - loss: 0.1451 - acc: 0.9578 - val_loss: 1.1620 - val_acc: 0.7953\n",
            "Epoch 24/25\n",
            "8083/8083 [==============================] - 1s 181us/step - loss: 0.1432 - acc: 0.9582 - val_loss: 1.1703 - val_acc: 0.7942\n",
            "Epoch 25/25\n",
            "8083/8083 [==============================] - 1s 183us/step - loss: 0.1443 - acc: 0.9589 - val_loss: 1.1755 - val_acc: 0.7953\n",
            "2246/2246 [==============================] - 0s 62us/step\n",
            "Test score: 1.1806842762767897\n",
            "Test accuracy: 0.7880676759212865\n"
          ],
          "name": "stdout"
        }
      ]
    },
    {
      "cell_type": "code",
      "metadata": {
        "id": "NGLmQyRtwU57",
        "colab_type": "code",
        "colab": {}
      },
      "source": [
        ""
      ],
      "execution_count": 0,
      "outputs": []
    },
    {
      "cell_type": "code",
      "metadata": {
        "id": "dFgWZRtgxTui",
        "colab_type": "code",
        "colab": {}
      },
      "source": [
        ""
      ],
      "execution_count": 0,
      "outputs": []
    },
    {
      "cell_type": "code",
      "metadata": {
        "id": "jYrIF3osxTy6",
        "colab_type": "code",
        "colab": {}
      },
      "source": [
        ""
      ],
      "execution_count": 0,
      "outputs": []
    },
    {
      "cell_type": "markdown",
      "metadata": {
        "id": "etgCLBnIxU9l",
        "colab_type": "text"
      },
      "source": [
        "# Changing the value top words to considered from 1000 to 10000"
      ]
    },
    {
      "cell_type": "code",
      "metadata": {
        "id": "49iV_1vGxTry",
        "colab_type": "code",
        "outputId": "ac94ded6-cf9d-41e0-aee7-c48ab5489220",
        "colab": {
          "base_uri": "https://localhost:8080/",
          "height": 1000
        }
      },
      "source": [
        "'''Trains and evaluate a simple MLP\n",
        "on the Reuters newswire topic classification task.\n",
        "'''\n",
        "from __future__ import print_function\n",
        "\n",
        "import numpy as np\n",
        "import keras\n",
        "from keras.datasets import reuters\n",
        "from keras.models import Sequential\n",
        "from keras.layers import Dense, Dropout, Activation\n",
        "from keras.preprocessing.text import Tokenizer\n",
        "\n",
        "max_words = 10000\n",
        "batch_size = 32\n",
        "epochs = 25\n",
        "\n",
        "print('Loading data...')\n",
        "(x_train, y_train), (x_test, y_test) = reuters.load_data(num_words=max_words,\n",
        "                                                         test_split=0.2)\n",
        "print(len(x_train), 'train sequences')\n",
        "print(len(x_test), 'test sequences')\n",
        "\n",
        "num_classes = np.max(y_train) + 1\n",
        "print(num_classes, 'classes')\n",
        "\n",
        "print('Vectorizing sequence data...')\n",
        "tokenizer = Tokenizer(num_words=max_words)\n",
        "x_train = tokenizer.sequences_to_matrix(x_train, mode='binary')\n",
        "x_test = tokenizer.sequences_to_matrix(x_test, mode='binary')\n",
        "print('x_train shape:', x_train.shape)\n",
        "print('x_test shape:', x_test.shape)\n",
        "\n",
        "print('Convert class vector to binary class matrix '\n",
        "      '(for use with categorical_crossentropy)')\n",
        "y_train = keras.utils.to_categorical(y_train, num_classes)\n",
        "y_test = keras.utils.to_categorical(y_test, num_classes)\n",
        "print('y_train shape:', y_train.shape)\n",
        "print('y_test shape:', y_test.shape)\n",
        "\n",
        "print('Building model...')\n",
        "model = Sequential()\n",
        "model.add(Dense(512, input_shape=(max_words,)))\n",
        "model.add(Activation('relu'))\n",
        "model.add(Dropout(0.5))\n",
        "model.add(Dense(num_classes))\n",
        "model.add(Activation('softmax'))\n",
        "\n",
        "model.compile(loss='categorical_crossentropy',\n",
        "              optimizer='adam',\n",
        "              metrics=['accuracy'])\n",
        "\n",
        "history = model.fit(x_train, y_train,\n",
        "                    batch_size=batch_size,\n",
        "                    epochs=epochs,\n",
        "                    verbose=1,\n",
        "                    validation_split=0.1)\n",
        "score = model.evaluate(x_test, y_test,\n",
        "                       batch_size=batch_size, verbose=1)\n",
        "print('Test score:', score[0])\n",
        "print('Test accuracy:', score[1])"
      ],
      "execution_count": 0,
      "outputs": [
        {
          "output_type": "stream",
          "text": [
            "Loading data...\n",
            "8982 train sequences\n",
            "2246 test sequences\n",
            "46 classes\n",
            "Vectorizing sequence data...\n",
            "x_train shape: (8982, 10000)\n",
            "x_test shape: (2246, 10000)\n",
            "Convert class vector to binary class matrix (for use with categorical_crossentropy)\n",
            "y_train shape: (8982, 46)\n",
            "y_test shape: (2246, 46)\n",
            "Building model...\n",
            "Train on 8083 samples, validate on 899 samples\n",
            "Epoch 1/25\n",
            "8083/8083 [==============================] - 4s 440us/step - loss: 1.3102 - acc: 0.7169 - val_loss: 0.9452 - val_acc: 0.7998\n",
            "Epoch 2/25\n",
            "8083/8083 [==============================] - 3s 372us/step - loss: 0.4979 - acc: 0.8864 - val_loss: 0.8598 - val_acc: 0.8120\n",
            "Epoch 3/25\n",
            "8083/8083 [==============================] - 3s 382us/step - loss: 0.2801 - acc: 0.9362 - val_loss: 0.9026 - val_acc: 0.8187\n",
            "Epoch 4/25\n",
            "8083/8083 [==============================] - 3s 378us/step - loss: 0.2114 - acc: 0.9493 - val_loss: 0.9545 - val_acc: 0.8176\n",
            "Epoch 5/25\n",
            "8083/8083 [==============================] - 3s 382us/step - loss: 0.1980 - acc: 0.9531 - val_loss: 0.9913 - val_acc: 0.8120\n",
            "Epoch 6/25\n",
            "8083/8083 [==============================] - 3s 377us/step - loss: 0.1801 - acc: 0.9556 - val_loss: 1.0396 - val_acc: 0.8076\n",
            "Epoch 7/25\n",
            "8083/8083 [==============================] - 3s 376us/step - loss: 0.1850 - acc: 0.9555 - val_loss: 1.0532 - val_acc: 0.8009\n",
            "Epoch 8/25\n",
            "8083/8083 [==============================] - 3s 377us/step - loss: 0.1667 - acc: 0.9605 - val_loss: 1.1180 - val_acc: 0.7976\n",
            "Epoch 9/25\n",
            "8083/8083 [==============================] - 3s 373us/step - loss: 0.1896 - acc: 0.9569 - val_loss: 1.0553 - val_acc: 0.8053\n",
            "Epoch 10/25\n",
            "8083/8083 [==============================] - 3s 376us/step - loss: 0.1718 - acc: 0.9588 - val_loss: 1.1313 - val_acc: 0.8009\n",
            "Epoch 11/25\n",
            "8083/8083 [==============================] - 3s 381us/step - loss: 0.1731 - acc: 0.9584 - val_loss: 1.1279 - val_acc: 0.8053\n",
            "Epoch 12/25\n",
            "8083/8083 [==============================] - 3s 375us/step - loss: 0.1837 - acc: 0.9576 - val_loss: 1.1421 - val_acc: 0.8020\n",
            "Epoch 13/25\n",
            "8083/8083 [==============================] - 3s 375us/step - loss: 0.1635 - acc: 0.9603 - val_loss: 1.1305 - val_acc: 0.8020\n",
            "Epoch 14/25\n",
            "8083/8083 [==============================] - 3s 374us/step - loss: 0.1816 - acc: 0.9582 - val_loss: 1.1202 - val_acc: 0.8020\n",
            "Epoch 15/25\n",
            "8083/8083 [==============================] - 3s 378us/step - loss: 0.1699 - acc: 0.9602 - val_loss: 1.2334 - val_acc: 0.7998\n",
            "Epoch 16/25\n",
            "8083/8083 [==============================] - 3s 376us/step - loss: 0.1742 - acc: 0.9592 - val_loss: 1.1744 - val_acc: 0.7998\n",
            "Epoch 17/25\n",
            "8083/8083 [==============================] - 3s 370us/step - loss: 0.1723 - acc: 0.9583 - val_loss: 1.2249 - val_acc: 0.8031\n",
            "Epoch 18/25\n",
            "8083/8083 [==============================] - 3s 375us/step - loss: 0.1590 - acc: 0.9623 - val_loss: 1.1947 - val_acc: 0.8065\n",
            "Epoch 19/25\n",
            "8083/8083 [==============================] - 3s 377us/step - loss: 0.1656 - acc: 0.9616 - val_loss: 1.2534 - val_acc: 0.7953\n",
            "Epoch 20/25\n",
            "8083/8083 [==============================] - 3s 372us/step - loss: 0.1602 - acc: 0.9597 - val_loss: 1.2438 - val_acc: 0.7998\n",
            "Epoch 21/25\n",
            "8083/8083 [==============================] - 3s 374us/step - loss: 0.1689 - acc: 0.9600 - val_loss: 1.2419 - val_acc: 0.7998\n",
            "Epoch 22/25\n",
            "8083/8083 [==============================] - 3s 375us/step - loss: 0.1649 - acc: 0.9595 - val_loss: 1.2930 - val_acc: 0.7976\n",
            "Epoch 23/25\n",
            "8083/8083 [==============================] - 3s 373us/step - loss: 0.1716 - acc: 0.9607 - val_loss: 1.3218 - val_acc: 0.7931\n",
            "Epoch 24/25\n",
            "8083/8083 [==============================] - 3s 371us/step - loss: 0.1557 - acc: 0.9615 - val_loss: 1.3731 - val_acc: 0.7976\n",
            "Epoch 25/25\n",
            "8083/8083 [==============================] - 3s 371us/step - loss: 0.1612 - acc: 0.9610 - val_loss: 1.3293 - val_acc: 0.7964\n",
            "2246/2246 [==============================] - 0s 98us/step\n",
            "Test score: 1.2723496372107406\n",
            "Test accuracy: 0.7938557435971546\n"
          ],
          "name": "stdout"
        }
      ]
    },
    {
      "cell_type": "code",
      "metadata": {
        "id": "y01cqwRfxlxR",
        "colab_type": "code",
        "colab": {}
      },
      "source": [
        ""
      ],
      "execution_count": 0,
      "outputs": []
    },
    {
      "cell_type": "code",
      "metadata": {
        "id": "6Tbhq_QEynuq",
        "colab_type": "code",
        "colab": {}
      },
      "source": [
        ""
      ],
      "execution_count": 0,
      "outputs": []
    },
    {
      "cell_type": "code",
      "metadata": {
        "id": "ulKhIoJMyoND",
        "colab_type": "code",
        "colab": {}
      },
      "source": [
        ""
      ],
      "execution_count": 0,
      "outputs": []
    },
    {
      "cell_type": "markdown",
      "metadata": {
        "id": "FK2NJzgTysgN",
        "colab_type": "text"
      },
      "source": [
        "\n",
        "\n",
        "\n",
        "\n",
        "# What is Information bottleneck ?? Can we check this with an example ???\n",
        "\n"
      ]
    },
    {
      "cell_type": "code",
      "metadata": {
        "id": "0G-3Yk1XyntO",
        "colab_type": "code",
        "outputId": "8978b2da-6ddc-45cf-c0ab-990bfb38ee90",
        "colab": {
          "base_uri": "https://localhost:8080/",
          "height": 1000
        }
      },
      "source": [
        "'''Trains and evaluate a simple MLP\n",
        "on the Reuters newswire topic classification task.\n",
        "'''\n",
        "from __future__ import print_function\n",
        "\n",
        "import numpy as np\n",
        "import keras\n",
        "from keras.datasets import reuters\n",
        "from keras.models import Sequential\n",
        "from keras.layers import Dense, Dropout, Activation\n",
        "from keras.preprocessing.text import Tokenizer\n",
        "\n",
        "max_words = 10000\n",
        "batch_size = 32\n",
        "epochs = 25\n",
        "\n",
        "print('Loading data...')\n",
        "(x_train, y_train), (x_test, y_test) = reuters.load_data(num_words=max_words,\n",
        "                                                         test_split=0.2)\n",
        "print(len(x_train), 'train sequences')\n",
        "print(len(x_test), 'test sequences')\n",
        "\n",
        "num_classes = np.max(y_train) + 1\n",
        "print(num_classes, 'classes')\n",
        "\n",
        "print('Vectorizing sequence data...')\n",
        "tokenizer = Tokenizer(num_words=max_words)\n",
        "x_train = tokenizer.sequences_to_matrix(x_train, mode='binary')\n",
        "x_test = tokenizer.sequences_to_matrix(x_test, mode='binary')\n",
        "print('x_train shape:', x_train.shape)\n",
        "print('x_test shape:', x_test.shape)\n",
        "\n",
        "print('Convert class vector to binary class matrix '\n",
        "      '(for use with categorical_crossentropy)')\n",
        "y_train = keras.utils.to_categorical(y_train, num_classes)\n",
        "y_test = keras.utils.to_categorical(y_test, num_classes)\n",
        "print('y_train shape:', y_train.shape)\n",
        "print('y_test shape:', y_test.shape)\n",
        "\n",
        "print('Building model...')\n",
        "model = Sequential()\n",
        "model.add(Dense(512, input_shape=(max_words,)))\n",
        "model.add(Activation('relu'))\n",
        "model.add(Dropout(0.5))\n",
        "model.add(Dense(4, input_shape=(max_words,)))\n",
        "model.add(Activation('relu'))\n",
        "model.add(Dropout(0.5))\n",
        "model.add(Dense(num_classes))\n",
        "model.add(Activation('softmax'))\n",
        "\n",
        "model.compile(loss='categorical_crossentropy',\n",
        "              optimizer='adam',\n",
        "              metrics=['accuracy'])\n",
        "\n",
        "history = model.fit(x_train, y_train,\n",
        "                    batch_size=batch_size,\n",
        "                    epochs=epochs,\n",
        "                    verbose=1,\n",
        "                    validation_split=0.1)\n",
        "score = model.evaluate(x_test, y_test,\n",
        "                       batch_size=batch_size, verbose=1)\n",
        "print('Test score:', score[0])\n",
        "print('Test accuracy:', score[1])"
      ],
      "execution_count": 0,
      "outputs": [
        {
          "output_type": "stream",
          "text": [
            "Loading data...\n",
            "8982 train sequences\n",
            "2246 test sequences\n",
            "46 classes\n",
            "Vectorizing sequence data...\n",
            "x_train shape: (8982, 10000)\n",
            "x_test shape: (2246, 10000)\n",
            "Convert class vector to binary class matrix (for use with categorical_crossentropy)\n",
            "y_train shape: (8982, 46)\n",
            "y_test shape: (2246, 46)\n",
            "Building model...\n",
            "Train on 8083 samples, validate on 899 samples\n",
            "Epoch 1/25\n",
            "8083/8083 [==============================] - 4s 474us/step - loss: 2.9818 - acc: 0.3016 - val_loss: 2.1142 - val_acc: 0.3782\n",
            "Epoch 2/25\n",
            "8083/8083 [==============================] - 3s 377us/step - loss: 2.3805 - acc: 0.4125 - val_loss: 1.7256 - val_acc: 0.6040\n",
            "Epoch 3/25\n",
            "8083/8083 [==============================] - 3s 380us/step - loss: 2.0399 - acc: 0.4443 - val_loss: 1.6896 - val_acc: 0.5907\n",
            "Epoch 4/25\n",
            "8083/8083 [==============================] - 3s 382us/step - loss: 1.9224 - acc: 0.4417 - val_loss: 1.6482 - val_acc: 0.6007\n",
            "Epoch 5/25\n",
            "8083/8083 [==============================] - 3s 380us/step - loss: 1.8554 - acc: 0.4482 - val_loss: 1.6216 - val_acc: 0.5984\n",
            "Epoch 6/25\n",
            "8083/8083 [==============================] - 3s 378us/step - loss: 1.8339 - acc: 0.4397 - val_loss: 1.6140 - val_acc: 0.5984\n",
            "Epoch 7/25\n",
            "8083/8083 [==============================] - 3s 373us/step - loss: 1.7830 - acc: 0.4469 - val_loss: 1.6243 - val_acc: 0.5929\n",
            "Epoch 8/25\n",
            "8083/8083 [==============================] - 3s 376us/step - loss: 1.7550 - acc: 0.4522 - val_loss: 1.6104 - val_acc: 0.5962\n",
            "Epoch 9/25\n",
            "8083/8083 [==============================] - 3s 380us/step - loss: 1.7224 - acc: 0.4592 - val_loss: 1.6298 - val_acc: 0.6040\n",
            "Epoch 10/25\n",
            "8083/8083 [==============================] - 3s 376us/step - loss: 1.7144 - acc: 0.4597 - val_loss: 1.6325 - val_acc: 0.6062\n",
            "Epoch 11/25\n",
            "8083/8083 [==============================] - 3s 375us/step - loss: 1.7138 - acc: 0.4496 - val_loss: 1.6554 - val_acc: 0.6151\n",
            "Epoch 12/25\n",
            "8083/8083 [==============================] - 3s 381us/step - loss: 1.6797 - acc: 0.4623 - val_loss: 1.7019 - val_acc: 0.6007\n",
            "Epoch 13/25\n",
            "8083/8083 [==============================] - 3s 378us/step - loss: 1.6798 - acc: 0.4578 - val_loss: 1.6927 - val_acc: 0.6040\n",
            "Epoch 14/25\n",
            "8083/8083 [==============================] - 3s 382us/step - loss: 1.6626 - acc: 0.4565 - val_loss: 1.7207 - val_acc: 0.5940\n",
            "Epoch 15/25\n",
            "8083/8083 [==============================] - 3s 383us/step - loss: 1.6602 - acc: 0.4634 - val_loss: 1.7245 - val_acc: 0.6151\n",
            "Epoch 16/25\n",
            "8083/8083 [==============================] - 3s 379us/step - loss: 1.6539 - acc: 0.4597 - val_loss: 1.7887 - val_acc: 0.6085\n",
            "Epoch 17/25\n",
            "8083/8083 [==============================] - 3s 379us/step - loss: 1.6233 - acc: 0.4698 - val_loss: 1.7600 - val_acc: 0.6107\n",
            "Epoch 18/25\n",
            "8083/8083 [==============================] - 3s 379us/step - loss: 1.6351 - acc: 0.4714 - val_loss: 1.7469 - val_acc: 0.6118\n",
            "Epoch 19/25\n",
            "8083/8083 [==============================] - 3s 378us/step - loss: 1.6270 - acc: 0.4774 - val_loss: 1.7843 - val_acc: 0.6096\n",
            "Epoch 20/25\n",
            "8083/8083 [==============================] - 3s 381us/step - loss: 1.6154 - acc: 0.4869 - val_loss: 1.8087 - val_acc: 0.6040\n",
            "Epoch 21/25\n",
            "8083/8083 [==============================] - 3s 381us/step - loss: 1.6406 - acc: 0.4856 - val_loss: 1.8517 - val_acc: 0.6140\n",
            "Epoch 22/25\n",
            "8083/8083 [==============================] - 3s 378us/step - loss: 1.6212 - acc: 0.4861 - val_loss: 1.8622 - val_acc: 0.6174\n",
            "Epoch 23/25\n",
            "8083/8083 [==============================] - 3s 378us/step - loss: 1.6271 - acc: 0.4830 - val_loss: 1.8621 - val_acc: 0.6263\n",
            "Epoch 24/25\n",
            "8083/8083 [==============================] - 3s 379us/step - loss: 1.6039 - acc: 0.4895 - val_loss: 1.8864 - val_acc: 0.6151\n",
            "Epoch 25/25\n",
            "8083/8083 [==============================] - 3s 381us/step - loss: 1.6239 - acc: 0.4881 - val_loss: 1.8473 - val_acc: 0.6185\n",
            "2246/2246 [==============================] - 0s 106us/step\n",
            "Test score: 1.7677100536978256\n",
            "Test accuracy: 0.6179875334457744\n"
          ],
          "name": "stdout"
        }
      ]
    },
    {
      "cell_type": "code",
      "metadata": {
        "id": "_tjiGET1ynnD",
        "colab_type": "code",
        "colab": {}
      },
      "source": [
        ""
      ],
      "execution_count": 0,
      "outputs": []
    },
    {
      "cell_type": "markdown",
      "metadata": {
        "id": "unV499vv1KBy",
        "colab_type": "text"
      },
      "source": [
        "# The importance of having sufficiently large intermediate layers\n",
        "\n",
        "      -The final outputs are 46-dimensional, you should avoid \n",
        "      intermediate layers with many fewer than 46 hidden units. \n",
        "\n",
        "      - Now we saw what happens when you introduce an information\n",
        "       bottleneck by having intermediate layers that are \n",
        "       significantly less than 46-dimensional: for example,\n",
        "        4 dimensional."
      ]
    },
    {
      "cell_type": "markdown",
      "metadata": {
        "id": "lKIYPPSC16_U",
        "colab_type": "text"
      },
      "source": [
        "The network now peaks at ~61% validation accuracy, 18% absolute drop. \n",
        "\n",
        "\n",
        "# Reason ?\n",
        "\n",
        "\n",
        "---\n",
        "\n",
        "\n",
        "This drop is mostly due to the fact that we’re trying to compress a lot of information (enough information to recover the separation hyperplanes of 46 classes) into an intermediate\n",
        "space that is too low-dimensional."
      ]
    },
    {
      "cell_type": "code",
      "metadata": {
        "id": "eqU66Lii1JKN",
        "colab_type": "code",
        "colab": {}
      },
      "source": [
        ""
      ],
      "execution_count": 0,
      "outputs": []
    },
    {
      "cell_type": "code",
      "metadata": {
        "id": "6A5Ph_tC1JQ4",
        "colab_type": "code",
        "colab": {}
      },
      "source": [
        ""
      ],
      "execution_count": 0,
      "outputs": []
    },
    {
      "cell_type": "markdown",
      "metadata": {
        "id": "TkPWzKzp9vRj",
        "colab_type": "text"
      },
      "source": [
        "# 3. Linear regression \n",
        "- Predict the median price of homes in a given Boston suburb in the mid-1970s, given data points about the suburb at the time, such as the crime rate, the local property tax rate, and so on.\n",
        "\t- Data: The Boston Housing Price dataset available from keras \n",
        "\t- Build a model \n",
        "\t- Train and validate \n",
        "\t- Make use of  k-fold cross validation \n",
        "\t- Plot the training and validation results \n"
      ]
    },
    {
      "cell_type": "code",
      "metadata": {
        "id": "zSgY0tSL9twa",
        "colab_type": "code",
        "colab": {}
      },
      "source": [
        ""
      ],
      "execution_count": 0,
      "outputs": []
    },
    {
      "cell_type": "code",
      "metadata": {
        "id": "LGBwL-pQ9t54",
        "colab_type": "code",
        "outputId": "61863945-a6ce-4f8c-d6df-b83462cd8684",
        "colab": {
          "base_uri": "https://localhost:8080/",
          "height": 35
        }
      },
      "source": [
        "import keras\n",
        "keras.__version__"
      ],
      "execution_count": 0,
      "outputs": [
        {
          "output_type": "execute_result",
          "data": {
            "text/plain": [
              "'2.2.5'"
            ]
          },
          "metadata": {
            "tags": []
          },
          "execution_count": 44
        }
      ]
    },
    {
      "cell_type": "code",
      "metadata": {
        "id": "0LbLYRAL9t-5",
        "colab_type": "code",
        "outputId": "2f0d0dae-c8a5-4f93-eda4-33d2cee14f5f",
        "colab": {
          "base_uri": "https://localhost:8080/",
          "height": 52
        }
      },
      "source": [
        "from keras.datasets import boston_housing\n",
        "\n",
        "(train_data, train_targets), (test_data, test_targets) =  boston_housing.load_data()"
      ],
      "execution_count": 0,
      "outputs": [
        {
          "output_type": "stream",
          "text": [
            "Downloading data from https://s3.amazonaws.com/keras-datasets/boston_housing.npz\n",
            "57344/57026 [==============================] - 0s 3us/step\n"
          ],
          "name": "stdout"
        }
      ]
    },
    {
      "cell_type": "code",
      "metadata": {
        "id": "OjI-Tc_t9uH3",
        "colab_type": "code",
        "outputId": "4de66254-d6d9-45a4-efd7-8dd70b24df81",
        "colab": {
          "base_uri": "https://localhost:8080/",
          "height": 35
        }
      },
      "source": [
        "train_data.shape"
      ],
      "execution_count": 0,
      "outputs": [
        {
          "output_type": "execute_result",
          "data": {
            "text/plain": [
              "(404, 13)"
            ]
          },
          "metadata": {
            "tags": []
          },
          "execution_count": 46
        }
      ]
    },
    {
      "cell_type": "code",
      "metadata": {
        "id": "Sdh3boHp9ttL",
        "colab_type": "code",
        "outputId": "6e82944c-789c-4707-f793-3941aec502c0",
        "colab": {
          "base_uri": "https://localhost:8080/",
          "height": 35
        }
      },
      "source": [
        "test_data.shape"
      ],
      "execution_count": 0,
      "outputs": [
        {
          "output_type": "execute_result",
          "data": {
            "text/plain": [
              "(102, 13)"
            ]
          },
          "metadata": {
            "tags": []
          },
          "execution_count": 47
        }
      ]
    },
    {
      "cell_type": "code",
      "metadata": {
        "id": "uJmBzaWH9tri",
        "colab_type": "code",
        "colab": {}
      },
      "source": [
        ""
      ],
      "execution_count": 0,
      "outputs": []
    },
    {
      "cell_type": "markdown",
      "metadata": {
        "id": "1JExuoHO-UUE",
        "colab_type": "text"
      },
      "source": [
        "As you can see, we have 404 training samples and 102 test samples. The data comprises 13 features. The 13 features in the input data are as follow:\n",
        "\n",
        "      -Per capita crime rate.\n",
        "      -Proportion of residential land zoned for lots over 25,000 \n",
        "      square feet.\n",
        "      -Proportion of non-retail business acres per town.\n",
        "      -Charles River dummy variable (= 1 if tract bounds river; \n",
        "      0 otherwise).\n",
        "      -Nitric oxides concentration (parts per 10 million).\n",
        "      -Average number of rooms per dwelling.\n",
        "      -Proportion of owner-occupied units built prior to 1940.\n",
        "      -Weighted distances to five Boston employment centres.\n",
        "      -Index of accessibility to radial highways.\n",
        "      -Full-value property-tax rate per $10,000.\n",
        "      -Pupil-teacher ratio by town.\n",
        "      -1000 * (Bk - 0.63) ** 2 where Bk is the proportion of \n",
        "          Black people by town.\n",
        "      -% lower status of the population.\n",
        "      \n",
        "The targets are the median values of owner-occupied homes, in thousands of dollars:"
      ]
    },
    {
      "cell_type": "code",
      "metadata": {
        "id": "D84CKxlT9toR",
        "colab_type": "code",
        "outputId": "ee7f1136-c618-4759-d29f-12ed835b7444",
        "colab": {
          "base_uri": "https://localhost:8080/",
          "height": 659
        }
      },
      "source": [
        "train_targets"
      ],
      "execution_count": 0,
      "outputs": [
        {
          "output_type": "execute_result",
          "data": {
            "text/plain": [
              "array([15.2, 42.3, 50. , 21.1, 17.7, 18.5, 11.3, 15.6, 15.6, 14.4, 12.1,\n",
              "       17.9, 23.1, 19.9, 15.7,  8.8, 50. , 22.5, 24.1, 27.5, 10.9, 30.8,\n",
              "       32.9, 24. , 18.5, 13.3, 22.9, 34.7, 16.6, 17.5, 22.3, 16.1, 14.9,\n",
              "       23.1, 34.9, 25. , 13.9, 13.1, 20.4, 20. , 15.2, 24.7, 22.2, 16.7,\n",
              "       12.7, 15.6, 18.4, 21. , 30.1, 15.1, 18.7,  9.6, 31.5, 24.8, 19.1,\n",
              "       22. , 14.5, 11. , 32. , 29.4, 20.3, 24.4, 14.6, 19.5, 14.1, 14.3,\n",
              "       15.6, 10.5,  6.3, 19.3, 19.3, 13.4, 36.4, 17.8, 13.5, 16.5,  8.3,\n",
              "       14.3, 16. , 13.4, 28.6, 43.5, 20.2, 22. , 23. , 20.7, 12.5, 48.5,\n",
              "       14.6, 13.4, 23.7, 50. , 21.7, 39.8, 38.7, 22.2, 34.9, 22.5, 31.1,\n",
              "       28.7, 46. , 41.7, 21. , 26.6, 15. , 24.4, 13.3, 21.2, 11.7, 21.7,\n",
              "       19.4, 50. , 22.8, 19.7, 24.7, 36.2, 14.2, 18.9, 18.3, 20.6, 24.6,\n",
              "       18.2,  8.7, 44. , 10.4, 13.2, 21.2, 37. , 30.7, 22.9, 20. , 19.3,\n",
              "       31.7, 32. , 23.1, 18.8, 10.9, 50. , 19.6,  5. , 14.4, 19.8, 13.8,\n",
              "       19.6, 23.9, 24.5, 25. , 19.9, 17.2, 24.6, 13.5, 26.6, 21.4, 11.9,\n",
              "       22.6, 19.6,  8.5, 23.7, 23.1, 22.4, 20.5, 23.6, 18.4, 35.2, 23.1,\n",
              "       27.9, 20.6, 23.7, 28. , 13.6, 27.1, 23.6, 20.6, 18.2, 21.7, 17.1,\n",
              "        8.4, 25.3, 13.8, 22.2, 18.4, 20.7, 31.6, 30.5, 20.3,  8.8, 19.2,\n",
              "       19.4, 23.1, 23. , 14.8, 48.8, 22.6, 33.4, 21.1, 13.6, 32.2, 13.1,\n",
              "       23.4, 18.9, 23.9, 11.8, 23.3, 22.8, 19.6, 16.7, 13.4, 22.2, 20.4,\n",
              "       21.8, 26.4, 14.9, 24.1, 23.8, 12.3, 29.1, 21. , 19.5, 23.3, 23.8,\n",
              "       17.8, 11.5, 21.7, 19.9, 25. , 33.4, 28.5, 21.4, 24.3, 27.5, 33.1,\n",
              "       16.2, 23.3, 48.3, 22.9, 22.8, 13.1, 12.7, 22.6, 15. , 15.3, 10.5,\n",
              "       24. , 18.5, 21.7, 19.5, 33.2, 23.2,  5. , 19.1, 12.7, 22.3, 10.2,\n",
              "       13.9, 16.3, 17. , 20.1, 29.9, 17.2, 37.3, 45.4, 17.8, 23.2, 29. ,\n",
              "       22. , 18. , 17.4, 34.6, 20.1, 25. , 15.6, 24.8, 28.2, 21.2, 21.4,\n",
              "       23.8, 31. , 26.2, 17.4, 37.9, 17.5, 20. ,  8.3, 23.9,  8.4, 13.8,\n",
              "        7.2, 11.7, 17.1, 21.6, 50. , 16.1, 20.4, 20.6, 21.4, 20.6, 36.5,\n",
              "        8.5, 24.8, 10.8, 21.9, 17.3, 18.9, 36.2, 14.9, 18.2, 33.3, 21.8,\n",
              "       19.7, 31.6, 24.8, 19.4, 22.8,  7.5, 44.8, 16.8, 18.7, 50. , 50. ,\n",
              "       19.5, 20.1, 50. , 17.2, 20.8, 19.3, 41.3, 20.4, 20.5, 13.8, 16.5,\n",
              "       23.9, 20.6, 31.5, 23.3, 16.8, 14. , 33.8, 36.1, 12.8, 18.3, 18.7,\n",
              "       19.1, 29. , 30.1, 50. , 50. , 22. , 11.9, 37.6, 50. , 22.7, 20.8,\n",
              "       23.5, 27.9, 50. , 19.3, 23.9, 22.6, 15.2, 21.7, 19.2, 43.8, 20.3,\n",
              "       33.2, 19.9, 22.5, 32.7, 22. , 17.1, 19. , 15. , 16.1, 25.1, 23.7,\n",
              "       28.7, 37.2, 22.6, 16.4, 25. , 29.8, 22.1, 17.4, 18.1, 30.3, 17.5,\n",
              "       24.7, 12.6, 26.5, 28.7, 13.3, 10.4, 24.4, 23. , 20. , 17.8,  7. ,\n",
              "       11.8, 24.4, 13.8, 19.4, 25.2, 19.4, 19.4, 29.1])"
            ]
          },
          "metadata": {
            "tags": []
          },
          "execution_count": 48
        }
      ]
    },
    {
      "cell_type": "code",
      "metadata": {
        "id": "SgxJyUdL9tjW",
        "colab_type": "code",
        "colab": {}
      },
      "source": [
        ""
      ],
      "execution_count": 0,
      "outputs": []
    },
    {
      "cell_type": "markdown",
      "metadata": {
        "id": "iRlupGCi-3RV",
        "colab_type": "text"
      },
      "source": [
        "The prices are typically between \\$10,000 and \\$50,000. If that sounds cheap, remember this was the mid-1970s, and these prices are not inflation-adjusted.\n",
        "\n",
        "# Preparing the data\n",
        "\n",
        "It would be problematic to feed into a neural network values that all take wildly different ranges. \n",
        "\n",
        "The network might be able to automatically adapt to such heterogeneous data, but it would definitely make learning more difficult.\n",
        "\n",
        " A widespread best practice to deal with such data is to do feature-wise normalization: for each feature in the input data (a column in the input data matrix), we will subtract the mean of the feature and divide by the standard deviation, so that the feature will be centered around 0 and will have a unit standard deviation. This is easily done in Numpy:"
      ]
    },
    {
      "cell_type": "code",
      "metadata": {
        "id": "2pIk8R0K-8tz",
        "colab_type": "code",
        "colab": {}
      },
      "source": [
        "mean = train_data.mean(axis=0)\n",
        "train_data -= mean\n",
        "std = train_data.std(axis=0)\n",
        "train_data /= std\n",
        "\n",
        "test_data -= mean\n",
        "test_data /= std"
      ],
      "execution_count": 0,
      "outputs": []
    },
    {
      "cell_type": "code",
      "metadata": {
        "id": "XB1e4Etf-_9W",
        "colab_type": "code",
        "colab": {}
      },
      "source": [
        ""
      ],
      "execution_count": 0,
      "outputs": []
    },
    {
      "cell_type": "markdown",
      "metadata": {
        "id": "3ysBsmkO_GRD",
        "colab_type": "text"
      },
      "source": [
        "**Note** that the quantities that we use for normalizing the test data have been computed using the training data. We should never use in our workflow any quantity computed on the test data, even for something as simple as data normalization.\n",
        "\n",
        "# Building our network\n",
        "\n",
        "Because so few samples are available, we will be using a very small network with two hidden layers, each with 64 units. \n",
        "\n",
        "In general, the less training data you have, the worse overfitting will be, and using a small network is one way to mitigate overfitting."
      ]
    },
    {
      "cell_type": "code",
      "metadata": {
        "id": "VfE3nhYR_LS7",
        "colab_type": "code",
        "colab": {}
      },
      "source": [
        "from keras import models\n",
        "from keras import layers\n",
        "\n",
        "def build_model():\n",
        "    # Because we will need to instantiate\n",
        "    # the same model multiple times,\n",
        "    # we use a function to construct it.\n",
        "    model = models.Sequential()\n",
        "    model.add(layers.Dense(64, activation='relu',\n",
        "                           input_shape=(train_data.shape[1],)))\n",
        "    model.add(layers.Dense(64, activation='relu'))\n",
        "    model.add(layers.Dense(1))\n",
        "    model.compile(optimizer='rmsprop', loss='mse', metrics=['mae'])\n",
        "    return model"
      ],
      "execution_count": 0,
      "outputs": []
    },
    {
      "cell_type": "code",
      "metadata": {
        "id": "SvvvB_hI_OyR",
        "colab_type": "code",
        "colab": {}
      },
      "source": [
        ""
      ],
      "execution_count": 0,
      "outputs": []
    },
    {
      "cell_type": "markdown",
      "metadata": {
        "id": "ra2YxwRn_UtZ",
        "colab_type": "text"
      },
      "source": [
        "Our network ends with a single unit, and no activation (i.e. it will be linear layer). This is a typical setup for scalar regression (i.e. regression where we are trying to predict a single continuous value). Applying an activation function would constrain the range that the output can take; for instance if we applied a sigmoid activation function to our last layer, the network could only learn to predict values between 0 and 1. Here, because the last layer is purely linear, the network is free to learn to predict values in any range.\n",
        "\n",
        "Note that we are compiling the network with the mse loss function -- Mean Squared Error, the square of the difference between the predictions and the targets, a widely used loss function for regression problems.\n",
        "\n",
        "We are also monitoring a new metric during training: mae. This stands for Mean Absolute Error. It is simply the absolute value of the difference between the predictions and the targets. For instance, a MAE of 0.5 on this problem would mean that our predictions are off by \\$500 on average.\n",
        "\n",
        "# Validating our approach using K-fold validation\n",
        "\n",
        "To evaluate our network while we keep adjusting its parameters (such as the number of epochs used for training), we could simply split the data into a training set and a validation set, as we were doing in our previous examples. However, because we have so few data points, the validation set would end up being very small (e.g. about 100 examples). A consequence is that our validation scores may change a lot depending on which data points we choose to use for validation and which we choose for training, i.e. the validation scores may have a high variance with regard to the validation split. This would prevent us from reliably evaluating our model.\n",
        "\n",
        "The best practice in such situations is to use K-fold cross-validation. It consists of splitting the available data into K partitions (typically K=4 or 5), then instantiating K identical models, and training each one on K-1 partitions while evaluating on the remaining partition. The validation score for the model used would then be the average of the K validation scores obtained.\n",
        "\n",
        "In terms of code, this is straightforward:"
      ]
    },
    {
      "cell_type": "code",
      "metadata": {
        "id": "xPHRCSZh_X1H",
        "colab_type": "code",
        "outputId": "73813d23-0bee-4735-bc38-ba4b6a8c1f86",
        "colab": {
          "base_uri": "https://localhost:8080/",
          "height": 87
        }
      },
      "source": [
        "import numpy as np\n",
        "\n",
        "k = 4\n",
        "num_val_samples = len(train_data) // k\n",
        "num_epochs = 100\n",
        "all_scores = []\n",
        "\n",
        "for i in range(k):\n",
        "    print('processing fold #', i)\n",
        "    # Prepare the validation data: data from partition # k\n",
        "    val_data = train_data[i * num_val_samples: (i + 1) * num_val_samples]\n",
        "    val_targets = train_targets[i * num_val_samples: (i + 1) * num_val_samples]\n",
        "\n",
        "    # Prepare the training data: data from all other partitions\n",
        "    partial_train_data = np.concatenate(\n",
        "        [train_data[:i * num_val_samples],\n",
        "         train_data[(i + 1) * num_val_samples:]],\n",
        "        axis=0)\n",
        "    partial_train_targets = np.concatenate(\n",
        "        [train_targets[:i * num_val_samples],\n",
        "         train_targets[(i + 1) * num_val_samples:]],\n",
        "        axis=0)\n",
        "\n",
        "    # Build the Keras model (already compiled)\n",
        "    model = build_model()\n",
        "    # Train the model (in silent mode, verbose=0)\n",
        "    model.fit(partial_train_data, partial_train_targets,\n",
        "              epochs=num_epochs, batch_size=1, verbose=0)\n",
        "    # Evaluate the model on the validation data\n",
        "    val_mse, val_mae = model.evaluate(val_data, val_targets, verbose=0)\n",
        "    all_scores.append(val_mae)"
      ],
      "execution_count": 0,
      "outputs": [
        {
          "output_type": "stream",
          "text": [
            "processing fold # 0\n",
            "processing fold # 1\n",
            "processing fold # 2\n",
            "processing fold # 3\n"
          ],
          "name": "stdout"
        }
      ]
    },
    {
      "cell_type": "code",
      "metadata": {
        "id": "yqTLcPV7_nMH",
        "colab_type": "code",
        "colab": {}
      },
      "source": [
        ""
      ],
      "execution_count": 0,
      "outputs": []
    },
    {
      "cell_type": "code",
      "metadata": {
        "id": "8PUb03T9B4P8",
        "colab_type": "code",
        "colab": {}
      },
      "source": [
        ""
      ],
      "execution_count": 0,
      "outputs": []
    },
    {
      "cell_type": "code",
      "metadata": {
        "id": "iiR6D0Z8B4L_",
        "colab_type": "code",
        "colab": {}
      },
      "source": [
        ""
      ],
      "execution_count": 0,
      "outputs": []
    },
    {
      "cell_type": "code",
      "metadata": {
        "id": "8Gn1pJBe_r0d",
        "colab_type": "code",
        "outputId": "5e8292b1-e3f3-4b9f-98dd-48d7bbd73efe",
        "colab": {
          "base_uri": "https://localhost:8080/",
          "height": 35
        }
      },
      "source": [
        "all_scores"
      ],
      "execution_count": 0,
      "outputs": [
        {
          "output_type": "execute_result",
          "data": {
            "text/plain": [
              "[2.1080476930826015, 2.3698492970797096, 2.729290190309581, 2.472803566715505]"
            ]
          },
          "metadata": {
            "tags": []
          },
          "execution_count": 52
        }
      ]
    },
    {
      "cell_type": "code",
      "metadata": {
        "id": "5apXjwQK_sH5",
        "colab_type": "code",
        "colab": {}
      },
      "source": [
        ""
      ],
      "execution_count": 0,
      "outputs": []
    },
    {
      "cell_type": "code",
      "metadata": {
        "id": "BfvyTLDR_sRD",
        "colab_type": "code",
        "outputId": "bee1c64b-0777-4e7e-ce71-90c4b7555023",
        "colab": {
          "base_uri": "https://localhost:8080/",
          "height": 35
        }
      },
      "source": [
        "np.mean(all_scores)"
      ],
      "execution_count": 0,
      "outputs": [
        {
          "output_type": "execute_result",
          "data": {
            "text/plain": [
              "2.419997686796849"
            ]
          },
          "metadata": {
            "tags": []
          },
          "execution_count": 53
        }
      ]
    },
    {
      "cell_type": "code",
      "metadata": {
        "id": "PnUoQ2GhANMu",
        "colab_type": "code",
        "colab": {}
      },
      "source": [
        ""
      ],
      "execution_count": 0,
      "outputs": []
    },
    {
      "cell_type": "code",
      "metadata": {
        "id": "B-T7fFiLB6r7",
        "colab_type": "code",
        "colab": {}
      },
      "source": [
        ""
      ],
      "execution_count": 0,
      "outputs": []
    },
    {
      "cell_type": "markdown",
      "metadata": {
        "id": "PowOCc1LB7ky",
        "colab_type": "text"
      },
      "source": [
        "# Let's try training the network for a bit longer: 150 epochs"
      ]
    },
    {
      "cell_type": "code",
      "metadata": {
        "id": "NNgJwDQnB6ny",
        "colab_type": "code",
        "outputId": "efaeecaf-672c-4709-a2d3-332ad54c2a1a",
        "colab": {
          "base_uri": "https://localhost:8080/",
          "height": 72
        }
      },
      "source": [
        "from keras import backend as K\n",
        "\n",
        "# Some memory clean-up\n",
        "K.clear_session()"
      ],
      "execution_count": 0,
      "outputs": [
        {
          "output_type": "stream",
          "text": [
            "WARNING:tensorflow:From /usr/local/lib/python3.6/dist-packages/keras/backend/tensorflow_backend.py:107: The name tf.reset_default_graph is deprecated. Please use tf.compat.v1.reset_default_graph instead.\n",
            "\n"
          ],
          "name": "stdout"
        }
      ]
    },
    {
      "cell_type": "code",
      "metadata": {
        "id": "vu4iThczB6lu",
        "colab_type": "code",
        "outputId": "44c85e08-ae75-469c-86c2-8164931dc0f4",
        "colab": {
          "base_uri": "https://localhost:8080/",
          "height": 87
        }
      },
      "source": [
        "num_epochs = 150\n",
        "all_mae_histories = []\n",
        "for i in range(k):\n",
        "    print('processing fold #', i)\n",
        "    # Prepare the validation data: data from partition # k\n",
        "    val_data = train_data[i * num_val_samples: (i + 1) * num_val_samples]\n",
        "    val_targets = train_targets[i * num_val_samples: (i + 1) * num_val_samples]\n",
        "\n",
        "    # Prepare the training data: data from all other partitions\n",
        "    partial_train_data = np.concatenate(\n",
        "        [train_data[:i * num_val_samples],\n",
        "         train_data[(i + 1) * num_val_samples:]],\n",
        "        axis=0)\n",
        "    partial_train_targets = np.concatenate(\n",
        "        [train_targets[:i * num_val_samples],\n",
        "         train_targets[(i + 1) * num_val_samples:]],\n",
        "        axis=0)\n",
        "\n",
        "    # Build the Keras model (already compiled)\n",
        "    model = build_model()\n",
        "    # Train the model (in silent mode, verbose=0)\n",
        "    history = model.fit(partial_train_data, partial_train_targets,\n",
        "                        validation_data=(val_data, val_targets),\n",
        "                        epochs=num_epochs, batch_size=1, verbose=0)\n",
        "    mae_history = history.history['val_mean_absolute_error']\n",
        "    all_mae_histories.append(mae_history)"
      ],
      "execution_count": 0,
      "outputs": [
        {
          "output_type": "stream",
          "text": [
            "processing fold # 0\n",
            "processing fold # 1\n",
            "processing fold # 2\n",
            "processing fold # 3\n"
          ],
          "name": "stdout"
        }
      ]
    },
    {
      "cell_type": "code",
      "metadata": {
        "id": "d1IdOL0wB6gF",
        "colab_type": "code",
        "colab": {}
      },
      "source": [
        ""
      ],
      "execution_count": 0,
      "outputs": []
    },
    {
      "cell_type": "code",
      "metadata": {
        "id": "7cnkkpaXANax",
        "colab_type": "code",
        "colab": {}
      },
      "source": [
        ""
      ],
      "execution_count": 0,
      "outputs": []
    },
    {
      "cell_type": "markdown",
      "metadata": {
        "id": "071kN3RqATN8",
        "colab_type": "text"
      },
      "source": [
        "We can then compute the average of the per-epoch MAE scores for all folds:"
      ]
    },
    {
      "cell_type": "code",
      "metadata": {
        "id": "DILjETC7ANld",
        "colab_type": "code",
        "colab": {}
      },
      "source": [
        ""
      ],
      "execution_count": 0,
      "outputs": []
    },
    {
      "cell_type": "code",
      "metadata": {
        "id": "Thpck5iL_sYQ",
        "colab_type": "code",
        "colab": {}
      },
      "source": [
        "average_mae_history = [\n",
        "    np.mean([x[i] for x in all_mae_histories]) for i in range(num_epochs)]"
      ],
      "execution_count": 0,
      "outputs": []
    },
    {
      "cell_type": "code",
      "metadata": {
        "id": "xl4NglnoAY9J",
        "colab_type": "code",
        "colab": {}
      },
      "source": [
        ""
      ],
      "execution_count": 0,
      "outputs": []
    },
    {
      "cell_type": "markdown",
      "metadata": {
        "id": "O8LB_yRqAc6F",
        "colab_type": "text"
      },
      "source": [
        "Let's plot this:"
      ]
    },
    {
      "cell_type": "code",
      "metadata": {
        "id": "Uf3PgUk8AZDV",
        "colab_type": "code",
        "colab": {}
      },
      "source": [
        ""
      ],
      "execution_count": 0,
      "outputs": []
    },
    {
      "cell_type": "code",
      "metadata": {
        "id": "JD-3HDIiAY6g",
        "colab_type": "code",
        "outputId": "692727de-05ec-4064-ef77-a1e4f4cdbb4c",
        "colab": {
          "base_uri": "https://localhost:8080/",
          "height": 279
        }
      },
      "source": [
        "import matplotlib.pyplot as plt\n",
        "\n",
        "plt.plot(range(1, len(average_mae_history) + 1), average_mae_history)\n",
        "plt.xlabel('Epochs')\n",
        "plt.ylabel('Validation MAE')\n",
        "plt.show()"
      ],
      "execution_count": 0,
      "outputs": [
        {
          "output_type": "display_data",
          "data": {
            "image/png": "[encoded data removed]",
            "text/plain": [
              "<Figure size 432x288 with 1 Axes>"
            ]
          },
          "metadata": {
            "tags": []
          }
        }
      ]
    },
    {
      "cell_type": "code",
      "metadata": {
        "id": "YSa31fMeAY1E",
        "colab_type": "code",
        "colab": {}
      },
      "source": [
        ""
      ],
      "execution_count": 0,
      "outputs": []
    },
    {
      "cell_type": "markdown",
      "metadata": {
        "id": "8nn_j13zAqpC",
        "colab_type": "text"
      },
      "source": [
        "It may be a bit hard to see the plot due to scaling issues and relatively high variance. Let's:\n",
        "\n",
        "Omit the first 10 data points, which are on a different scale from the rest of the curve.\n",
        "\n",
        "\n",
        "Replace each point with an exponential moving average of the previous points, to obtain a smooth curve."
      ]
    },
    {
      "cell_type": "code",
      "metadata": {
        "id": "br0cYSiBA2tF",
        "colab_type": "code",
        "colab": {}
      },
      "source": [
        ""
      ],
      "execution_count": 0,
      "outputs": []
    },
    {
      "cell_type": "code",
      "metadata": {
        "id": "PpC8aFJCA28b",
        "colab_type": "code",
        "outputId": "9afd2ed7-c6f6-4cc1-bc2f-64e413e6c6a8",
        "colab": {
          "base_uri": "https://localhost:8080/",
          "height": 279
        }
      },
      "source": [
        "def smooth_curve(points, factor=0.9):\n",
        "  smoothed_points = []\n",
        "  for point in points:\n",
        "    if smoothed_points:\n",
        "      previous = smoothed_points[-1]\n",
        "      smoothed_points.append(previous * factor + point * (1 - factor))\n",
        "    else:\n",
        "      smoothed_points.append(point)\n",
        "  return smoothed_points\n",
        "\n",
        "smooth_mae_history = smooth_curve(average_mae_history[10:])\n",
        "\n",
        "plt.plot(range(1, len(smooth_mae_history) + 1), smooth_mae_history)\n",
        "plt.xlabel('Epochs')\n",
        "plt.ylabel('Validation MAE')\n",
        "plt.show()"
      ],
      "execution_count": 0,
      "outputs": [
        {
          "output_type": "display_data",
          "data": {
            "image/png": "[encoded data removed]",
            "text/plain": [
              "<Figure size 432x288 with 1 Axes>"
            ]
          },
          "metadata": {
            "tags": []
          }
        }
      ]
    },
    {
      "cell_type": "code",
      "metadata": {
        "id": "DH3Jw46FA3NJ",
        "colab_type": "code",
        "colab": {}
      },
      "source": [
        ""
      ],
      "execution_count": 0,
      "outputs": []
    },
    {
      "cell_type": "code",
      "metadata": {
        "id": "bf3aB6MW_sNo",
        "colab_type": "code",
        "colab": {}
      },
      "source": [
        ""
      ],
      "execution_count": 0,
      "outputs": []
    },
    {
      "cell_type": "markdown",
      "metadata": {
        "id": "r8E81NUUBAEs",
        "colab_type": "text"
      },
      "source": [
        "According to this plot, it seems that validation MAE stops improving significantly after 80 epochs. Past that point, we start overfitting.\n",
        "\n",
        "\n",
        "Once we are done tuning other parameters of our model (besides the number of epochs, we could also adjust the size of the hidden layers), we can train a final \"production\" model on all of the training data, with the best parameters, then look at its performance on the test data:"
      ]
    },
    {
      "cell_type": "code",
      "metadata": {
        "id": "xpQ77eikA9Xx",
        "colab_type": "code",
        "colab": {}
      },
      "source": [
        ""
      ],
      "execution_count": 0,
      "outputs": []
    },
    {
      "cell_type": "code",
      "metadata": {
        "id": "zVsytgg3A9f4",
        "colab_type": "code",
        "colab": {}
      },
      "source": [
        "# Get a fresh, compiled model.\n",
        "model = build_model()\n",
        "# Train it on the entirety of the data.\n",
        "model.fit(train_data, train_targets,\n",
        "          epochs=80, batch_size=16, verbose=0)\n",
        "test_mse_score, test_mae_score = model.evaluate(test_data, test_targets)"
      ],
      "execution_count": 0,
      "outputs": []
    },
    {
      "cell_type": "code",
      "metadata": {
        "id": "23QckeH-A9c-",
        "colab_type": "code",
        "colab": {}
      },
      "source": [
        ""
      ],
      "execution_count": 0,
      "outputs": []
    },
    {
      "cell_type": "code",
      "metadata": {
        "id": "RHRgq5PTA9Sy",
        "colab_type": "code",
        "colab": {}
      },
      "source": [
        "Here's what you should take away from this example:\n",
        "\n",
        "Regression is done using different loss functions from classification; Mean Squared Error (MSE) is a commonly used loss function for regression.\n",
        "Similarly, evaluation metrics to be used for regression differ from those used for classification; naturally the concept of \"accuracy\" does not apply for regression. A common regression metric is Mean Absolute Error (MAE).\n",
        "When features in the input data have values in different ranges, each feature should be scaled independently as a preprocessing step.\n",
        "When there is little data available, using K-Fold validation is a great way to reliably evaluate a model.\n",
        "When little training data is available, it is preferable to use a small network with very few hidden layers (typically only one or two), in order to avoid severe overfitting."
      ],
      "execution_count": 0,
      "outputs": []
    },
    {
      "cell_type": "markdown",
      "metadata": {
        "id": "xfF6PrpaGKxW",
        "colab_type": "text"
      },
      "source": [
        "# Here's what you should take away from this example:\n",
        "\n",
        "Regression is done using different loss functions from classification; Mean Squared Error (MSE) is a commonly used loss function for regression.\n",
        "\n",
        "\n",
        "Similarly, evaluation metrics to be used for regression differ from those used for classification; naturally the concept of \"accuracy\" does not apply for regression. A common regression metric is Mean Absolute Error (MAE).\n",
        "\n",
        "\n",
        "When features in the input data have values in different ranges, each feature should be scaled independently as a preprocessing step.\n",
        "\n",
        "\n",
        "When there is little data available, using K-Fold validation is a great way to reliably evaluate a model.\n",
        "When little training data is available, it is preferable to use a small network with very few hidden layers (typically only one or two), in order to avoid severe overfitting."
      ]
    },
    {
      "cell_type": "code",
      "metadata": {
        "id": "iHt50Xw-GP_c",
        "colab_type": "code",
        "colab": {}
      },
      "source": [
        ""
      ],
      "execution_count": 0,
      "outputs": []
    }
  ]
}