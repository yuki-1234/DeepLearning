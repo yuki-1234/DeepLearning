{
 "cells": [
  {
   "cell_type": "markdown",
   "metadata": {},
   "source": [
    "# Assignment\n",
    "\n",
    "Build a Text classification model:  1D convnet on the IMDB sentiment-analysis task.\n",
    "\n",
    "\n",
    "\t1.1  Create a directory for tensorboard log files \n",
    "\n",
    "\t1.2  Train the model with keras callbacks from Tensorboard\n",
    "\n",
    "\t1.3  Monitor the metrics \n",
    "\n",
    "\n"
   ]
  },
  {
   "cell_type": "markdown",
   "metadata": {},
   "source": [
    "-"
   ]
  },
  {
   "cell_type": "markdown",
   "metadata": {},
   "source": [
    "This section introduces TensorBoard, a browser-based visualization tool that comes\n",
    "packaged with TensorFlow."
   ]
  },
  {
   "cell_type": "markdown",
   "metadata": {},
   "source": [
    "The key purpose of TensorBoard is to help you visually monitor everything that\n",
    "goes on inside your model during training. If you’re monitoring more information\n",
    "than just the model’s final loss, you can develop a clearer vision of what the model\n",
    "does and doesn’t do, and you can make progress more quickly. TensorBoard gives you\n",
    "access to several neat features, all in your browser:"
   ]
  },
  {
   "cell_type": "markdown",
   "metadata": {},
   "source": [
    "-"
   ]
  },
  {
   "cell_type": "markdown",
   "metadata": {},
   "source": [
    " Visually monitoring metrics during training\n",
    "\n",
    " Visualizing your model architecture\n",
    "\n",
    " Visualizing histograms of activations and gradients\n",
    "\n",
    " Exploring embeddings in 3D"
   ]
  },
  {
   "cell_type": "code",
   "execution_count": null,
   "metadata": {},
   "outputs": [],
   "source": []
  },
  {
   "cell_type": "code",
   "execution_count": null,
   "metadata": {},
   "outputs": [],
   "source": []
  },
  {
   "cell_type": "markdown",
   "metadata": {},
   "source": [
    "### Below code is an example for the model with bad performance because of very less number of feature(words) sellected !!"
   ]
  },
  {
   "cell_type": "code",
   "execution_count": 12,
   "metadata": {},
   "outputs": [],
   "source": [
    "import keras\n",
    "from keras import layers\n",
    "from keras.datasets import imdb\n",
    "from keras.preprocessing import sequence"
   ]
  },
  {
   "cell_type": "code",
   "execution_count": 13,
   "metadata": {},
   "outputs": [],
   "source": [
    "#Number of words to consider as features\n",
    "max_features = 2000\n",
    "\n",
    "#Cuts off texts after this number of words (among max_features most common words)\n",
    "max_len = 500"
   ]
  },
  {
   "cell_type": "code",
   "execution_count": 14,
   "metadata": {},
   "outputs": [],
   "source": [
    "(x_train, y_train), (x_test, y_test) = imdb.load_data(num_words=max_features)\n",
    "x_train = sequence.pad_sequences(x_train, maxlen=max_len)\n",
    "x_test = sequence.pad_sequences(x_test, maxlen=max_len)"
   ]
  },
  {
   "cell_type": "code",
   "execution_count": 15,
   "metadata": {},
   "outputs": [],
   "source": [
    "model = keras.models.Sequential()\n",
    "model.add(layers.Embedding(max_features, 128,\n",
    "input_length=max_len,\n",
    "name='embed'))\n",
    "model.add(layers.Conv1D(32, 7, activation='relu'))\n",
    "model.add(layers.MaxPooling1D(5))\n",
    "model.add(layers.Conv1D(32, 7, activation='relu'))\n",
    "model.add(layers.GlobalMaxPooling1D())\n",
    "model.add(layers.Dense(1))\n"
   ]
  },
  {
   "cell_type": "code",
   "execution_count": 16,
   "metadata": {},
   "outputs": [
    {
     "name": "stdout",
     "output_type": "stream",
     "text": [
      "Model: \"sequential_2\"\n",
      "_________________________________________________________________\n",
      "Layer (type)                 Output Shape              Param #   \n",
      "=================================================================\n",
      "embed (Embedding)            (None, 500, 128)          256000    \n",
      "_________________________________________________________________\n",
      "conv1d_3 (Conv1D)            (None, 494, 32)           28704     \n",
      "_________________________________________________________________\n",
      "max_pooling1d_2 (MaxPooling1 (None, 98, 32)            0         \n",
      "_________________________________________________________________\n",
      "conv1d_4 (Conv1D)            (None, 92, 32)            7200      \n",
      "_________________________________________________________________\n",
      "global_max_pooling1d_2 (Glob (None, 32)                0         \n",
      "_________________________________________________________________\n",
      "dense_2 (Dense)              (None, 1)                 33        \n",
      "=================================================================\n",
      "Total params: 291,937\n",
      "Trainable params: 291,937\n",
      "Non-trainable params: 0\n",
      "_________________________________________________________________\n"
     ]
    }
   ],
   "source": [
    "model.summary()\n"
   ]
  },
  {
   "cell_type": "code",
   "execution_count": 17,
   "metadata": {},
   "outputs": [],
   "source": [
    "model.compile(optimizer='rmsprop',\n",
    "loss='binary_crossentropy',\n",
    "metrics=['acc'])"
   ]
  },
  {
   "cell_type": "markdown",
   "metadata": {},
   "source": [
    "Before you start using TensorBoard, you need to create a directory where you’ll store\n",
    "the log files it generates."
   ]
  },
  {
   "cell_type": "code",
   "execution_count": 18,
   "metadata": {},
   "outputs": [],
   "source": [
    "!mkdir my_log_dir_more_epochs"
   ]
  },
  {
   "cell_type": "markdown",
   "metadata": {},
   "source": [
    "Let’s launch the training with a TensorBoard callback instance. This callback will write\n",
    "\n",
    "log events to disk at the specified location."
   ]
  },
  {
   "cell_type": "markdown",
   "metadata": {},
   "source": [
    "# Training the model with a TensorBoard callback"
   ]
  },
  {
   "cell_type": "code",
   "execution_count": 19,
   "metadata": {},
   "outputs": [],
   "source": [
    "callbacks = [\n",
    "keras.callbacks.TensorBoard(\n",
    "log_dir='my_log_dir_more_epochs'\n",
    ")\n",
    "]"
   ]
  },
  {
   "cell_type": "code",
   "execution_count": 20,
   "metadata": {
    "scrolled": true
   },
   "outputs": [
    {
     "name": "stderr",
     "output_type": "stream",
     "text": [
      "/home/renuk/anaconda3/lib/python3.7/site-packages/tensorflow_core/python/framework/indexed_slices.py:424: UserWarning: Converting sparse IndexedSlices to a dense Tensor of unknown shape. This may consume a large amount of memory.\n",
      "  \"Converting sparse IndexedSlices to a dense Tensor of unknown shape. \"\n"
     ]
    },
    {
     "name": "stdout",
     "output_type": "stream",
     "text": [
      "Train on 20000 samples, validate on 5000 samples\n",
      "Epoch 1/20\n",
      "20000/20000 [==============================] - 50s 3ms/step - loss: 0.5888 - acc: 0.6887 - val_loss: 0.4185 - val_acc: 0.8202\n",
      "Epoch 2/20\n",
      "20000/20000 [==============================] - 5425s 271ms/step - loss: 0.4231 - acc: 0.8112 - val_loss: 0.4523 - val_acc: 0.7970\n",
      "Epoch 3/20\n",
      "20000/20000 [==============================] - 50s 2ms/step - loss: 0.3874 - acc: 0.7754 - val_loss: 0.4318 - val_acc: 0.7922\n",
      "Epoch 4/20\n",
      "20000/20000 [==============================] - 51s 3ms/step - loss: 0.3452 - acc: 0.7306 - val_loss: 0.5021 - val_acc: 0.7216\n",
      "Epoch 5/20\n",
      "20000/20000 [==============================] - 54s 3ms/step - loss: 0.2897 - acc: 0.7071 - val_loss: 0.5687 - val_acc: 0.6544\n",
      "Epoch 6/20\n",
      "20000/20000 [==============================] - 82s 4ms/step - loss: 0.2539 - acc: 0.6794 - val_loss: 0.6119 - val_acc: 0.6030\n",
      "Epoch 7/20\n",
      "20000/20000 [==============================] - 87s 4ms/step - loss: 0.2143 - acc: 0.6076 - val_loss: 1.1846 - val_acc: 0.4484\n",
      "Epoch 8/20\n",
      "20000/20000 [==============================] - 84s 4ms/step - loss: 0.1781 - acc: 0.5572 - val_loss: 0.8117 - val_acc: 0.4596\n",
      "Epoch 9/20\n",
      "20000/20000 [==============================] - 50s 2ms/step - loss: 0.1465 - acc: 0.4703 - val_loss: 1.1044 - val_acc: 0.3996\n",
      "Epoch 10/20\n",
      "20000/20000 [==============================] - 46s 2ms/step - loss: 0.1297 - acc: 0.4196 - val_loss: 0.9481 - val_acc: 0.3838\n",
      "Epoch 11/20\n",
      "20000/20000 [==============================] - 49s 2ms/step - loss: 0.1155 - acc: 0.3507 - val_loss: 1.0159 - val_acc: 0.3274\n",
      "Epoch 12/20\n",
      "20000/20000 [==============================] - 48s 2ms/step - loss: 0.1107 - acc: 0.2991 - val_loss: 1.0360 - val_acc: 0.3166\n",
      "Epoch 13/20\n",
      "20000/20000 [==============================] - 49s 2ms/step - loss: 0.1063 - acc: 0.2711 - val_loss: 1.1019 - val_acc: 0.2852\n",
      "Epoch 14/20\n",
      "20000/20000 [==============================] - 54s 3ms/step - loss: 0.1097 - acc: 0.2412 - val_loss: 1.1275 - val_acc: 0.2752\n",
      "Epoch 15/20\n",
      "20000/20000 [==============================] - 58s 3ms/step - loss: 0.1062 - acc: 0.2123 - val_loss: 1.1429 - val_acc: 0.2542\n",
      "Epoch 16/20\n",
      "20000/20000 [==============================] - 53s 3ms/step - loss: 0.1018 - acc: 0.1743 - val_loss: 1.4476 - val_acc: 0.2216\n",
      "Epoch 17/20\n",
      "20000/20000 [==============================] - 55s 3ms/step - loss: 0.1070 - acc: 0.1572 - val_loss: 1.1636 - val_acc: 0.2344\n",
      "Epoch 18/20\n",
      "20000/20000 [==============================] - 54s 3ms/step - loss: 0.1039 - acc: 0.1419 - val_loss: 1.2116 - val_acc: 0.2234\n",
      "Epoch 19/20\n",
      "20000/20000 [==============================] - 54s 3ms/step - loss: 0.0984 - acc: 0.1292 - val_loss: 1.4041 - val_acc: 0.2110\n",
      "Epoch 20/20\n",
      "20000/20000 [==============================] - 45s 2ms/step - loss: 0.0994 - acc: 0.1182 - val_loss: 1.2784 - val_acc: 0.1988\n"
     ]
    }
   ],
   "source": [
    "history = model.fit(x_train, y_train,\n",
    "epochs=20,\n",
    "batch_size=128,\n",
    "validation_split=0.2,\n",
    "callbacks=callbacks)"
   ]
  },
  {
   "cell_type": "markdown",
   "metadata": {},
   "source": []
  },
  {
   "cell_type": "markdown",
   "metadata": {},
   "source": [
    "At this point, you can launch the TensorBoard server from the command line,\n",
    "\n",
    "instructing it to read the logs the callback is currently writing. The tensorboard utility\n",
    "\n",
    "should have been automatically installed on your machine the moment you installed\n",
    "\n",
    "TensorFlow (for example, via pip ):"
   ]
  },
  {
   "cell_type": "code",
   "execution_count": 26,
   "metadata": {},
   "outputs": [
    {
     "name": "stdout",
     "output_type": "stream",
     "text": [
      "2020-01-23 15:06:58.107520: E tensorflow/core/platform/hadoop/hadoop_file_system.cc:132] HadoopFileSystem load error: libhdfs.so: cannot open shared object file: No such file or directory\n",
      "TensorBoard 2.0.0a20190917 at http://renuk-HP-EliteBook-850-G4:6006/ (Press CTRL+C to quit)\n",
      "^C\n"
     ]
    }
   ],
   "source": [
    "!tensorboard --logdir=my_log_dir_more_epochs"
   ]
  },
  {
   "cell_type": "code",
   "execution_count": null,
   "metadata": {},
   "outputs": [],
   "source": []
  },
  {
   "cell_type": "markdown",
   "metadata": {},
   "source": [
    "## Let's have a look at some histograms and embeddings visualizations"
   ]
  },
  {
   "cell_type": "code",
   "execution_count": 23,
   "metadata": {},
   "outputs": [
    {
     "name": "stderr",
     "output_type": "stream",
     "text": [
      "/home/renuk/anaconda3/lib/python3.7/site-packages/keras/callbacks/tensorboard_v2.py:102: UserWarning: The TensorBoard callback does not support embeddings display when using TensorFlow 2.0. Embeddings-related arguments are ignored.\n",
      "  warnings.warn('The TensorBoard callback does not support '\n"
     ]
    }
   ],
   "source": [
    "callbacks = [\n",
    "keras.callbacks.TensorBoard(\n",
    "log_dir='my_log_dir_histo_word_embeddings',\n",
    "    histogram_freq=1,\n",
    "    embeddings_freq=1,\n",
    "\n",
    ")\n",
    "]"
   ]
  },
  {
   "cell_type": "code",
   "execution_count": 24,
   "metadata": {},
   "outputs": [
    {
     "name": "stdout",
     "output_type": "stream",
     "text": [
      "Train on 20000 samples, validate on 5000 samples\n",
      "Epoch 1/20\n",
      "20000/20000 [==============================] - 53s 3ms/step - loss: 0.0990 - acc: 0.1023 - val_loss: 1.2875 - val_acc: 0.1986\n",
      "Epoch 2/20\n",
      "20000/20000 [==============================] - 50s 2ms/step - loss: 0.1015 - acc: 0.0964 - val_loss: 1.2903 - val_acc: 0.1868\n",
      "Epoch 3/20\n",
      "20000/20000 [==============================] - 56s 3ms/step - loss: 0.0959 - acc: 0.0863 - val_loss: 1.3304 - val_acc: 0.1772\n",
      "Epoch 4/20\n",
      "20000/20000 [==============================] - 53s 3ms/step - loss: 0.0965 - acc: 0.0836 - val_loss: 1.3217 - val_acc: 0.1754\n",
      "Epoch 5/20\n",
      "20000/20000 [==============================] - 77s 4ms/step - loss: 0.0974 - acc: 0.0732 - val_loss: 1.3428 - val_acc: 0.1734\n",
      "Epoch 6/20\n",
      "20000/20000 [==============================] - 101s 5ms/step - loss: 0.0955 - acc: 0.0706 - val_loss: 1.3367 - val_acc: 0.1604\n",
      "Epoch 7/20\n",
      "20000/20000 [==============================] - 94s 5ms/step - loss: 0.0985 - acc: 0.0676 - val_loss: 1.6784 - val_acc: 0.1662\n",
      "Epoch 8/20\n",
      "20000/20000 [==============================] - 114s 6ms/step - loss: 0.0955 - acc: 0.0623 - val_loss: 1.6270 - val_acc: 0.1522\n",
      "Epoch 9/20\n",
      "20000/20000 [==============================] - 78s 4ms/step - loss: 0.0967 - acc: 0.0572 - val_loss: 1.4807 - val_acc: 0.1576\n",
      "Epoch 10/20\n",
      "20000/20000 [==============================] - 65s 3ms/step - loss: 0.0963 - acc: 0.0553 - val_loss: 1.3572 - val_acc: 0.1500\n",
      "Epoch 11/20\n",
      "20000/20000 [==============================] - 53s 3ms/step - loss: 0.0992 - acc: 0.0490 - val_loss: 1.4175 - val_acc: 0.1502\n",
      "Epoch 12/20\n",
      "20000/20000 [==============================] - 65s 3ms/step - loss: 0.0916 - acc: 0.0458 - val_loss: 1.4375 - val_acc: 0.1578\n",
      "Epoch 13/20\n",
      "20000/20000 [==============================] - 57s 3ms/step - loss: 0.0971 - acc: 0.0470 - val_loss: 1.4844 - val_acc: 0.1442\n",
      "Epoch 14/20\n",
      "20000/20000 [==============================] - 56s 3ms/step - loss: 0.0967 - acc: 0.0443 - val_loss: 1.6212 - val_acc: 0.1420\n",
      "Epoch 15/20\n",
      "20000/20000 [==============================] - 54s 3ms/step - loss: 0.0963 - acc: 0.0388 - val_loss: 1.4324 - val_acc: 0.1418\n",
      "Epoch 16/20\n",
      "20000/20000 [==============================] - 57s 3ms/step - loss: 0.0920 - acc: 0.0402 - val_loss: 1.4287 - val_acc: 0.1368\n",
      "Epoch 17/20\n",
      "20000/20000 [==============================] - 59s 3ms/step - loss: 0.0990 - acc: 0.0393 - val_loss: 1.4283 - val_acc: 0.1322\n",
      "Epoch 18/20\n",
      "20000/20000 [==============================] - 63s 3ms/step - loss: 0.0931 - acc: 0.0355 - val_loss: 1.4659 - val_acc: 0.1348\n",
      "Epoch 19/20\n",
      "20000/20000 [==============================] - 53s 3ms/step - loss: 0.0943 - acc: 0.0349 - val_loss: 1.5511 - val_acc: 0.1266\n",
      "Epoch 20/20\n",
      "20000/20000 [==============================] - 61s 3ms/step - loss: 0.0969 - acc: 0.0316 - val_loss: 1.4548 - val_acc: 0.1340\n"
     ]
    }
   ],
   "source": [
    "history = model.fit(x_train, y_train,\n",
    "epochs=20,\n",
    "batch_size=128,\n",
    "validation_split=0.2,\n",
    "callbacks=callbacks)"
   ]
  },
  {
   "cell_type": "code",
   "execution_count": null,
   "metadata": {},
   "outputs": [],
   "source": []
  },
  {
   "cell_type": "code",
   "execution_count": 27,
   "metadata": {},
   "outputs": [
    {
     "name": "stdout",
     "output_type": "stream",
     "text": [
      "2020-01-23 15:13:59.795842: E tensorflow/core/platform/hadoop/hadoop_file_system.cc:132] HadoopFileSystem load error: libhdfs.so: cannot open shared object file: No such file or directory\n",
      "TensorBoard 2.0.0a20190917 at http://renuk-HP-EliteBook-850-G4:6006/ (Press CTRL+C to quit)\n",
      "^C\n"
     ]
    }
   ],
   "source": [
    "!tensorboard --logdir=my_log_dir_histo_word_embeddings"
   ]
  },
  {
   "cell_type": "code",
   "execution_count": null,
   "metadata": {},
   "outputs": [],
   "source": []
  },
  {
   "cell_type": "code",
   "execution_count": null,
   "metadata": {},
   "outputs": [],
   "source": []
  },
  {
   "cell_type": "code",
   "execution_count": null,
   "metadata": {},
   "outputs": [],
   "source": []
  },
  {
   "cell_type": "code",
   "execution_count": null,
   "metadata": {},
   "outputs": [],
   "source": []
  },
  {
   "cell_type": "markdown",
   "metadata": {},
   "source": [
    "# Additional Information on Using Tensorboard within Jupyter notebooks"
   ]
  },
  {
   "cell_type": "code",
   "execution_count": 16,
   "metadata": {},
   "outputs": [],
   "source": [
    "!pip install -q tf-nightly-2.0-preview\n",
    "\n",
    "# Load the TensorBoard notebook extension\n",
    "%load_ext tensorboard"
   ]
  },
  {
   "cell_type": "code",
   "execution_count": 17,
   "metadata": {},
   "outputs": [],
   "source": [
    "import tensorflow as tf\n",
    "import datetime"
   ]
  },
  {
   "cell_type": "code",
   "execution_count": 18,
   "metadata": {},
   "outputs": [],
   "source": [
    "# Clear any logs from previous runs\n",
    "!rm -rf ./logs/ "
   ]
  },
  {
   "cell_type": "code",
   "execution_count": 19,
   "metadata": {},
   "outputs": [
    {
     "name": "stdout",
     "output_type": "stream",
     "text": [
      "Downloading data from https://storage.googleapis.com/tensorflow/tf-keras-datasets/mnist.npz\n",
      "11493376/11490434 [==============================] - 3s 0us/step\n"
     ]
    }
   ],
   "source": [
    "mnist = tf.keras.datasets.mnist\n",
    "\n",
    "(x_train, y_train),(x_test, y_test) = mnist.load_data()\n",
    "x_train, x_test = x_train / 255.0, x_test / 255.0\n",
    "\n",
    "def create_model():\n",
    "  return tf.keras.models.Sequential([\n",
    "    tf.keras.layers.Flatten(input_shape=(28, 28)),\n",
    "    tf.keras.layers.Dense(512, activation='relu'),\n",
    "    tf.keras.layers.Dropout(0.2),\n",
    "    tf.keras.layers.Dense(10, activation='softmax')\n",
    "  ])"
   ]
  },
  {
   "cell_type": "code",
   "execution_count": 21,
   "metadata": {},
   "outputs": [
    {
     "name": "stdout",
     "output_type": "stream",
     "text": [
      "Train on 60000 samples, validate on 10000 samples\n",
      "Epoch 1/5\n",
      "60000/60000 [==============================] - 11s 189us/sample - loss: 0.2210 - acc: 0.9349 - val_loss: 0.1131 - val_acc: 0.9640\n",
      "Epoch 2/5\n",
      "60000/60000 [==============================] - 12s 193us/sample - loss: 0.0980 - acc: 0.9701 - val_loss: 0.0830 - val_acc: 0.9726\n",
      "Epoch 3/5\n",
      "60000/60000 [==============================] - 12s 196us/sample - loss: 0.0691 - acc: 0.9782 - val_loss: 0.0783 - val_acc: 0.9750\n",
      "Epoch 4/5\n",
      "60000/60000 [==============================] - 12s 200us/sample - loss: 0.0537 - acc: 0.9829 - val_loss: 0.0667 - val_acc: 0.9778\n",
      "Epoch 5/5\n",
      "60000/60000 [==============================] - 12s 195us/sample - loss: 0.0420 - acc: 0.9866 - val_loss: 0.0716 - val_acc: 0.9785\n"
     ]
    },
    {
     "data": {
      "text/plain": [
       "<tensorflow.python.keras.callbacks.History at 0x7f84c4139438>"
      ]
     },
     "execution_count": 21,
     "metadata": {},
     "output_type": "execute_result"
    }
   ],
   "source": [
    "model = create_model()\n",
    "model.compile(optimizer='adam',\n",
    "              loss='sparse_categorical_crossentropy',\n",
    "              metrics=['accuracy'])\n",
    "\n",
    "log_dir=\"logs/fit/\" + datetime.datetime.now().strftime(\"%Y%m%d-%H%M%S\")\n",
    "tensorboard_callback = tf.keras.callbacks.TensorBoard(log_dir=log_dir, histogram_freq=0)\n",
    "\n",
    "model.fit(x=x_train, \n",
    "          y=y_train, \n",
    "          epochs=5, \n",
    "          validation_data=(x_test, y_test), \n",
    "          callbacks=[tensorboard_callback])"
   ]
  },
  {
   "cell_type": "code",
   "execution_count": 22,
   "metadata": {},
   "outputs": [
    {
     "data": {
      "text/html": [
       "\n",
       "      <iframe id=\"tensorboard-frame-5cf3629d14bcaa3d\" width=\"100%\" height=\"800\" frameborder=\"0\">\n",
       "      </iframe>\n",
       "      <script>\n",
       "        (function() {\n",
       "          const frame = document.getElementById(\"tensorboard-frame-5cf3629d14bcaa3d\");\n",
       "          const url = new URL(\"/\", window.location);\n",
       "          url.port = 6007;\n",
       "          frame.src = url;\n",
       "        })();\n",
       "      </script>\n",
       "  "
      ],
      "text/plain": [
       "<IPython.core.display.HTML object>"
      ]
     },
     "metadata": {},
     "output_type": "display_data"
    }
   ],
   "source": [
    "%tensorboard --logdir logs/fit"
   ]
  },
  {
   "cell_type": "code",
   "execution_count": null,
   "metadata": {},
   "outputs": [],
   "source": []
  },
  {
   "cell_type": "markdown",
   "metadata": {},
   "source": [
    "# Visualize word embeddings "
   ]
  },
  {
   "cell_type": "markdown",
   "metadata": {},
   "source": [
    "Using the Embedding layer\n",
    "\n",
    "Keras makes it easy to use word embeddings. Let's take a look at the Embedding layer."
   ]
  },
  {
   "cell_type": "code",
   "execution_count": 64,
   "metadata": {},
   "outputs": [
    {
     "name": "stdout",
     "output_type": "stream",
     "text": [
      "WARNING:tensorflow:From /home/renuk/anaconda3/lib/python3.7/site-packages/tensorflow/python/keras/initializers.py:119: calling RandomUniform.__init__ (from tensorflow.python.ops.init_ops) with dtype is deprecated and will be removed in a future version.\n",
      "Instructions for updating:\n",
      "Call initializer instance with the dtype argument instead of passing it to the constructor\n"
     ]
    }
   ],
   "source": [
    "from __future__ import absolute_import, division, print_function, unicode_literals\n",
    "\n",
    "try:\n",
    "  # %tensorflow_version only exists in Colab.\n",
    "  %tensorflow_version 2.x\n",
    "except Exception:\n",
    "  pass\n",
    "import tensorflow as tf\n",
    "\n",
    "from tensorflow import keras\n",
    "from tensorflow.keras import layers\n",
    "\n",
    "# The Embedding layer takes at least two arguments:\n",
    "# the number of possible words in the vocabulary, here 1000 (1 + maximum word index),\n",
    "# and the dimensionality of the embeddings, here 32.\n",
    "embedding_layer = layers.Embedding(1000, 32)"
   ]
  },
  {
   "cell_type": "raw",
   "metadata": {},
   "source": [
    "Learning embeddings from scratch\n",
    "\n",
    "We will train a sentiment classifier on IMDB movie reviews.\n",
    "\n",
    "In the process, we will learn embeddings from scratch.\n",
    "\n",
    "We will move quickly through the code that downloads and preprocesses the dataset "
   ]
  },
  {
   "cell_type": "code",
   "execution_count": 65,
   "metadata": {},
   "outputs": [],
   "source": [
    "vocab_size = 10000\n",
    "imdb = keras.datasets.imdb\n",
    "(train_data, train_labels), (test_data, test_labels) = imdb.load_data(num_words=vocab_size)"
   ]
  },
  {
   "cell_type": "markdown",
   "metadata": {},
   "source": [
    "As imported, the text of reviews is integer-encoded (each integer represents a specific word in a dictionary)."
   ]
  },
  {
   "cell_type": "code",
   "execution_count": 66,
   "metadata": {},
   "outputs": [
    {
     "name": "stdout",
     "output_type": "stream",
     "text": [
      "[1, 14, 22, 16, 43, 530, 973, 1622, 1385, 65, 458, 4468, 66, 3941, 4, 173, 36, 256, 5, 25, 100, 43, 838, 112, 50, 670, 2, 9, 35, 480, 284, 5, 150, 4, 172, 112, 167, 2, 336, 385, 39, 4, 172, 4536, 1111, 17, 546, 38, 13, 447, 4, 192, 50, 16, 6, 147, 2025, 19, 14, 22, 4, 1920, 4613, 469, 4, 22, 71, 87, 12, 16, 43, 530, 38, 76, 15, 13, 1247, 4, 22, 17, 515, 17, 12, 16, 626, 18, 2, 5, 62, 386, 12, 8, 316, 8, 106, 5, 4, 2223, 5244, 16, 480, 66, 3785, 33, 4, 130, 12, 16, 38, 619, 5, 25, 124, 51, 36, 135, 48, 25, 1415, 33, 6, 22, 12, 215, 28, 77, 52, 5, 14, 407, 16, 82, 2, 8, 4, 107, 117, 5952, 15, 256, 4, 2, 7, 3766, 5, 723, 36, 71, 43, 530, 476, 26, 400, 317, 46, 7, 4, 2, 1029, 13, 104, 88, 4, 381, 15, 297, 98, 32, 2071, 56, 26, 141, 6, 194, 7486, 18, 4, 226, 22, 21, 134, 476, 26, 480, 5, 144, 30, 5535, 18, 51, 36, 28, 224, 92, 25, 104, 4, 226, 65, 16, 38, 1334, 88, 12, 16, 283, 5, 16, 4472, 113, 103, 32, 15, 16, 5345, 19, 178, 32]\n"
     ]
    }
   ],
   "source": [
    "print(train_data[0])"
   ]
  },
  {
   "cell_type": "raw",
   "metadata": {},
   "source": [
    "Convert the integers back to words\n",
    "\n",
    "It may be useful to know how to convert integers back to text. \n",
    "\n",
    "Here, we'll create a helper function to query a dictionary object that contains the integer to string mapping:"
   ]
  },
  {
   "cell_type": "code",
   "execution_count": 67,
   "metadata": {},
   "outputs": [
    {
     "name": "stdout",
     "output_type": "stream",
     "text": [
      "Downloading data from https://storage.googleapis.com/tensorflow/tf-keras-datasets/imdb_word_index.json\n",
      "1646592/1641221 [==============================] - 0s 0us/step\n"
     ]
    },
    {
     "data": {
      "text/plain": [
       "\"<START> this film was just brilliant casting location scenery story direction everyone's really suited the part they played and you could just imagine being there robert <UNK> is an amazing actor and now the same being director <UNK> father came from the same scottish island as myself so i loved the fact there was a real connection with this film the witty remarks throughout the film were great it was just brilliant so much that i bought the film as soon as it was released for <UNK> and would recommend it to everyone to watch and the fly fishing was amazing really cried at the end it was so sad and you know what they say if you cry at a film it must have been good and this definitely was also <UNK> to the two little boy's that played the <UNK> of norman and paul they were just brilliant children are often left out of the <UNK> list i think because the stars that play them all grown up are such a big profile for the whole film but these children are amazing and should be praised for what they have done don't you think the whole story was so lovely because it was true and was someone's life after all that was shared with us all\""
      ]
     },
     "execution_count": 67,
     "metadata": {},
     "output_type": "execute_result"
    }
   ],
   "source": [
    "# A dictionary mapping words to an integer index\n",
    "word_index = imdb.get_word_index()\n",
    "\n",
    "# The first indices are reserved\n",
    "word_index = {k:(v+3) for k,v in word_index.items()}\n",
    "word_index[\"<PAD>\"] = 0\n",
    "word_index[\"<START>\"] = 1\n",
    "word_index[\"<UNK>\"] = 2  # unknown\n",
    "word_index[\"<UNUSED>\"] = 3\n",
    "\n",
    "reverse_word_index = dict([(value, key) for (key, value) in word_index.items()])\n",
    "\n",
    "def decode_review(text):\n",
    "    return ' '.join([reverse_word_index.get(i, '?') for i in text])\n",
    "\n",
    "decode_review(train_data[0])"
   ]
  },
  {
   "cell_type": "code",
   "execution_count": null,
   "metadata": {},
   "outputs": [],
   "source": []
  },
  {
   "cell_type": "markdown",
   "metadata": {},
   "source": [
    "Movie reviews can be different lengths. \n",
    "\n",
    "We will use the pad_sequences function to standardize the lengths of the reviews."
   ]
  },
  {
   "cell_type": "code",
   "execution_count": 68,
   "metadata": {},
   "outputs": [],
   "source": [
    "maxlen = 500\n",
    "\n",
    "train_data = keras.preprocessing.sequence.pad_sequences(train_data,\n",
    "                                                        value=word_index[\"<PAD>\"],\n",
    "                                                        padding='post',\n",
    "                                                        maxlen=maxlen)\n",
    "\n",
    "test_data = keras.preprocessing.sequence.pad_sequences(test_data,\n",
    "                                                       value=word_index[\"<PAD>\"],\n",
    "                                                       padding='post',\n",
    "                                                       maxlen=maxlen)"
   ]
  },
  {
   "cell_type": "markdown",
   "metadata": {},
   "source": []
  },
  {
   "cell_type": "code",
   "execution_count": 69,
   "metadata": {},
   "outputs": [
    {
     "name": "stdout",
     "output_type": "stream",
     "text": [
      "[   1   14   22   16   43  530  973 1622 1385   65  458 4468   66 3941\n",
      "    4  173   36  256    5   25  100   43  838  112   50  670    2    9\n",
      "   35  480  284    5  150    4  172  112  167    2  336  385   39    4\n",
      "  172 4536 1111   17  546   38   13  447    4  192   50   16    6  147\n",
      " 2025   19   14   22    4 1920 4613  469    4   22   71   87   12   16\n",
      "   43  530   38   76   15   13 1247    4   22   17  515   17   12   16\n",
      "  626   18    2    5   62  386   12    8  316    8  106    5    4 2223\n",
      " 5244   16  480   66 3785   33    4  130   12   16   38  619    5   25\n",
      "  124   51   36  135   48   25 1415   33    6   22   12  215   28   77\n",
      "   52    5   14  407   16   82    2    8    4  107  117 5952   15  256\n",
      "    4    2    7 3766    5  723   36   71   43  530  476   26  400  317\n",
      "   46    7    4    2 1029   13  104   88    4  381   15  297   98   32\n",
      " 2071   56   26  141    6  194 7486   18    4  226   22   21  134  476\n",
      "   26  480    5  144   30 5535   18   51   36   28  224   92   25  104\n",
      "    4  226   65   16   38 1334   88   12   16  283    5   16 4472  113\n",
      "  103   32   15   16 5345   19  178   32    0    0    0    0    0    0\n",
      "    0    0    0    0    0    0    0    0    0    0    0    0    0    0\n",
      "    0    0    0    0    0    0    0    0    0    0    0    0    0    0\n",
      "    0    0    0    0    0    0    0    0    0    0    0    0    0    0\n",
      "    0    0    0    0    0    0    0    0    0    0    0    0    0    0\n",
      "    0    0    0    0    0    0    0    0    0    0    0    0    0    0\n",
      "    0    0    0    0    0    0    0    0    0    0    0    0    0    0\n",
      "    0    0    0    0    0    0    0    0    0    0    0    0    0    0\n",
      "    0    0    0    0    0    0    0    0    0    0    0    0    0    0\n",
      "    0    0    0    0    0    0    0    0    0    0    0    0    0    0\n",
      "    0    0    0    0    0    0    0    0    0    0    0    0    0    0\n",
      "    0    0    0    0    0    0    0    0    0    0    0    0    0    0\n",
      "    0    0    0    0    0    0    0    0    0    0    0    0    0    0\n",
      "    0    0    0    0    0    0    0    0    0    0    0    0    0    0\n",
      "    0    0    0    0    0    0    0    0    0    0    0    0    0    0\n",
      "    0    0    0    0    0    0    0    0    0    0    0    0    0    0\n",
      "    0    0    0    0    0    0    0    0    0    0    0    0    0    0\n",
      "    0    0    0    0    0    0    0    0    0    0    0    0    0    0\n",
      "    0    0    0    0    0    0    0    0    0    0    0    0    0    0\n",
      "    0    0    0    0    0    0    0    0    0    0    0    0    0    0\n",
      "    0    0    0    0    0    0    0    0    0    0]\n"
     ]
    }
   ],
   "source": [
    "#Let's inspect the first padded review.\n",
    "\n",
    "print(train_data[0])"
   ]
  },
  {
   "cell_type": "markdown",
   "metadata": {},
   "source": [
    "Create a simple model\n",
    "We will use the Keras Sequential API to define our model.\n",
    "\n",
    "The first layer is an Embedding layer. \n",
    "This layer takes the integer-encoded vocabulary and looks up the embedding vector for each word-index. \n",
    "These vectors are learned as the model trains. The vectors add a dimension to the output array.\n",
    "The resulting dimensions are: `(batch, sequence, embedding)``.\n",
    "\n",
    "Next, a GlobalAveragePooling1D layer returns a fixed-length output vector for each example by averaging over the sequence dimension. \n",
    "This allows the model to handle input of variable length, in the simplest way possible.\n",
    "\n",
    "This fixed-length output vector is piped through a fully-connected (Dense) layer with 16 hidden units.\n",
    "\n",
    "The last layer is densely connected with a single output node. \n",
    "Using the sigmoid activation function, this value is a float between 0 and 1,\n",
    "representing a probability (or confidence level) that the review is positive."
   ]
  },
  {
   "cell_type": "code",
   "execution_count": 70,
   "metadata": {},
   "outputs": [
    {
     "name": "stdout",
     "output_type": "stream",
     "text": [
      "Model: \"sequential_2\"\n",
      "_________________________________________________________________\n",
      "Layer (type)                 Output Shape              Param #   \n",
      "=================================================================\n",
      "embedding_1 (Embedding)      (None, 500, 16)           160000    \n",
      "_________________________________________________________________\n",
      "global_average_pooling1d (Gl (None, 16)                0         \n",
      "_________________________________________________________________\n",
      "dense_4 (Dense)              (None, 16)                272       \n",
      "_________________________________________________________________\n",
      "dense_5 (Dense)              (None, 1)                 17        \n",
      "=================================================================\n",
      "Total params: 160,289\n",
      "Trainable params: 160,289\n",
      "Non-trainable params: 0\n",
      "_________________________________________________________________\n"
     ]
    }
   ],
   "source": [
    "embedding_dim=16\n",
    "\n",
    "model = keras.Sequential([\n",
    "  layers.Embedding(vocab_size, embedding_dim, input_length=maxlen),\n",
    "  layers.GlobalAveragePooling1D(),\n",
    "  layers.Dense(16, activation='relu'),\n",
    "  layers.Dense(1, activation='sigmoid')\n",
    "])\n",
    "\n",
    "model.summary()"
   ]
  },
  {
   "cell_type": "raw",
   "metadata": {},
   "source": [
    "Compile and train the model\n",
    "\n"
   ]
  },
  {
   "cell_type": "code",
   "execution_count": 71,
   "metadata": {},
   "outputs": [],
   "source": [
    "model.compile(optimizer='adam',\n",
    "              loss='binary_crossentropy',\n",
    "              metrics=['accuracy'])\n",
    "\n"
   ]
  },
  {
   "cell_type": "code",
   "execution_count": 72,
   "metadata": {},
   "outputs": [
    {
     "name": "stdout",
     "output_type": "stream",
     "text": [
      "Train on 25000 samples, validate on 25000 samples\n",
      "Epoch 1/10\n",
      "25000/25000 [==============================] - 4s 146us/sample - loss: 0.6918 - acc: 0.6086 - val_loss: 0.6899 - val_acc: 0.6211\n",
      "Epoch 2/10\n",
      "25000/25000 [==============================] - 3s 126us/sample - loss: 0.6843 - acc: 0.6835 - val_loss: 0.6768 - val_acc: 0.7416\n",
      "Epoch 3/10\n",
      "25000/25000 [==============================] - 3s 139us/sample - loss: 0.6606 - acc: 0.7472 - val_loss: 0.6450 - val_acc: 0.7675\n",
      "Epoch 4/10\n",
      "25000/25000 [==============================] - 3s 102us/sample - loss: 0.6150 - acc: 0.7868 - val_loss: 0.5946 - val_acc: 0.7814\n",
      "Epoch 5/10\n",
      "25000/25000 [==============================] - 3s 103us/sample - loss: 0.5525 - acc: 0.8150 - val_loss: 0.5336 - val_acc: 0.8141\n",
      "Epoch 6/10\n",
      "25000/25000 [==============================] - 3s 125us/sample - loss: 0.4860 - acc: 0.8404 - val_loss: 0.4760 - val_acc: 0.8338\n",
      "Epoch 7/10\n",
      "25000/25000 [==============================] - 3s 109us/sample - loss: 0.4273 - acc: 0.8612 - val_loss: 0.4296 - val_acc: 0.8475\n",
      "Epoch 8/10\n",
      "25000/25000 [==============================] - 3s 113us/sample - loss: 0.3808 - acc: 0.8726 - val_loss: 0.3940 - val_acc: 0.8566\n",
      "Epoch 9/10\n",
      "25000/25000 [==============================] - 3s 105us/sample - loss: 0.3446 - acc: 0.8828 - val_loss: 0.3681 - val_acc: 0.8629\n",
      "Epoch 10/10\n",
      "25000/25000 [==============================] - 3s 117us/sample - loss: 0.3172 - acc: 0.8898 - val_loss: 0.3491 - val_acc: 0.8676\n"
     ]
    }
   ],
   "source": [
    "history = model.fit(\n",
    "    train_data,\n",
    "    train_labels,\n",
    "    epochs=10,\n",
    "    batch_size=512,\n",
    "    validation_data=(test_data, test_labels))"
   ]
  },
  {
   "cell_type": "code",
   "execution_count": 74,
   "metadata": {},
   "outputs": [],
   "source": [
    "import matplotlib.pyplot as plt\n",
    "\n",
    "history_dict = history.history\n",
    "\n"
   ]
  },
  {
   "cell_type": "code",
   "execution_count": 77,
   "metadata": {},
   "outputs": [
    {
     "data": {
      "image/png": "[encoded data removed]",
      "text/plain": [
       "<Figure size 864x648 with 1 Axes>"
      ]
     },
     "metadata": {
      "needs_background": "light"
     },
     "output_type": "display_data"
    },
    {
     "data": {
      "image/png": "[encoded data removed]",
      "text/plain": [
       "<Figure size 864x648 with 1 Axes>"
      ]
     },
     "metadata": {
      "needs_background": "light"
     },
     "output_type": "display_data"
    }
   ],
   "source": [
    "acc = history_dict['acc']\n",
    "val_acc = history_dict['val_acc']\n",
    "loss = history_dict['loss']\n",
    "val_loss = history_dict['val_loss']\n",
    "\n",
    "epochs = range(1, len(acc) + 1)\n",
    "\n",
    "plt.figure(figsize=(12,9))\n",
    "plt.plot(epochs, loss, 'bo', label='Training loss')\n",
    "plt.plot(epochs, val_loss, 'b', label='Validation loss')\n",
    "plt.title('Training and validation loss')\n",
    "plt.xlabel('Epochs')\n",
    "plt.ylabel('Loss')\n",
    "plt.legend()\n",
    "plt.show()\n",
    "\n",
    "plt.figure(figsize=(12,9))\n",
    "plt.plot(epochs, acc, 'bo', label='Training acc')\n",
    "plt.plot(epochs, val_acc, 'b', label='Validation acc')\n",
    "plt.title('Training and validation accuracy')\n",
    "plt.xlabel('Epochs')\n",
    "plt.ylabel('Accuracy')\n",
    "plt.legend(loc='lower right')\n",
    "plt.ylim((0.5,1))\n",
    "plt.show()"
   ]
  },
  {
   "cell_type": "raw",
   "metadata": {},
   "source": []
  },
  {
   "cell_type": "markdown",
   "metadata": {},
   "source": [
    "Retrieve the learned embeddings\n",
    "\n",
    "Next, let's retrieve the word embeddings learned during training. \n",
    "\n",
    "This will be a matrix of shape (vocab_size,embedding-dimension)."
   ]
  },
  {
   "cell_type": "code",
   "execution_count": 78,
   "metadata": {},
   "outputs": [
    {
     "name": "stdout",
     "output_type": "stream",
     "text": [
      "(10000, 16)\n"
     ]
    }
   ],
   "source": [
    "e = model.layers[0]\n",
    "weights = e.get_weights()[0]\n",
    "print(weights.shape) # shape: (vocab_size, embedding_dim)"
   ]
  },
  {
   "cell_type": "markdown",
   "metadata": {},
   "source": [
    "We will now write the weights to disk. To use the Embedding Projector, \n",
    "\n",
    "we will upload two files in tab separated format: a file of vectors (containing the embedding),\n",
    "    \n",
    "    and a file of meta data (containing the words)."
   ]
  },
  {
   "cell_type": "code",
   "execution_count": 79,
   "metadata": {},
   "outputs": [],
   "source": [
    "import io\n",
    "\n",
    "out_v = io.open('vecs.tsv', 'w', encoding='utf-8')\n",
    "out_m = io.open('meta.tsv', 'w', encoding='utf-8')\n",
    "for word_num in range(vocab_size):\n",
    "  word = reverse_word_index[word_num]\n",
    "  embeddings = weights[word_num]\n",
    "  out_m.write(word + \"\\n\")\n",
    "  out_v.write('\\t'.join([str(x) for x in embeddings]) + \"\\n\")\n",
    "out_v.close()\n",
    "out_m.close()"
   ]
  },
  {
   "cell_type": "raw",
   "metadata": {},
   "source": [
    "If you are running this tutorial in Colaboratory, \n",
    "\n",
    "you can use the following snippet to download these files to your local machine \n",
    "\n",
    "(or use the file browser, View -> Table of contents -> File browser)."
   ]
  },
  {
   "cell_type": "code",
   "execution_count": 80,
   "metadata": {},
   "outputs": [],
   "source": [
    "try:\n",
    "  from google.colab import files\n",
    "except ImportError:\n",
    "   pass\n",
    "else:\n",
    "  files.download('vecs.tsv')\n",
    "  files.download('meta.tsv')"
   ]
  },
  {
   "cell_type": "raw",
   "metadata": {},
   "source": [
    "Visualize the embeddings\n",
    "To visualize our embeddings we will upload them to the embedding projector.\n",
    "\n",
    "Open the Embedding Projector.\n",
    "\n",
    "Click on \"Load data\".\n",
    "\n",
    "Upload the two files we created above: vecs.tsv and meta.tsv. T\n",
    "\n",
    "The embeddings you have trained will now be displayed. \n",
    "\n",
    "You can search for words to find their closest neighbors. \n",
    "\n",
    "For example, try searching for \"beautiful\". You may see neighbors like \"wonderful\".\n",
    "\n",
    "Note: your results may be a bit different, \n",
    "    \n",
    "depending on how weights were randomly initialized before training the embedding layer."
   ]
  },
  {
   "cell_type": "code",
   "execution_count": null,
   "metadata": {},
   "outputs": [],
   "source": []
  }
 ],
 "metadata": {
  "kernelspec": {
   "display_name": "Python 3",
   "language": "python",
   "name": "python3"
  },
  "language_info": {
   "codemirror_mode": {
    "name": "ipython",
    "version": 3
   },
   "file_extension": ".py",
   "mimetype": "text/x-python",
   "name": "python",
   "nbconvert_exporter": "python",
   "pygments_lexer": "ipython3",
   "version": "3.7.3"
  }
 },
 "nbformat": 4,
 "nbformat_minor": 2
}
